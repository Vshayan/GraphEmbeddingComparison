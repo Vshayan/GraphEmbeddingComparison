{
 "cells": [
  {
   "cell_type": "code",
   "execution_count": 2,
   "metadata": {},
   "outputs": [],
   "source": [
    "import warnings\n",
    "warnings.filterwarnings(\"ignore\", message=\"IProgress not found. Please update jupyter and ipywidgets.\")\n",
    "import networkx as nx\n",
    "from networkx import to_numpy_array\n",
    "from node2vec import Node2Vec\n",
    "import numpy as np\n",
    "from sklearn.cluster import KMeans\n",
    "from sknetwork.data import karate_club\n",
    "from sknetwork.clustering import get_modularity\n",
    "from datetime import datetime\n",
    "from sklearn.preprocessing import MinMaxScaler\n",
    "from sklearn.preprocessing import normalize\n",
    "import torch\n",
    "import torch.nn as nn\n",
    "import torch.optim as optim\n",
    "from sklearn.decomposition import TruncatedSVD\n",
    "from scipy.sparse import csr_matrix"
   ]
  },
  {
   "cell_type": "markdown",
   "metadata": {},
   "source": [
    "# Initial defenitions"
   ]
  },
  {
   "cell_type": "code",
   "execution_count": 2,
   "metadata": {},
   "outputs": [],
   "source": [
    "# Creating graphs from data\n",
    "\n",
    "graph_karate = nx.karate_club_graph()\n",
    "\n",
    "graph_dolphin = nx.Graph()\n",
    "\n",
    "with open('soc-dolphins.txt', 'r') as file:\n",
    "    for line in file:\n",
    "        node1, node2 = line.strip().split()\n",
    "        graph_dolphin.add_edge(node1, node2)\n",
    "\n",
    "graph_football = nx.Graph()\n",
    "\n",
    "with open('American_football.txt', 'r') as file:\n",
    "    for line in file:\n",
    "        node1, node2 = line.strip().split()\n",
    "        graph_football.add_edge(node1, node2)\n",
    "\n",
    "\n",
    "graph_book = nx.Graph()\n",
    "\n",
    "with open('book.txt', 'r') as file:\n",
    "    for line in file:\n",
    "        node1, node2 = line.strip().split()\n",
    "        graph_book.add_edge(node1, node2)\n",
    "\n"
   ]
  },
  {
   "cell_type": "code",
   "execution_count": 3,
   "metadata": {},
   "outputs": [],
   "source": [
    "# Calculating adjancency and position\n",
    "def get_adjacency_and_position(graph):\n",
    "  adjacency = csr_matrix(nx.to_numpy_array(graph))\n",
    "  position_dict = nx.spring_layout(graph)\n",
    "  position = np.array(list(position_dict.values()))\n",
    "  return adjacency, position\n",
    "\n",
    "\n",
    "def get_node_array_without_embedding(graph):\n",
    "  '''\n",
    "  Convert graph to array without embedding\n",
    "  '''\n",
    "  node_array = to_numpy_array(graph)\n",
    "  return node_array\n",
    "\n",
    "\n",
    "# Node2vec\n",
    "def get_embedded_node_array_using_node2vec_weighted(graph):\n",
    "\n",
    "    model = Node2Vec(graph, dimensions=64, walk_length=80, num_walks=100, p=0.5, q=1.0, weight_key='weight')\n",
    "    model = model.fit(window=10, min_count=1)\n",
    "\n",
    "    embeddings = {node: model.wv[str(node)] for node in graph.nodes()}\n",
    "    embedded_node_array = np.array(list(embeddings.values()))\n",
    "\n",
    "    norm = np.linalg.norm(embedded_node_array, axis=1, keepdims=True)\n",
    "\n",
    "    embedded_node_array = embedded_node_array / norm\n",
    "    return embedded_node_array\n",
    "\n",
    "# HOPE\n",
    "def get_hope_embedding(graph, d=32):\n",
    "\n",
    "    adjacency_matrix = nx.to_numpy_array(graph)\n",
    "    identity_matrix = np.eye(adjacency_matrix.shape[0])\n",
    "\n",
    "    katz_matrix = np.linalg.inv(identity_matrix - 0.5 * adjacency_matrix) - identity_matrix\n",
    "    katz_matrix = np.asarray(katz_matrix)  \n",
    "\n",
    "    svd = TruncatedSVD(n_components=d)\n",
    "    U = svd.fit_transform(katz_matrix)\n",
    "    S = svd.singular_values_\n",
    "    V = svd.components_.T\n",
    "\n",
    "    hope_embedding = np.concatenate((U * np.sqrt(S), V * np.sqrt(S)), axis=1)\n",
    "\n",
    "    norm = np.linalg.norm(hope_embedding, axis=1, keepdims=True)\n",
    "    \n",
    "    hope_embedding = hope_embedding / norm\n",
    "    return hope_embedding\n",
    "\n",
    "# SDNE\n",
    "def train_sdne(graph, hidden_layers=[256, 64], epochs=100, learning_rate=0.01):    \n",
    "    class SDNE(nn.Module):\n",
    "        def __init__(self, input_dim, hidden_layers, alpha=1e-5, beta=5):\n",
    "            super(SDNE, self).__init__()\n",
    "            self.alpha = alpha\n",
    "            self.beta = beta\n",
    "            self.encoder = nn.Sequential(\n",
    "                nn.Linear(input_dim, hidden_layers[0]),\n",
    "                nn.ReLU(),\n",
    "                nn.Linear(hidden_layers[0], hidden_layers[1])\n",
    "            )\n",
    "            self.decoder = nn.Sequential(\n",
    "                nn.Linear(hidden_layers[1], hidden_layers[0]),\n",
    "                nn.ReLU(),\n",
    "                nn.Linear(hidden_layers[0], input_dim)\n",
    "            )\n",
    "\n",
    "        def forward(self, x):\n",
    "            encoded = self.encoder(x)\n",
    "            reconstructed = self.decoder(encoded)\n",
    "            return encoded, reconstructed\n",
    "\n",
    "        def loss(self, x, reconstructed, L):\n",
    "            bce_loss = nn.BCEWithLogitsLoss()(reconstructed, x)\n",
    "            L_loss = self.beta * torch.mean(torch.sum(L * (x - reconstructed) ** 2, dim=1))\n",
    "            return bce_loss + self.alpha * L_loss\n",
    "\n",
    "    def get_adjacency_matrix(graph):\n",
    "        adjacency_matrix = nx.to_numpy_array(graph)\n",
    "        return adjacency_matrix\n",
    "\n",
    "    adjacency_matrix = get_adjacency_matrix(graph)\n",
    "    L = torch.FloatTensor(adjacency_matrix)\n",
    "    D = np.diag(np.sum(adjacency_matrix, axis=1))\n",
    "    L = D - adjacency_matrix\n",
    "    L = torch.FloatTensor(L)\n",
    "\n",
    "    model = SDNE(adjacency_matrix.shape[1], hidden_layers)\n",
    "    optimizer = optim.Adam(model.parameters(), lr=learning_rate)\n",
    "\n",
    "    adjacency_matrix = torch.FloatTensor(adjacency_matrix)\n",
    "\n",
    "    for epoch in range(epochs):\n",
    "        model.train()\n",
    "        optimizer.zero_grad()\n",
    "        _, reconstructed = model(adjacency_matrix)\n",
    "        loss = model.loss(adjacency_matrix, reconstructed, L)\n",
    "        loss.backward()\n",
    "        optimizer.step()\n",
    "\n",
    "    model.eval()\n",
    "    with torch.no_grad():\n",
    "        embedding, _ = model(adjacency_matrix)\n",
    "\n",
    "    embedding = embedding.numpy()\n",
    "    norm = np.linalg.norm(embedding, axis=1, keepdims=True)\n",
    "    embedding = embedding / norm\n",
    "    return embedding"
   ]
  },
  {
   "cell_type": "code",
   "execution_count": 4,
   "metadata": {},
   "outputs": [],
   "source": [
    "# Creating data array\n",
    "\n",
    "def prepare_data_arrays(graph):\n",
    "    node2vec = get_embedded_node_array_using_node2vec_weighted(graph)\n",
    "    hope = get_hope_embedding(graph)\n",
    "    sdne = train_sdne(graph)\n",
    "    \n",
    "    return {\n",
    "        'node_array': get_node_array_without_embedding(graph),\n",
    "        'embedded_node_array_node2vec': node2vec,\n",
    "        'embedded_node_array_hope': hope,\n",
    "        'embedded_node_array_sdne': sdne,\n",
    "        'embedded_node_array_sdne+hope': np.add(sdne, hope),\n",
    "        'embedded_node_array_sdne+node2vec': np.add(sdne, node2vec),\n",
    "        'embedded_node_array_hope+node2vec': np.add(hope, node2vec),\n",
    "        'embedded_node_array_summation': np.add(np.add(sdne, hope), node2vec),\n",
    "        'embedded_node_array_sdne*hope': np.multiply(sdne, hope),\n",
    "        'embedded_node_array_sdne*node2vec': np.multiply(sdne, node2vec),\n",
    "        'embedded_node_array_hope*node2vec': np.multiply(hope, node2vec),\n",
    "        'embedded_node_array_multiply': np.multiply(np.multiply(sdne, hope), node2vec),\n",
    "        'embedded_node_array_sdneMINhope': np.minimum(sdne, hope),\n",
    "        'embedded_node_array_sdneMINnode2vec': np.minimum(sdne, node2vec),\n",
    "        'embedded_node_array_hopeMINnode2vec': np.minimum(hope, node2vec),\n",
    "        'embedded_node_array_minimum': np.minimum(np.minimum(sdne, hope), node2vec),\n",
    "        'embedded_node_array_sdneMAXhope': np.maximum(sdne, hope),\n",
    "        'embedded_node_array_sdneMAXnode2vec': np.maximum(sdne, node2vec),\n",
    "        'embedded_node_array_hopeMAXnode2vec': np.maximum(hope, node2vec),\n",
    "        'embedded_node_array_maximum': np.maximum(np.maximum(sdne, hope), node2vec),\n",
    "    }"
   ]
  },
  {
   "cell_type": "code",
   "execution_count": 5,
   "metadata": {},
   "outputs": [],
   "source": [
    "# Calculating adjancency and position for each dataset\n",
    "\n",
    "graph = karate_club(metadata=True)\n",
    "adjacency_karate, position_karate = graph.adjacency, graph.position\n",
    "adjacency_dolphin, position_dolphin = get_adjacency_and_position(graph_dolphin)\n",
    "adjacency_football, position_football = get_adjacency_and_position(graph_football)\n",
    "adjacency_book, position_book = get_adjacency_and_position(graph_book)"
   ]
  },
  {
   "cell_type": "code",
   "execution_count": 6,
   "metadata": {},
   "outputs": [],
   "source": [
    "# K-means clustering\n",
    "\n",
    "def perform_kmeans_clustering(data_array, adjacency, range_k=(2, 11), random_state=0):\n",
    "    labels = []\n",
    "    modularity = []\n",
    "    work_log = []\n",
    "\n",
    "    for k in range(*range_k):\n",
    "        start_time = datetime.now()\n",
    "        kmeans = KMeans(n_clusters=k, random_state=random_state)\n",
    "        kmeans.fit(data_array)\n",
    "        end_time = datetime.now()\n",
    "\n",
    "        labels.append(kmeans.labels_)\n",
    "        modularity.append(get_modularity(adjacency, kmeans.labels_))\n",
    "        work_log.append(end_time - start_time)\n",
    "\n",
    "    best_k = modularity.index(max(modularity)) + range_k[0]\n",
    "    best_labels = labels[best_k - range_k[0]]\n",
    "    best_modularity = modularity[best_k - range_k[0]]\n",
    "    best_work_log = work_log[best_k - range_k[0]]\n",
    "\n",
    "    # print(f\"Best value of k: {best_k}\")\n",
    "    return best_labels, best_modularity, best_work_log\n",
    "\n",
    "def cluster_all_data_arrays(data_arrays, adjacency):\n",
    "    labels_dict = {}\n",
    "    modularity_dict = {}\n",
    "    work_log_dict = {}\n",
    "\n",
    "    for array_type, data_array in data_arrays.items():\n",
    "        # print(f\"Clustering for {array_type}...\")\n",
    "        best_labels, best_modularity, best_work_log = perform_kmeans_clustering(data_array, adjacency)\n",
    "        \n",
    "        labels_dict[array_type] = best_labels\n",
    "        modularity_dict[array_type] = best_modularity\n",
    "        work_log_dict[array_type] = best_work_log\n",
    "    \n",
    "    return labels_dict, modularity_dict, work_log_dict\n"
   ]
  },
  {
   "cell_type": "markdown",
   "metadata": {},
   "source": [
    "# Jaccard"
   ]
  },
  {
   "cell_type": "code",
   "execution_count": 7,
   "metadata": {},
   "outputs": [],
   "source": [
    "# Calculate Jaccard Coefficient for pairs of nodes connected by an edge\n",
    "\n",
    "def jaccard_sim(original_graph):\n",
    "\n",
    "    jaccard_graph = original_graph.copy()\n",
    "\n",
    "    jaccard = []\n",
    "    for u, v in original_graph.edges():\n",
    "        jaccard.extend(nx.jaccard_coefficient(original_graph, [(u, v)]))\n",
    "\n",
    "    # Normalize the scores\n",
    "    scaler = MinMaxScaler()\n",
    "    normalized_jaccard = scaler.fit_transform([[s] for _, _, s in jaccard])\n",
    "\n",
    "    for (u, v, s), norm_s in zip(jaccard, normalized_jaccard):\n",
    "        if jaccard_graph.has_edge(u, v):\n",
    "            if norm_s[0] == 0 :\n",
    "                jaccard_graph[u][v]['weight'] =  0.0000000000000001\n",
    "            else:\n",
    "                jaccard_graph[u][v]['weight'] = norm_s[0]\n",
    "\n",
    "    print(\"Jaccard Coefficient Weighted Graph\")\n",
    "    print(jaccard_graph.edges(data=True))\n",
    "    return(jaccard_graph)"
   ]
  },
  {
   "cell_type": "code",
   "execution_count": 8,
   "metadata": {},
   "outputs": [
    {
     "name": "stdout",
     "output_type": "stream",
     "text": [
      "Jaccard Coefficient Weighted Graph\n",
      "[(0, 1, {'weight': 0.7388888888888889}), (0, 2, {'weight': 0.4523809523809524}), (0, 3, {'weight': 0.5588235294117647}), (0, 4, {'weight': 0.2235294117647059}), (0, 5, {'weight': 0.2111111111111111}), (0, 6, {'weight': 0.2111111111111111}), (0, 7, {'weight': 0.33529411764705885}), (0, 8, {'weight': 0.09500000000000001}), (0, 10, {'weight': 0.2235294117647059}), (0, 11, {'weight': 1e-16}), (0, 12, {'weight': 0.11176470588235295}), (0, 13, {'weight': 0.31666666666666665}), (0, 17, {'weight': 0.11176470588235295}), (0, 19, {'weight': 0.10555555555555556}), (0, 21, {'weight': 0.11176470588235295}), (0, 31, {'weight': 1e-16}), (1, 2, {'weight': 0.5066666666666667}), (1, 3, {'weight': 0.690909090909091}), (1, 7, {'weight': 0.5700000000000001}), (1, 13, {'weight': 0.5181818181818182}), (1, 17, {'weight': 0.19000000000000003}), (1, 19, {'weight': 0.17272727272727276}), (1, 21, {'weight': 0.19000000000000003}), (1, 30, {'weight': 1e-16}), (2, 3, {'weight': 0.6333333333333333}), (2, 7, {'weight': 0.5181818181818182}), (2, 8, {'weight': 0.2923076923076923}), (2, 9, {'weight': 1e-16}), (2, 13, {'weight': 0.47500000000000003}), (2, 27, {'weight': 1e-16}), (2, 28, {'weight': 1e-16}), (2, 32, {'weight': 0.09047619047619047}), (3, 7, {'weight': 0.8142857142857143}), (3, 12, {'weight': 0.2714285714285714}), (3, 13, {'weight': 0.7125}), (4, 6, {'weight': 0.31666666666666665}), (4, 10, {'weight': 0.38000000000000006}), (5, 6, {'weight': 0.6333333333333333}), (5, 10, {'weight': 0.31666666666666665}), (5, 16, {'weight': 0.38000000000000006}), (6, 16, {'weight': 0.38000000000000006}), (8, 30, {'weight': 0.5428571428571428}), (8, 32, {'weight': 0.40714285714285714}), (8, 33, {'weight': 0.19000000000000003}), (9, 33, {'weight': 1e-16}), (13, 33, {'weight': 1e-16}), (14, 32, {'weight': 0.14615384615384616}), (14, 33, {'weight': 0.10555555555555556}), (15, 32, {'weight': 0.14615384615384616}), (15, 33, {'weight': 0.10555555555555556}), (18, 32, {'weight': 0.14615384615384616}), (18, 33, {'weight': 0.10555555555555556}), (19, 33, {'weight': 1e-16}), (20, 32, {'weight': 0.14615384615384616}), (20, 33, {'weight': 0.10555555555555556}), (22, 32, {'weight': 0.14615384615384616}), (22, 33, {'weight': 0.10555555555555556}), (23, 25, {'weight': 1e-16}), (23, 27, {'weight': 0.23750000000000002}), (23, 29, {'weight': 0.5428571428571428}), (23, 32, {'weight': 0.25333333333333335}), (23, 33, {'weight': 0.3}), (24, 25, {'weight': 0.38000000000000006}), (24, 27, {'weight': 1e-16}), (24, 31, {'weight': 0.23750000000000002}), (25, 31, {'weight': 0.23750000000000002}), (26, 29, {'weight': 0.38000000000000006}), (26, 33, {'weight': 0.10555555555555556}), (27, 33, {'weight': 0.09500000000000001}), (28, 31, {'weight': 0.23750000000000002}), (28, 33, {'weight': 0.1}), (29, 32, {'weight': 0.2714285714285714}), (29, 33, {'weight': 0.31666666666666665}), (30, 32, {'weight': 0.2714285714285714}), (30, 33, {'weight': 0.2}), (31, 32, {'weight': 0.11176470588235295}), (31, 33, {'weight': 0.18095238095238095}), (32, 33, {'weight': 1.0})]\n",
      "Jaccard Coefficient Weighted Graph\n",
      "[('11', '1', {'weight': 0.3333333333333333}), ('11', '3', {'weight': 0.1875}), ('11', '30', {'weight': 1e-16}), ('11', '43', {'weight': 0.5625}), ('11', '48', {'weight': 0.3333333333333333}), ('1', '15', {'weight': 0.08823529411764705}), ('1', '16', {'weight': 0.125}), ('1', '41', {'weight': 0.25}), ('1', '43', {'weight': 0.30000000000000004}), ('1', '48', {'weight': 0.30000000000000004}), ('15', '4', {'weight': 1e-16}), ('15', '17', {'weight': 0.42857142857142855}), ('15', '25', {'weight': 1e-16}), ('15', '34', {'weight': 0.7}), ('15', '35', {'weight': 0.2}), ('15', '38', {'weight': 0.4166666666666667}), ('15', '39', {'weight': 0.375}), ('15', '41', {'weight': 0.375}), ('15', '44', {'weight': 0.28125}), ('15', '51', {'weight': 0.1764705882352941}), ('15', '53', {'weight': 0.21428571428571427}), ('16', '19', {'weight': 0.25}), ('16', '25', {'weight': 0.2727272727272727}), ('16', '41', {'weight': 0.10714285714285714}), ('16', '46', {'weight': 0.30000000000000004}), ('16', '56', {'weight': 1e-16}), ('16', '60', {'weight': 0.13636363636363635}), ('41', '8', {'weight': 1e-16}), ('41', '34', {'weight': 0.1875}), ('41', '37', {'weight': 0.10714285714285714}), ('41', '38', {'weight': 0.28125}), ('41', '53', {'weight': 0.13636363636363635}), ('43', '3', {'weight': 0.16666666666666666}), ('43', '31', {'weight': 0.15000000000000002}), ('43', '48', {'weight': 0.5}), ('43', '51', {'weight': 1e-16}), ('48', '21', {'weight': 0.10714285714285714}), ('48', '29', {'weight': 0.3333333333333333}), ('48', '31', {'weight': 0.3333333333333333}), ('18', '2', {'weight': 0.09375}), ('18', '7', {'weight': 0.375}), ('18', '10', {'weight': 0.34615384615384615}), ('18', '14', {'weight': 0.3214285714285714}), ('18', '23', {'weight': 1e-16}), ('18', '26', {'weight': 0.13636363636363635}), ('18', '28', {'weight': 0.25}), ('18', '32', {'weight': 1e-16}), ('18', '58', {'weight': 0.30000000000000004}), ('2', '20', {'weight': 0.13636363636363635}), ('2', '27', {'weight': 0.15000000000000002}), ('2', '28', {'weight': 0.2727272727272727}), ('2', '29', {'weight': 1e-16}), ('2', '37', {'weight': 1e-16}), ('2', '42', {'weight': 0.125}), ('2', '55', {'weight': 0.23076923076923078}), ('20', '8', {'weight': 0.42857142857142855}), ('20', '31', {'weight': 0.1875}), ('20', '55', {'weight': 0.3333333333333333}), ('27', '26', {'weight': 0.30000000000000004}), ('27', '28', {'weight': 0.5}), ('28', '8', {'weight': 1e-16}), ('28', '26', {'weight': 0.5}), ('29', '9', {'weight': 0.15000000000000002}), ('29', '21', {'weight': 0.25}), ('29', '31', {'weight': 0.16666666666666666}), ('37', '21', {'weight': 1e-16}), ('37', '24', {'weight': 1e-16}), ('37', '38', {'weight': 0.08823529411764705}), ('37', '40', {'weight': 1e-16}), ('37', '60', {'weight': 1e-16}), ('42', '10', {'weight': 0.30000000000000004}), ('42', '14', {'weight': 0.44999999999999996}), ('42', '55', {'weight': 0.5}), ('42', '58', {'weight': 0.40909090909090906}), ('55', '7', {'weight': 0.2727272727272727}), ('55', '8', {'weight': 0.13636363636363635}), ('55', '14', {'weight': 0.375}), ('55', '58', {'weight': 0.34615384615384615}), ('3', '45', {'weight': 1e-16}), ('3', '62', {'weight': 1e-16}), ('45', '21', {'weight': 0.125}), ('45', '35', {'weight': 1e-16}), ('45', '39', {'weight': 0.13636363636363635}), ('62', '38', {'weight': 1e-16}), ('62', '54', {'weight': 1e-16}), ('9', '4', {'weight': 0.1875}), ('9', '21', {'weight': 0.10714285714285714}), ('9', '38', {'weight': 0.09375}), ('9', '46', {'weight': 0.2}), ('9', '60', {'weight': 0.3333333333333333}), ('4', '60', {'weight': 0.21428571428571427}), ('60', '46', {'weight': 0.21428571428571427}), ('52', '5', {'weight': 1e-16}), ('52', '12', {'weight': 1e-16}), ('52', '19', {'weight': 0.46153846153846156}), ('52', '22', {'weight': 0.34615384615384615}), ('52', '24', {'weight': 0.125}), ('52', '25', {'weight': 0.34615384615384615}), ('52', '30', {'weight': 0.4}), ('52', '46', {'weight': 0.6000000000000001}), ('52', '51', {'weight': 0.09375}), ('52', '56', {'weight': 1e-16}), ('10', '6', {'weight': 0.3333333333333333}), ('10', '7', {'weight': 0.44999999999999996}), ('10', '14', {'weight': 1.0}), ('10', '33', {'weight': 0.16666666666666666}), ('10', '58', {'weight': 0.6818181818181818}), ('6', '14', {'weight': 0.30000000000000004}), ('6', '57', {'weight': 1e-16}), ('6', '58', {'weight': 0.2727272727272727}), ('14', '7', {'weight': 0.6000000000000001}), ('14', '33', {'weight': 0.15000000000000002}), ('14', '58', {'weight': 0.8181818181818181}), ('57', '7', {'weight': 1e-16}), ('58', '7', {'weight': 0.5454545454545454}), ('58', '40', {'weight': 1e-16}), ('58', '49', {'weight': 1e-16}), ('8', '31', {'weight': 0.16666666666666666}), ('21', '17', {'weight': 0.23076923076923078}), ('21', '19', {'weight': 1e-16}), ('21', '39', {'weight': 0.2}), ('21', '51', {'weight': 0.1}), ('38', '17', {'weight': 0.2}), ('38', '22', {'weight': 0.2}), ('38', '34', {'weight': 0.6000000000000001}), ('38', '35', {'weight': 0.21428571428571427}), ('38', '44', {'weight': 0.1875}), ('38', '46', {'weight': 0.15000000000000002}), ('46', '19', {'weight': 0.576923076923077}), ('46', '22', {'weight': 0.46153846153846156}), ('46', '24', {'weight': 0.11538461538461539}), ('46', '25', {'weight': 0.46153846153846156}), ('46', '30', {'weight': 0.375}), ('46', '51', {'weight': 0.08823529411764705}), ('33', '61', {'weight': 1e-16}), ('30', '19', {'weight': 0.5}), ('30', '22', {'weight': 0.375}), ('30', '25', {'weight': 0.375}), ('30', '36', {'weight': 1e-16}), ('30', '44', {'weight': 1e-16}), ('30', '53', {'weight': 1e-16}), ('34', '13', {'weight': 1e-16}), ('34', '17', {'weight': 0.5}), ('34', '22', {'weight': 0.1}), ('34', '35', {'weight': 0.23076923076923078}), ('34', '39', {'weight': 0.30000000000000004}), ('34', '44', {'weight': 0.3214285714285714}), ('34', '51', {'weight': 0.2}), ('17', '39', {'weight': 0.40909090909090906}), ('17', '51', {'weight': 0.44999999999999996}), ('25', '19', {'weight': 0.6666666666666666}), ('35', '50', {'weight': 1e-16}), ('39', '44', {'weight': 0.23076923076923078}), ('39', '53', {'weight': 0.13636363636363635}), ('39', '59', {'weight': 1e-16}), ('44', '47', {'weight': 1e-16}), ('44', '54', {'weight': 1e-16}), ('19', '22', {'weight': 0.44999999999999996}), ('50', '47', {'weight': 1e-16})]\n",
      "Jaccard Coefficient Weighted Graph\n",
      "[('2', '1', {'weight': 0.07065217391304347}), ('2', '26', {'weight': 0.7109375}), ('2', '28', {'weight': 1e-16}), ('2', '34', {'weight': 0.9285714285714285}), ('2', '38', {'weight': 0.7109375}), ('2', '46', {'weight': 0.7109375}), ('2', '58', {'weight': 1e-16}), ('2', '90', {'weight': 0.7109375}), ('2', '102', {'weight': 1e-16}), ('2', '104', {'weight': 0.7583333333333333}), ('2', '106', {'weight': 0.7583333333333333}), ('2', '110', {'weight': 0.7109375}), ('1', '5', {'weight': 0.573529411764706}), ('1', '10', {'weight': 0.573529411764706}), ('1', '17', {'weight': 0.573529411764706}), ('1', '24', {'weight': 0.7109375}), ('1', '34', {'weight': 0.07738095238095238}), ('1', '36', {'weight': 1e-16}), ('1', '42', {'weight': 0.609375}), ('1', '66', {'weight': 1e-16}), ('1', '91', {'weight': 0.08125}), ('1', '94', {'weight': 0.609375}), ('1', '105', {'weight': 0.5416666666666666}), ('5', '6', {'weight': 1e-16}), ('5', '10', {'weight': 0.7583333333333333}), ('5', '17', {'weight': 0.609375}), ('5', '24', {'weight': 0.609375}), ('5', '29', {'weight': 0.08552631578947367}), ('5', '42', {'weight': 0.65}), ('5', '70', {'weight': 0.07738095238095238}), ('5', '94', {'weight': 0.65}), ('5', '105', {'weight': 0.573529411764706}), ('5', '109', {'weight': 0.08125}), ('10', '9', {'weight': 0.1625}), ('10', '17', {'weight': 0.609375}), ('10', '23', {'weight': 0.256578947368421}), ('10', '24', {'weight': 0.7583333333333333}), ('10', '42', {'weight': 0.8125}), ('10', '65', {'weight': 1e-16}), ('10', '94', {'weight': 0.65}), ('10', '105', {'weight': 0.573529411764706}), ('10', '109', {'weight': 0.17105263157894735}), ('17', '18', {'weight': 1e-16}), ('17', '24', {'weight': 0.609375}), ('17', '39', {'weight': 1e-16}), ('17', '42', {'weight': 0.8125}), ('17', '68', {'weight': 0.15476190476190477}), ('17', '82', {'weight': 1e-16}), ('17', '94', {'weight': 0.65}), ('17', '105', {'weight': 0.7109375}), ('24', '23', {'weight': 0.1625}), ('24', '42', {'weight': 0.65}), ('24', '79', {'weight': 0.1625}), ('24', '91', {'weight': 0.08552631578947367}), ('24', '94', {'weight': 0.65}), ('24', '105', {'weight': 0.573529411764706}), ('24', '112', {'weight': 0.07738095238095238}), ('34', '20', {'weight': 1e-16}), ('34', '26', {'weight': 0.8125}), ('34', '38', {'weight': 0.8125}), ('34', '46', {'weight': 0.8125}), ('34', '90', {'weight': 0.8125}), ('34', '104', {'weight': 0.875}), ('34', '106', {'weight': 0.875}), ('34', '110', {'weight': 0.8125}), ('36', '20', {'weight': 0.7583333333333333}), ('36', '30', {'weight': 0.609375}), ('36', '31', {'weight': 0.7583333333333333}), ('36', '35', {'weight': 0.07738095238095238}), ('36', '45', {'weight': 0.1625}), ('36', '56', {'weight': 0.609375}), ('36', '80', {'weight': 0.609375}), ('36', '93', {'weight': 1e-16}), ('36', '95', {'weight': 0.8125}), ('36', '102', {'weight': 0.65}), ('42', '9', {'weight': 0.08125}), ('42', '41', {'weight': 1e-16}), ('42', '68', {'weight': 0.1625}), ('42', '94', {'weight': 0.6964285714285714}), ('42', '105', {'weight': 0.7583333333333333}), ('66', '18', {'weight': 0.47794117647058826}), ('66', '21', {'weight': 0.47794117647058826}), ('66', '28', {'weight': 0.47794117647058826}), ('66', '57', {'weight': 0.38235294117647056}), ('66', '64', {'weight': 0.08552631578947367}), ('66', '67', {'weight': 1e-16}), ('66', '71', {'weight': 0.3611111111111111}), ('66', '88', {'weight': 0.47794117647058826}), ('66', '97', {'weight': 0.65}), ('66', '114', {'weight': 0.5078125}), ('91', '6', {'weight': 0.08125}), ('91', '9', {'weight': 1e-16}), ('91', '12', {'weight': 0.5803571428571429}), ('91', '25', {'weight': 0.43333333333333335}), ('91', '29', {'weight': 0.46428571428571425}), ('91', '51', {'weight': 0.46428571428571425}), ('91', '70', {'weight': 0.40625}), ('94', '81', {'weight': 0.17105263157894735}), ('94', '83', {'weight': 0.08125}), ('94', '92', {'weight': 0.08125}), ('94', '105', {'weight': 0.609375}), ('105', '12', {'weight': 1e-16}), ('105', '68', {'weight': 0.23214285714285712}), ('105', '73', {'weight': 1e-16}), ('105', '88', {'weight': 1e-16}), ('105', '115', {'weight': 0.07386363636363637}), ('26', '25', {'weight': 1e-16}), ('26', '38', {'weight': 0.7583333333333333}), ('26', '46', {'weight': 0.7583333333333333}), ('26', '54', {'weight': 1e-16}), ('26', '90', {'weight': 0.7583333333333333}), ('26', '104', {'weight': 0.8125}), ('26', '106', {'weight': 0.8125}), ('26', '107', {'weight': 1e-16}), ('26', '110', {'weight': 0.7583333333333333}), ('28', '18', {'weight': 0.3611111111111111}), ('28', '27', {'weight': 1e-16}), ('28', '57', {'weight': 0.65}), ('28', '63', {'weight': 0.47794117647058826}), ('28', '64', {'weight': 0.08552631578947367}), ('28', '71', {'weight': 0.47794117647058826}), ('28', '77', {'weight': 0.47794117647058826}), ('28', '96', {'weight': 0.5078125}), ('28', '97', {'weight': 0.38235294117647056}), ('38', '37', {'weight': 1e-16}), ('38', '46', {'weight': 0.7583333333333333}), ('38', '81', {'weight': 0.07738095238095238}), ('38', '90', {'weight': 0.7583333333333333}), ('38', '96', {'weight': 1e-16}), ('38', '104', {'weight': 0.8125}), ('38', '106', {'weight': 1.0}), ('38', '110', {'weight': 0.7583333333333333}), ('46', '14', {'weight': 1e-16}), ('46', '45', {'weight': 1e-16}), ('46', '63', {'weight': 0.07738095238095238}), ('46', '90', {'weight': 0.7583333333333333}), ('46', '104', {'weight': 0.8125}), ('46', '106', {'weight': 1.0}), ('46', '110', {'weight': 0.7583333333333333}), ('58', '43', {'weight': 1e-16}), ('58', '45', {'weight': 0.5078125}), ('58', '49', {'weight': 0.5078125}), ('58', '57', {'weight': 1e-16}), ('58', '76', {'weight': 0.5416666666666666}), ('58', '87', {'weight': 0.5078125}), ('58', '92', {'weight': 0.5078125}), ('58', '93', {'weight': 0.5078125}), ('58', '113', {'weight': 0.40625}), ('90', '56', {'weight': 1e-16}), ('90', '89', {'weight': 1e-16}), ('90', '100', {'weight': 1e-16}), ('90', '104', {'weight': 0.8125}), ('90', '106', {'weight': 0.8125}), ('90', '110', {'weight': 0.7583333333333333}), ('102', '20', {'weight': 0.65}), ('102', '30', {'weight': 0.65}), ('102', '31', {'weight': 0.65}), ('102', '52', {'weight': 1e-16}), ('102', '56', {'weight': 0.65}), ('102', '59', {'weight': 1e-16}), ('102', '80', {'weight': 0.65}), ('102', '95', {'weight': 0.6964285714285714}), ('104', '71', {'weight': 1e-16}), ('104', '103', {'weight': 1e-16}), ('104', '106', {'weight': 0.875}), ('104', '110', {'weight': 0.8125}), ('106', '63', {'weight': 0.08125}), ('106', '81', {'weight': 0.08125}), ('106', '110', {'weight': 0.8125}), ('110', '31', {'weight': 0.07738095238095238}), ('110', '64', {'weight': 1e-16}), ('110', '80', {'weight': 0.07738095238095238}), ('4', '3', {'weight': 0.14772727272727273}), ('4', '6', {'weight': 0.4276315789473684}), ('4', '12', {'weight': 0.07738095238095238}), ('4', '27', {'weight': 1e-16}), ('4', '41', {'weight': 0.4513888888888889}), ('4', '53', {'weight': 0.609375}), ('4', '59', {'weight': 1e-16}), ('4', '73', {'weight': 0.573529411764706}), ('4', '75', {'weight': 0.7109375}), ('4', '82', {'weight': 0.3421052631578947}), ('4', '85', {'weight': 0.3421052631578947}), ('4', '103', {'weight': 0.3611111111111111}), ('3', '7', {'weight': 0.4276315789473684}), ('3', '14', {'weight': 0.4513888888888889}), ('3', '15', {'weight': 0.07738095238095238}), ('3', '16', {'weight': 0.5416666666666666}), ('3', '48', {'weight': 0.4513888888888889}), ('3', '61', {'weight': 0.573529411764706}), ('3', '65', {'weight': 0.573529411764706}), ('3', '73', {'weight': 0.15476190476190477}), ('3', '75', {'weight': 0.15476190476190477}), ('3', '101', {'weight': 0.4513888888888889}), ('3', '107', {'weight': 0.4513888888888889}), ('7', '8', {'weight': 1e-16}), ('7', '33', {'weight': 0.4513888888888889}), ('7', '40', {'weight': 0.4513888888888889}), ('7', '48', {'weight': 0.573529411764706}), ('7', '56', {'weight': 1e-16}), ('7', '59', {'weight': 1e-16}), ('7', '61', {'weight': 0.4513888888888889}), ('7', '65', {'weight': 0.573529411764706}), ('7', '86', {'weight': 1e-16}), ('7', '101', {'weight': 0.4513888888888889}), ('7', '107', {'weight': 0.4513888888888889}), ('14', '13', {'weight': 1e-16}), ('14', '16', {'weight': 0.573529411764706}), ('14', '33', {'weight': 0.47794117647058826}), ('14', '40', {'weight': 0.47794117647058826}), ('14', '61', {'weight': 0.47794117647058826}), ('14', '65', {'weight': 0.47794117647058826}), ('14', '101', {'weight': 0.47794117647058826}), ('14', '107', {'weight': 0.609375}), ('14', '111', {'weight': 1e-16}), ('15', '13', {'weight': 0.40625}), ('15', '16', {'weight': 0.07738095238095238}), ('15', '27', {'weight': 0.40625}), ('15', '39', {'weight': 0.65}), ('15', '44', {'weight': 0.38235294117647056}), ('15', '55', {'weight': 0.286764705882353}), ('15', '72', {'weight': 0.286764705882353}), ('15', '86', {'weight': 0.5803571428571429}), ('15', '100', {'weight': 0.286764705882353}), ('16', '33', {'weight': 0.4513888888888889}), ('16', '40', {'weight': 0.573529411764706}), ('16', '48', {'weight': 0.4513888888888889}), ('16', '61', {'weight': 0.4513888888888889}), ('16', '69', {'weight': 1e-16}), ('16', '93', {'weight': 0.07386363636363637}), ('16', '101', {'weight': 0.4513888888888889}), ('16', '107', {'weight': 0.573529411764706}), ('16', '115', {'weight': 1e-16}), ('48', '23', {'weight': 1e-16}), ('48', '33', {'weight': 0.47794117647058826}), ('48', '40', {'weight': 0.47794117647058826}), ('48', '47', {'weight': 1e-16}), ('48', '61', {'weight': 0.47794117647058826}), ('48', '62', {'weight': 1e-16}), ('48', '65', {'weight': 0.47794117647058826}), ('48', '101', {'weight': 0.609375}), ('61', '11', {'weight': 1e-16}), ('61', '40', {'weight': 0.47794117647058826}), ('61', '60', {'weight': 1e-16}), ('61', '65', {'weight': 0.47794117647058826}), ('61', '72', {'weight': 1e-16}), ('61', '107', {'weight': 0.609375}), ('65', '33', {'weight': 0.47794117647058826}), ('65', '64', {'weight': 1e-16}), ('65', '101', {'weight': 0.47794117647058826}), ('65', '107', {'weight': 0.47794117647058826}), ('65', '112', {'weight': 1e-16}), ('73', '11', {'weight': 0.38235294117647056}), ('73', '41', {'weight': 0.609375}), ('73', '53', {'weight': 0.38235294117647056}), ('73', '72', {'weight': 1e-16}), ('73', '75', {'weight': 0.609375}), ('73', '82', {'weight': 0.3611111111111111}), ('73', '103', {'weight': 0.65}), ('73', '108', {'weight': 0.38235294117647056}), ('75', '6', {'weight': 0.3421052631578947}), ('75', '11', {'weight': 0.38235294117647056}), ('75', '41', {'weight': 0.3611111111111111}), ('75', '53', {'weight': 0.65}), ('75', '74', {'weight': 1e-16}), ('75', '83', {'weight': 1e-16}), ('75', '85', {'weight': 0.3611111111111111}), ('75', '103', {'weight': 0.5078125}), ('101', '33', {'weight': 0.609375}), ('101', '40', {'weight': 0.609375}), ('101', '83', {'weight': 0.07738095238095238}), ('101', '100', {'weight': 1e-16}), ('101', '103', {'weight': 1e-16}), ('107', '33', {'weight': 0.47794117647058826}), ('107', '40', {'weight': 0.47794117647058826}), ('107', '57', {'weight': 1e-16}), ('107', '93', {'weight': 0.07738095238095238}), ('6', '11', {'weight': 0.609375}), ('6', '12', {'weight': 0.3611111111111111}), ('6', '53', {'weight': 0.3611111111111111}), ('6', '82', {'weight': 0.4513888888888889}), ('6', '85', {'weight': 0.7109375}), ('6', '98', {'weight': 0.18055555555555555}), ('6', '99', {'weight': 0.573529411764706}), ('6', '108', {'weight': 0.3611111111111111}), ('12', '11', {'weight': 0.08552631578947367}), ('12', '25', {'weight': 0.40625}), ('12', '29', {'weight': 0.43333333333333335}), ('12', '51', {'weight': 0.43333333333333335}), ('12', '70', {'weight': 0.38235294117647056}), ('12', '98', {'weight': 0.09558823529411764}), ('27', '13', {'weight': 0.5416666666666666}), ('27', '35', {'weight': 0.2708333333333333}), ('27', '39', {'weight': 0.38235294117647056}), ('27', '43', {'weight': 0.21666666666666667}), ('27', '44', {'weight': 0.65}), ('27', '62', {'weight': 0.17105263157894735}), ('27', '86', {'weight': 0.43333333333333335}), ('41', '8', {'weight': 1e-16}), ('41', '52', {'weight': 1e-16}), ('41', '53', {'weight': 0.5078125}), ('41', '82', {'weight': 0.3611111111111111}), ('41', '99', {'weight': 0.3611111111111111}), ('41', '103', {'weight': 0.65}), ('41', '108', {'weight': 0.38235294117647056}), ('53', '54', {'weight': 1e-16}), ('53', '85', {'weight': 0.38235294117647056}), ('53', '99', {'weight': 0.38235294117647056}), ('53', '103', {'weight': 0.5416666666666666}), ('53', '113', {'weight': 1e-16}), ('59', '18', {'weight': 1e-16}), ('59', '37', {'weight': 0.09558823529411764}), ('59', '60', {'weight': 0.325}), ('59', '64', {'weight': 0.19117647058823528}), ('59', '89', {'weight': 0.07738095238095238}), ('59', '98', {'weight': 0.203125}), ('59', '115', {'weight': 0.08125}), ('82', '11', {'weight': 0.5078125}), ('82', '83', {'weight': 1e-16}), ('82', '84', {'weight': 0.07738095238095238}), ('82', '85', {'weight': 0.609375}), ('82', '99', {'weight': 0.47794117647058826}), ('82', '108', {'weight': 0.65}), ('85', '11', {'weight': 0.5078125}), ('85', '25', {'weight': 1e-16}), ('85', '50', {'weight': 0.07738095238095238}), ('85', '84', {'weight': 0.1625}), ('85', '99', {'weight': 0.47794117647058826}), ('85', '108', {'weight': 0.38235294117647056}), ('103', '11', {'weight': 0.40625}), ('103', '99', {'weight': 0.38235294117647056}), ('103', '108', {'weight': 0.40625}), ('29', '25', {'weight': 0.43333333333333335}), ('29', '39', {'weight': 1e-16}), ('29', '51', {'weight': 0.625}), ('29', '70', {'weight': 0.5416666666666666}), ('29', '79', {'weight': 0.08552631578947367}), ('29', '114', {'weight': 1e-16}), ('70', '25', {'weight': 0.38235294117647056}), ('70', '51', {'weight': 0.40625}), ('70', '71', {'weight': 0.07738095238095238}), ('70', '84', {'weight': 0.07738095238095238}), ('70', '89', {'weight': 0.07386363636363637}), ('70', '92', {'weight': 1e-16}), ('70', '96', {'weight': 0.08125}), ('109', '8', {'weight': 0.609375}), ('109', '22', {'weight': 0.65}), ('109', '23', {'weight': 0.8125}), ('109', '52', {'weight': 0.65}), ('109', '69', {'weight': 0.65}), ('109', '78', {'weight': 0.65}), ('109', '79', {'weight': 0.65}), ('109', '112', {'weight': 0.65}), ('11', '99', {'weight': 0.5078125}), ('11', '108', {'weight': 0.6964285714285714}), ('98', '60', {'weight': 0.23214285714285712}), ('98', '64', {'weight': 0.3482142857142857}), ('98', '87', {'weight': 1e-16}), ('98', '99', {'weight': 0.09027777777777778}), ('98', '113', {'weight': 0.09558823529411764}), ('99', '49', {'weight': 1e-16}), ('99', '78', {'weight': 1e-16}), ('99', '108', {'weight': 0.65}), ('108', '76', {'weight': 1e-16}), ('108', '89', {'weight': 1e-16}), ('8', '9', {'weight': 0.573529411764706}), ('8', '22', {'weight': 0.573529411764706}), ('8', '23', {'weight': 0.573529411764706}), ('8', '69', {'weight': 0.573529411764706}), ('8', '74', {'weight': 0.07386363636363637}), ('8', '78', {'weight': 0.8666666666666667}), ('8', '79', {'weight': 0.573529411764706}), ('8', '83', {'weight': 0.07386363636363637}), ('8', '112', {'weight': 0.573529411764706}), ('33', '22', {'weight': 1e-16}), ('33', '32', {'weight': 1e-16}), ('33', '40', {'weight': 0.609375}), ('33', '50', {'weight': 1e-16}), ('40', '39', {'weight': 0.07738095238095238}), ('40', '55', {'weight': 0.08125}), ('40', '83', {'weight': 0.07738095238095238}), ('56', '20', {'weight': 0.609375}), ('56', '30', {'weight': 0.609375}), ('56', '31', {'weight': 0.609375}), ('56', '32', {'weight': 0.1625}), ('56', '55', {'weight': 0.08125}), ('56', '80', {'weight': 0.7583333333333333}), ('56', '95', {'weight': 0.65}), ('86', '13', {'weight': 0.43333333333333335}), ('86', '32', {'weight': 0.18055555555555555}), ('86', '39', {'weight': 0.40625}), ('86', '44', {'weight': 0.5416666666666666}), ('86', '81', {'weight': 1e-16}), ('86', '100', {'weight': 0.19117647058823528}), ('9', '22', {'weight': 0.609375}), ('9', '23', {'weight': 0.7583333333333333}), ('9', '52', {'weight': 0.609375}), ('9', '69', {'weight': 0.609375}), ('9', '78', {'weight': 0.609375}), ('9', '79', {'weight': 0.609375}), ('9', '112', {'weight': 0.609375}), ('22', '21', {'weight': 1e-16}), ('22', '23', {'weight': 0.609375}), ('22', '47', {'weight': 0.07738095238095238}), ('22', '52', {'weight': 0.609375}), ('22', '69', {'weight': 0.609375}), ('22', '78', {'weight': 0.609375}), ('22', '112', {'weight': 0.7583333333333333}), ('23', '52', {'weight': 0.609375}), ('23', '69', {'weight': 0.609375}), ('23', '78', {'weight': 0.609375}), ('23', '79', {'weight': 0.7583333333333333}), ('69', '51', {'weight': 0.18055555555555555}), ('69', '52', {'weight': 0.7583333333333333}), ('69', '68', {'weight': 1e-16}), ('69', '79', {'weight': 0.7583333333333333}), ('69', '112', {'weight': 0.609375}), ('74', '47', {'weight': 0.7583333333333333}), ('74', '50', {'weight': 0.7583333333333333}), ('74', '54', {'weight': 0.7109375}), ('74', '68', {'weight': 0.7109375}), ('74', '78', {'weight': 0.07738095238095238}), ('74', '84', {'weight': 0.7583333333333333}), ('74', '89', {'weight': 0.7109375}), ('74', '111', {'weight': 0.7583333333333333}), ('74', '115', {'weight': 0.7583333333333333}), ('78', '52', {'weight': 0.609375}), ('78', '79', {'weight': 0.609375}), ('78', '83', {'weight': 0.07738095238095238}), ('78', '112', {'weight': 0.609375}), ('79', '51', {'weight': 0.286764705882353}), ('79', '52', {'weight': 0.7583333333333333}), ('79', '112', {'weight': 0.7583333333333333}), ('83', '30', {'weight': 0.256578947368421}), ('83', '31', {'weight': 0.1625}), ('83', '81', {'weight': 0.256578947368421}), ('83', '95', {'weight': 0.2708333333333333}), ('112', '47', {'weight': 0.07738095238095238}), ('112', '52', {'weight': 0.609375}), ('52', '51', {'weight': 0.18055555555555555}), ('25', '51', {'weight': 0.43333333333333335}), ('25', '67', {'weight': 1e-16}), ('25', '88', {'weight': 1e-16}), ('25', '111', {'weight': 1e-16}), ('51', '31', {'weight': 1e-16}), ('13', '18', {'weight': 1e-16}), ('13', '19', {'weight': 0.2708333333333333}), ('13', '35', {'weight': 0.17105263157894735}), ('13', '37', {'weight': 0.203125}), ('13', '39', {'weight': 0.5078125}), ('13', '44', {'weight': 0.5078125}), ('18', '21', {'weight': 0.47794117647058826}), ('18', '63', {'weight': 0.3611111111111111}), ('18', '88', {'weight': 0.609375}), ('18', '96', {'weight': 0.38235294117647056}), ('18', '97', {'weight': 0.5078125}), ('18', '114', {'weight': 0.5078125}), ('19', '20', {'weight': 0.07738095238095238}), ('19', '32', {'weight': 0.47794117647058826}), ('19', '35', {'weight': 0.7583333333333333}), ('19', '37', {'weight': 0.19117647058823528}), ('19', '39', {'weight': 0.256578947368421}), ('19', '43', {'weight': 0.09558823529411764}), ('19', '55', {'weight': 0.65}), ('19', '62', {'weight': 0.47794117647058826}), ('19', '72', {'weight': 0.65}), ('19', '100', {'weight': 0.5078125}), ('35', '32', {'weight': 0.47794117647058826}), ('35', '43', {'weight': 0.203125}), ('35', '55', {'weight': 0.5078125}), ('35', '62', {'weight': 0.609375}), ('35', '72', {'weight': 0.5078125}), ('35', '95', {'weight': 0.08125}), ('35', '100', {'weight': 0.5078125}), ('37', '20', {'weight': 0.09027777777777778}), ('37', '21', {'weight': 1e-16}), ('37', '44', {'weight': 0.09027777777777778}), ('37', '60', {'weight': 0.10833333333333334}), ('39', '44', {'weight': 0.3611111111111111}), ('39', '55', {'weight': 0.38235294117647056}), ('39', '72', {'weight': 0.2708333333333333}), ('44', '32', {'weight': 0.256578947368421}), ('44', '43', {'weight': 0.09558823529411764}), ('44', '62', {'weight': 0.1625}), ('44', '71', {'weight': 1e-16}), ('44', '80', {'weight': 0.07738095238095238}), ('111', '47', {'weight': 0.7583333333333333}), ('111', '50', {'weight': 0.7583333333333333}), ('111', '54', {'weight': 0.7109375}), ('111', '68', {'weight': 0.7109375}), ('111', '81', {'weight': 1e-16}), ('111', '84', {'weight': 0.7583333333333333}), ('111', '89', {'weight': 0.7109375}), ('111', '115', {'weight': 0.7583333333333333}), ('55', '32', {'weight': 0.65}), ('55', '62', {'weight': 0.5078125}), ('55', '72', {'weight': 0.875}), ('55', '100', {'weight': 0.6964285714285714}), ('72', '32', {'weight': 0.5078125}), ('72', '62', {'weight': 0.5078125}), ('72', '100', {'weight': 0.6964285714285714}), ('100', '32', {'weight': 0.65}), ('100', '62', {'weight': 0.5078125}), ('93', '49', {'weight': 0.47794117647058826}), ('93', '62', {'weight': 1e-16}), ('93', '67', {'weight': 0.47794117647058826}), ('93', '76', {'weight': 0.5078125}), ('93', '87', {'weight': 0.47794117647058826}), ('93', '92', {'weight': 0.47794117647058826}), ('93', '113', {'weight': 0.38235294117647056}), ('115', '47', {'weight': 0.7583333333333333}), ('115', '50', {'weight': 0.7583333333333333}), ('115', '54', {'weight': 0.7109375}), ('115', '68', {'weight': 0.8666666666666667}), ('115', '84', {'weight': 0.7583333333333333}), ('115', '89', {'weight': 0.8666666666666667}), ('68', '47', {'weight': 0.7109375}), ('68', '50', {'weight': 0.7109375}), ('68', '54', {'weight': 0.6691176470588235}), ('68', '84', {'weight': 0.7109375}), ('68', '89', {'weight': 0.6691176470588235}), ('21', '63', {'weight': 0.3611111111111111}), ('21', '71', {'weight': 0.3611111111111111}), ('21', '76', {'weight': 0.08125}), ('21', '77', {'weight': 0.47794117647058826}), ('21', '88', {'weight': 0.47794117647058826}), ('21', '97', {'weight': 0.5078125}), ('21', '114', {'weight': 0.65}), ('63', '57', {'weight': 0.5078125}), ('63', '62', {'weight': 1e-16}), ('63', '71', {'weight': 0.47794117647058826}), ('63', '77', {'weight': 0.47794117647058826}), ('63', '88', {'weight': 0.3611111111111111}), ('63', '96', {'weight': 0.65}), ('88', '57', {'weight': 0.38235294117647056}), ('88', '87', {'weight': 1e-16}), ('88', '96', {'weight': 0.38235294117647056}), ('88', '97', {'weight': 0.5078125}), ('88', '114', {'weight': 0.5078125}), ('96', '57', {'weight': 0.5416666666666666}), ('96', '71', {'weight': 0.65}), ('96', '77', {'weight': 0.5078125}), ('96', '114', {'weight': 0.40625}), ('97', '49', {'weight': 1e-16}), ('97', '57', {'weight': 0.40625}), ('97', '77', {'weight': 0.38235294117647056}), ('97', '113', {'weight': 1e-16}), ('97', '114', {'weight': 0.5416666666666666}), ('114', '60', {'weight': 0.09558823529411764}), ('114', '71', {'weight': 0.38235294117647056}), ('114', '77', {'weight': 0.5078125}), ('20', '30', {'weight': 0.609375}), ('20', '31', {'weight': 0.7583333333333333}), ('20', '45', {'weight': 0.1625}), ('20', '80', {'weight': 0.609375}), ('20', '95', {'weight': 0.65}), ('32', '62', {'weight': 0.609375}), ('32', '80', {'weight': 0.1625}), ('43', '30', {'weight': 1e-16}), ('43', '64', {'weight': 1e-16}), ('30', '31', {'weight': 0.7583333333333333}), ('30', '80', {'weight': 0.7583333333333333}), ('30', '81', {'weight': 0.3611111111111111}), ('30', '92', {'weight': 0.07738095238095238}), ('30', '95', {'weight': 1.0}), ('31', '45', {'weight': 0.1625}), ('31', '80', {'weight': 0.7583333333333333}), ('31', '95', {'weight': 0.8125}), ('45', '49', {'weight': 0.47794117647058826}), ('45', '67', {'weight': 0.47794117647058826}), ('45', '76', {'weight': 0.5078125}), ('45', '87', {'weight': 0.47794117647058826}), ('45', '92', {'weight': 0.47794117647058826}), ('45', '113', {'weight': 0.38235294117647056}), ('80', '81', {'weight': 0.1625}), ('80', '95', {'weight': 0.8125}), ('95', '81', {'weight': 0.2708333333333333}), ('71', '57', {'weight': 0.5078125}), ('71', '77', {'weight': 0.609375}), ('76', '49', {'weight': 0.5078125}), ('76', '67', {'weight': 0.65}), ('76', '77', {'weight': 0.17105263157894735}), ('76', '87', {'weight': 0.5078125}), ('76', '113', {'weight': 0.40625}), ('77', '57', {'weight': 0.5078125}), ('77', '60', {'weight': 0.19117647058823528}), ('77', '67', {'weight': 0.1625}), ('47', '50', {'weight': 0.7583333333333333}), ('47', '54', {'weight': 0.7109375}), ('47', '84', {'weight': 0.7583333333333333}), ('47', '89', {'weight': 0.7109375}), ('67', '49', {'weight': 0.47794117647058826}), ('67', '60', {'weight': 0.09027777777777778}), ('67', '87', {'weight': 0.47794117647058826}), ('67', '92', {'weight': 0.47794117647058826}), ('67', '113', {'weight': 0.38235294117647056}), ('54', '49', {'weight': 0.15476190476190477}), ('54', '50', {'weight': 0.8666666666666667}), ('54', '84', {'weight': 0.7109375}), ('54', '87', {'weight': 0.07386363636363637}), ('54', '89', {'weight': 0.6691176470588235}), ('64', '60', {'weight': 0.21666666666666667}), ('64', '113', {'weight': 0.09027777777777778}), ('81', '87', {'weight': 0.07738095238095238}), ('81', '92', {'weight': 0.256578947368421}), ('92', '49', {'weight': 0.47794117647058826}), ('92', '87', {'weight': 0.609375}), ('92', '113', {'weight': 0.38235294117647056}), ('50', '49', {'weight': 0.07738095238095238}), ('50', '84', {'weight': 0.9285714285714285}), ('50', '89', {'weight': 0.7109375}), ('49', '87', {'weight': 0.7583333333333333}), ('84', '89', {'weight': 0.8666666666666667})]\n",
      "Jaccard Coefficient Weighted Graph\n",
      "[('2', '1', {'weight': 0.6857142857142857}), ('2', '4', {'weight': 0.128}), ('2', '6', {'weight': 0.6000000000000001}), ('2', '7', {'weight': 0.24615384615384617}), ('1', '3', {'weight': 0.4}), ('1', '4', {'weight': 0.11851851851851852}), ('1', '5', {'weight': 0.43636363636363634}), ('1', '6', {'weight': 1.0}), ('1', '7', {'weight': 0.34285714285714286}), ('3', '5', {'weight': 0.32000000000000006}), ('3', '6', {'weight': 0.6000000000000001}), ('3', '8', {'weight': 0.14545454545454548}), ('4', '6', {'weight': 0.11428571428571428}), ('4', '9', {'weight': 0.5942857142857143}), ('4', '10', {'weight': 0.35000000000000003}), ('4', '11', {'weight': 0.3612903225806452}), ('4', '12', {'weight': 0.6620689655172414}), ('4', '13', {'weight': 0.4756756756756757}), ('4', '14', {'weight': 0.2}), ('4', '15', {'weight': 0.36923076923076925}), ('4', '16', {'weight': 0.192}), ('4', '17', {'weight': 0.13333333333333333}), ('4', '18', {'weight': 0.192}), ('4', '19', {'weight': 0.064}), ('4', '20', {'weight': 0.05925925925925926}), ('4', '21', {'weight': 0.2206896551724138}), ('4', '22', {'weight': 0.26666666666666666}), ('4', '23', {'weight': 0.17777777777777778}), ('4', '24', {'weight': 0.22857142857142856}), ('4', '25', {'weight': 0.2962962962962963}), ('4', '26', {'weight': 0.12307692307692308}), ('4', '27', {'weight': 0.22857142857142856}), ('4', '28', {'weight': 0.22857142857142856}), ('5', '6', {'weight': 0.4}), ('5', '7', {'weight': 0.30000000000000004}), ('5', '29', {'weight': 1e-16}), ('5', '30', {'weight': 0.14545454545454548}), ('5', '31', {'weight': 0.05925925925925926}), ('5', '32', {'weight': 0.08888888888888889}), ('6', '7', {'weight': 0.45714285714285713}), ('6', '8', {'weight': 0.24615384615384617}), ('7', '8', {'weight': 0.08888888888888889}), ('7', '11', {'weight': 0.064}), ('7', '13', {'weight': 0.09411764705882353}), ('7', '19', {'weight': 0.12307692307692308}), ('7', '23', {'weight': 0.09411764705882353}), ('7', '26', {'weight': 0.10666666666666667}), ('7', '30', {'weight': 0.11428571428571428}), ('8', '15', {'weight': 0.1}), ('8', '31', {'weight': 0.05925925925925926}), ('8', '59', {'weight': 0.26666666666666666}), ('8', '72', {'weight': 1e-16}), ('8', '86', {'weight': 0.13333333333333333}), ('9', '10', {'weight': 0.45}), ('9', '11', {'weight': 0.3393939393939394}), ('9', '12', {'weight': 0.6193548387096774}), ('9', '13', {'weight': 0.6222222222222222}), ('9', '14', {'weight': 0.4266666666666667}), ('9', '15', {'weight': 0.2758620689655173}), ('9', '21', {'weight': 0.26666666666666666}), ('9', '22', {'weight': 0.24615384615384617}), ('9', '23', {'weight': 0.16551724137931034}), ('9', '24', {'weight': 0.34285714285714286}), ('9', '25', {'weight': 0.34285714285714286}), ('9', '27', {'weight': 0.34285714285714286}), ('9', '28', {'weight': 0.34285714285714286}), ('9', '33', {'weight': 0.24615384615384617}), ('9', '34', {'weight': 0.2758620689655173}), ('9', '36', {'weight': 0.26666666666666666}), ('9', '38', {'weight': 0.16551724137931034}), ('9', '41', {'weight': 0.6193548387096774}), ('9', '42', {'weight': 0.2206896551724138}), ('9', '43', {'weight': 0.17142857142857143}), ('9', '44', {'weight': 0.17777777777777778}), ('9', '45', {'weight': 0.24615384615384617}), ('9', '46', {'weight': 0.23703703703703705}), ('9', '47', {'weight': 0.05714285714285714}), ('10', '12', {'weight': 0.576}), ('10', '13', {'weight': 0.32941176470588235}), ('10', '15', {'weight': 0.3047619047619048}), ('10', '21', {'weight': 0.48}), ('10', '25', {'weight': 0.4}), ('10', '28', {'weight': 0.4}), ('10', '42', {'weight': 0.32000000000000006}), ('10', '46', {'weight': 0.25263157894736843}), ('10', '48', {'weight': 0.34285714285714286}), ('10', '49', {'weight': 0.17777777777777778}), ('10', '50', {'weight': 0.14545454545454548}), ('10', '51', {'weight': 0.08888888888888889}), ('10', '52', {'weight': 0.0761904761904762}), ('10', '53', {'weight': 0.08000000000000002}), ('11', '12', {'weight': 0.2206896551724138}), ('11', '13', {'weight': 0.46451612903225814}), ('11', '16', {'weight': 0.4}), ('11', '17', {'weight': 0.2}), ('11', '20', {'weight': 0.17777777777777778}), ('11', '22', {'weight': 0.28235294117647064}), ('11', '34', {'weight': 0.42105263157894735}), ('11', '36', {'weight': 0.3047619047619048}), ('11', '38', {'weight': 0.35555555555555557}), ('11', '39', {'weight': 0.4705882352941177}), ('11', '40', {'weight': 0.3368421052631579}), ('11', '56', {'weight': 0.30000000000000004}), ('12', '13', {'weight': 0.3657142857142857}), ('12', '14', {'weight': 0.384}), ('12', '15', {'weight': 0.36363636363636365}), ('12', '18', {'weight': 0.3368421052631579}), ('12', '21', {'weight': 0.192}), ('12', '22', {'weight': 0.24}), ('12', '23', {'weight': 0.1391304347826087}), ('12', '27', {'weight': 0.36363636363636365}), ('12', '28', {'weight': 0.2782608695652174}), ('12', '30', {'weight': 0.0761904761904762}), ('12', '46', {'weight': 0.32000000000000006}), ('12', '48', {'weight': 0.3862068965517242}), ('12', '51', {'weight': 0.08000000000000002}), ('12', '57', {'weight': 1e-16}), ('13', '14', {'weight': 0.4266666666666667}), ('13', '15', {'weight': 0.21333333333333335}), ('13', '16', {'weight': 0.17777777777777778}), ('13', '18', {'weight': 0.24615384615384617}), ('13', '19', {'weight': 0.12307692307692308}), ('13', '24', {'weight': 0.34285714285714286}), ('13', '25', {'weight': 0.2758620689655173}), ('13', '33', {'weight': 0.24615384615384617}), ('13', '34', {'weight': 0.4148148148148148}), ('13', '37', {'weight': 0.11428571428571428}), ('13', '39', {'weight': 0.16551724137931034}), ('13', '40', {'weight': 0.2206896551724138}), ('13', '41', {'weight': 0.3657142857142857}), ('13', '42', {'weight': 0.35555555555555557}), ('13', '45', {'weight': 0.17777777777777778}), ('13', '47', {'weight': 0.11851851851851852}), ('13', '48', {'weight': 0.6193548387096774}), ('13', '55', {'weight': 0.23703703703703705}), ('13', '56', {'weight': 0.11851851851851852}), ('14', '18', {'weight': 0.45714285714285713}), ('14', '30', {'weight': 0.1}), ('14', '33', {'weight': 0.2}), ('14', '41', {'weight': 0.3076923076923077}), ('14', '43', {'weight': 0.4266666666666667}), ('14', '44', {'weight': 0.2}), ('14', '45', {'weight': 0.32000000000000006}), ('14', '48', {'weight': 0.3076923076923077}), ('14', '58', {'weight': 1e-16}), ('15', '26', {'weight': 0.12307692307692308}), ('15', '27', {'weight': 0.32000000000000006}), ('15', '59', {'weight': 0.0761904761904762}), ('16', '17', {'weight': 0.5333333333333333}), ('16', '56', {'weight': 0.45714285714285713}), ('18', '48', {'weight': 0.24}), ('20', '56', {'weight': 0.2}), ('20', '57', {'weight': 1e-16}), ('20', '78', {'weight': 1e-16}), ('21', '25', {'weight': 0.5714285714285715}), ('21', '41', {'weight': 0.192}), ('21', '49', {'weight': 0.43636363636363634}), ('21', '50', {'weight': 0.32000000000000006}), ('21', '54', {'weight': 0.24615384615384617}), ('21', '58', {'weight': 0.24615384615384617}), ('22', '24', {'weight': 0.26666666666666666}), ('23', '26', {'weight': 0.5333333333333333}), ('23', '41', {'weight': 0.1391304347826087}), ('23', '53', {'weight': 1e-16}), ('24', '28', {'weight': 0.45714285714285713}), ('24', '33', {'weight': 0.43636363636363634}), ('24', '34', {'weight': 0.45714285714285713}), ('24', '48', {'weight': 0.2782608695652174}), ('24', '55', {'weight': 0.4}), ('25', '27', {'weight': 0.6153846153846154}), ('25', '41', {'weight': 0.45714285714285713}), ('25', '48', {'weight': 0.2782608695652174}), ('25', '54', {'weight': 0.43636363636363634}), ('26', '41', {'weight': 0.07272727272727274}), ('27', '41', {'weight': 0.36363636363636365}), ('27', '46', {'weight': 0.5818181818181819}), ('27', '48', {'weight': 0.2782608695652174}), ('27', '54', {'weight': 0.26666666666666666}), ('28', '41', {'weight': 0.2782608695652174}), ('28', '42', {'weight': 0.6666666666666667}), ('28', '48', {'weight': 0.45714285714285713}), ('28', '55', {'weight': 0.5818181818181819}), ('29', '67', {'weight': 0.06956521739130435}), ('29', '73', {'weight': 0.06666666666666667}), ('31', '32', {'weight': 0.46666666666666673}), ('31', '59', {'weight': 0.1032258064516129}), ('31', '67', {'weight': 0.5161290322580645}), ('31', '68', {'weight': 0.064}), ('31', '71', {'weight': 0.128}), ('31', '74', {'weight': 0.5161290322580645}), ('31', '75', {'weight': 0.45714285714285713}), ('31', '76', {'weight': 0.6153846153846154}), ('31', '77', {'weight': 0.512}), ('31', '78', {'weight': 0.2782608695652174}), ('31', '80', {'weight': 0.192}), ('31', '81', {'weight': 0.06956521739130435}), ('31', '83', {'weight': 0.4173913043478261}), ('31', '84', {'weight': 0.26666666666666666}), ('31', '85', {'weight': 0.48484848484848486}), ('31', '87', {'weight': 0.2758620689655173}), ('31', '94', {'weight': 0.2782608695652174}), ('31', '100', {'weight': 0.2962962962962963}), ('32', '50', {'weight': 0.08888888888888889}), ('32', '74', {'weight': 0.22857142857142856}), ('32', '75', {'weight': 0.45714285714285713}), ('32', '76', {'weight': 0.6736842105263158}), ('32', '77', {'weight': 0.42105263157894735}), ('32', '78', {'weight': 0.32000000000000006}), ('32', '79', {'weight': 0.22857142857142856}), ('32', '83', {'weight': 0.5333333333333333}), ('32', '92', {'weight': 0.18823529411764706}), ('59', '50', {'weight': 1e-16}), ('59', '51', {'weight': 1e-16}), ('59', '52', {'weight': 0.4266666666666667}), ('59', '53', {'weight': 0.2}), ('59', '65', {'weight': 0.4705882352941177}), ('59', '66', {'weight': 0.5333333333333333}), ('59', '69', {'weight': 0.21333333333333335}), ('59', '70', {'weight': 0.32000000000000006}), ('59', '78', {'weight': 0.08421052631578947}), ('59', '86', {'weight': 0.2}), ('72', '69', {'weight': 1e-16}), ('72', '71', {'weight': 0.16000000000000003}), ('72', '73', {'weight': 0.5142857142857143}), ('72', '74', {'weight': 0.25806451612903225}), ('72', '75', {'weight': 0.384}), ('72', '76', {'weight': 0.7619047619047619}), ('72', '77', {'weight': 0.34782608695652173}), ('72', '78', {'weight': 0.16000000000000003}), ('72', '79', {'weight': 0.28235294117647064}), ('72', '80', {'weight': 0.24}), ('72', '81', {'weight': 0.08888888888888889}), ('72', '82', {'weight': 1e-16}), ('72', '83', {'weight': 0.42105263157894735}), ('72', '84', {'weight': 0.24}), ('86', '66', {'weight': 0.14545454545454548}), ('86', '67', {'weight': 0.064}), ('86', '73', {'weight': 0.06153846153846154}), ('33', '34', {'weight': 0.43636363636363634}), ('34', '38', {'weight': 0.5333333333333333}), ('34', '39', {'weight': 0.5333333333333333}), ('34', '40', {'weight': 0.34285714285714286}), ('34', '48', {'weight': 0.2}), ('36', '35', {'weight': 0.5818181818181819}), ('36', '37', {'weight': 0.11428571428571428}), ('36', '38', {'weight': 0.49230769230769234}), ('36', '39', {'weight': 0.49230769230769234}), ('36', '40', {'weight': 0.45714285714285713}), ('36', '41', {'weight': 0.192}), ('36', '44', {'weight': 0.11428571428571428}), ('36', '45', {'weight': 0.24615384615384617}), ('38', '35', {'weight': 0.32000000000000006}), ('38', '39', {'weight': 0.6400000000000001}), ('38', '48', {'weight': 0.06666666666666667}), ('41', '40', {'weight': 0.20869565217391306}), ('41', '42', {'weight': 0.38095238095238093}), ('41', '43', {'weight': 0.32000000000000006}), ('41', '45', {'weight': 0.3368421052631579}), ('41', '46', {'weight': 0.22857142857142856}), ('41', '48', {'weight': 0.5333333333333333}), ('41', '54', {'weight': 0.24}), ('41', '55', {'weight': 0.32000000000000006}), ('42', '37', {'weight': 0.29090909090909095}), ('42', '48', {'weight': 0.48}), ('42', '55', {'weight': 0.6400000000000001}), ('43', '40', {'weight': 0.12307692307692308}), ('43', '44', {'weight': 0.35555555555555557}), ('43', '48', {'weight': 0.14545454545454548}), ('44', '57', {'weight': 1e-16}), ('46', '48', {'weight': 0.32000000000000006}), ('47', '48', {'weight': 0.0761904761904762}), ('47', '103', {'weight': 1e-16}), ('48', '37', {'weight': 0.1523809523809524}), ('48', '55', {'weight': 0.42105263157894735}), ('49', '50', {'weight': 0.5333333333333333}), ('49', '58', {'weight': 0.45714285714285713}), ('50', '58', {'weight': 0.29090909090909095}), ('50', '73', {'weight': 0.05517241379310345}), ('50', '77', {'weight': 0.16842105263157894}), ('52', '53', {'weight': 0.6000000000000001}), ('52', '65', {'weight': 0.5818181818181819}), ('52', '66', {'weight': 0.48}), ('52', '70', {'weight': 0.6000000000000001}), ('53', '65', {'weight': 0.26666666666666666}), ('39', '35', {'weight': 0.5333333333333333}), ('39', '40', {'weight': 0.8}), ('40', '35', {'weight': 0.29090909090909095}), ('57', '58', {'weight': 1e-16}), ('37', '35', {'weight': 0.17777777777777778}), ('78', '76', {'weight': 0.3368421052631579}), ('78', '77', {'weight': 0.4}), ('54', '77', {'weight': 1e-16}), ('67', '65', {'weight': 0.11428571428571428}), ('67', '68', {'weight': 0.128}), ('67', '71', {'weight': 0.26666666666666666}), ('67', '73', {'weight': 0.6193548387096774}), ('67', '74', {'weight': 0.567741935483871}), ('67', '75', {'weight': 0.3096774193548387}), ('67', '77', {'weight': 0.21333333333333335}), ('67', '81', {'weight': 0.1391304347826087}), ('67', '85', {'weight': 0.6000000000000001}), ('67', '87', {'weight': 0.5538461538461539}), ('67', '89', {'weight': 0.29090909090909095}), ('67', '90', {'weight': 0.36363636363636365}), ('67', '91', {'weight': 0.20869565217391306}), ('67', '94', {'weight': 0.26666666666666666}), ('67', '97', {'weight': 0.2782608695652174}), ('67', '98', {'weight': 0.2782608695652174}), ('67', '100', {'weight': 0.4307692307692308}), ('67', '101', {'weight': 0.28571428571428575}), ('73', '71', {'weight': 0.256}), ('73', '74', {'weight': 0.42352941176470593}), ('73', '75', {'weight': 0.6518518518518519}), ('73', '76', {'weight': 0.6518518518518519}), ('73', '77', {'weight': 0.4}), ('73', '79', {'weight': 0.2}), ('73', '80', {'weight': 0.32000000000000006}), ('73', '81', {'weight': 0.13333333333333333}), ('73', '83', {'weight': 0.384}), ('73', '85', {'weight': 0.5176470588235295}), ('73', '87', {'weight': 0.25806451612903225}), ('73', '88', {'weight': 0.128}), ('73', '89', {'weight': 0.2782608695652174}), ('73', '90', {'weight': 0.34782608695652173}), ('73', '91', {'weight': 0.2}), ('73', '92', {'weight': 0.24615384615384617}), ('73', '93', {'weight': 0.1391304347826087}), ('68', '65', {'weight': 0.24615384615384617}), ('68', '66', {'weight': 0.13333333333333333}), ('68', '104', {'weight': 0.22857142857142856}), ('68', '105', {'weight': 0.2}), ('71', '65', {'weight': 0.10666666666666667}), ('71', '76', {'weight': 0.24}), ('71', '91', {'weight': 0.32000000000000006}), ('74', '75', {'weight': 0.5925925925925926}), ('74', '76', {'weight': 0.5142857142857143}), ('74', '83', {'weight': 0.4869565217391305}), ('74', '84', {'weight': 0.33333333333333337}), ('74', '85', {'weight': 0.7466666666666667}), ('74', '87', {'weight': 0.4740740740740741}), ('74', '90', {'weight': 0.2782608695652174}), ('74', '93', {'weight': 0.14545454545454548}), ('74', '94', {'weight': 0.34782608695652173}), ('74', '95', {'weight': 0.26666666666666666}), ('74', '96', {'weight': 0.06666666666666667}), ('74', '97', {'weight': 0.36363636363636365}), ('74', '98', {'weight': 0.2782608695652174}), ('74', '99', {'weight': 0.13333333333333333}), ('74', '100', {'weight': 0.35555555555555557}), ('74', '101', {'weight': 0.4307692307692308}), ('75', '76', {'weight': 0.7272727272727273}), ('75', '79', {'weight': 0.3764705882352941}), ('75', '80', {'weight': 0.5333333333333333}), ('75', '83', {'weight': 0.6222222222222222}), ('75', '85', {'weight': 0.5517241379310346}), ('75', '88', {'weight': 0.26666666666666666}), ('75', '89', {'weight': 0.26666666666666666}), ('75', '92', {'weight': 0.42105263157894735}), ('75', '99', {'weight': 0.26666666666666666}), ('75', '100', {'weight': 0.26666666666666666}), ('76', '77', {'weight': 0.6095238095238096}), ('76', '79', {'weight': 0.3764705882352941}), ('76', '80', {'weight': 0.5333333333333333}), ('76', '83', {'weight': 0.7529411764705882}), ('76', '84', {'weight': 0.42105263157894735}), ('76', '85', {'weight': 0.4129032258064516}), ('76', '92', {'weight': 0.32000000000000006}), ('76', '93', {'weight': 0.18823529411764706}), ('77', '83', {'weight': 0.6000000000000001}), ('77', '84', {'weight': 0.3764705882352941}), ('77', '85', {'weight': 0.3862068965517242}), ('77', '87', {'weight': 0.2782608695652174}), ('80', '85', {'weight': 0.3076923076923077}), ('80', '92', {'weight': 0.5333333333333333}), ('80', '101', {'weight': 0.17777777777777778}), ('83', '85', {'weight': 0.36923076923076925}), ('84', '85', {'weight': 0.384}), ('84', '88', {'weight': 0.13333333333333333}), ('84', '101', {'weight': 0.17777777777777778}), ('85', '61', {'weight': 0.18461538461538463}), ('85', '63', {'weight': 0.18461538461538463}), ('85', '82', {'weight': 0.128}), ('85', '87', {'weight': 0.676923076923077}), ('85', '88', {'weight': 0.192}), ('85', '89', {'weight': 0.26666666666666666}), ('85', '90', {'weight': 0.33333333333333337}), ('85', '95', {'weight': 0.17777777777777778}), ('85', '97', {'weight': 0.33333333333333337}), ('85', '98', {'weight': 0.33333333333333337}), ('85', '100', {'weight': 0.4}), ('85', '101', {'weight': 0.5538461538461539}), ('85', '102', {'weight': 0.192}), ('87', '61', {'weight': 0.08421052631578947}), ('87', '62', {'weight': 0.09411764705882353}), ('87', '82', {'weight': 0.2}), ('87', '90', {'weight': 0.4}), ('87', '94', {'weight': 0.26666666666666666}), ('87', '98', {'weight': 0.4}), ('87', '101', {'weight': 0.29090909090909095}), ('87', '102', {'weight': 0.30000000000000004}), ('94', '95', {'weight': 0.26666666666666666}), ('94', '100', {'weight': 0.30000000000000004}), ('94', '103', {'weight': 0.16000000000000003}), ('100', '60', {'weight': 0.34285714285714286}), ('100', '61', {'weight': 0.45714285714285713}), ('100', '63', {'weight': 0.6153846153846154}), ('100', '64', {'weight': 0.36923076923076925}), ('100', '91', {'weight': 0.1}), ('100', '101', {'weight': 0.32000000000000006}), ('92', '91', {'weight': 0.13333333333333333}), ('92', '99', {'weight': 0.29090909090909095}), ('92', '101', {'weight': 0.17777777777777778}), ('103', '95', {'weight': 0.35555555555555557}), ('103', '96', {'weight': 0.22857142857142856}), ('65', '66', {'weight': 0.7272727272727273}), ('65', '69', {'weight': 0.29090909090909095}), ('65', '70', {'weight': 0.43636363636363634}), ('66', '69', {'weight': 0.35555555555555557}), ('66', '70', {'weight': 0.5333333333333333}), ('70', '105', {'weight': 1e-16}), ('61', '60', {'weight': 0.6000000000000001}), ('61', '63', {'weight': 0.8}), ('61', '64', {'weight': 0.6857142857142857}), ('60', '62', {'weight': 1e-16}), ('60', '63', {'weight': 0.6000000000000001}), ('60', '64', {'weight': 0.8}), ('62', '96', {'weight': 1e-16}), ('62', '102', {'weight': 0.2}), ('63', '64', {'weight': 0.6857142857142857}), ('63', '101', {'weight': 0.2}), ('96', '95', {'weight': 0.35555555555555557}), ('102', '95', {'weight': 0.14545454545454548}), ('102', '101', {'weight': 0.21333333333333335}), ('101', '97', {'weight': 0.32000000000000006}), ('101', '99', {'weight': 0.21333333333333335}), ('89', '90', {'weight': 0.6000000000000001}), ('97', '95', {'weight': 0.29090909090909095}), ('97', '98', {'weight': 0.5333333333333333}), ('98', '82', {'weight': 0.4}), ('104', '105', {'weight': 0.4}), ('88', '99', {'weight': 0.17777777777777778})]\n"
     ]
    }
   ],
   "source": [
    "graph_karate_jaccard = jaccard_sim(graph_karate)\n",
    "graph_dolphin_jaccard = jaccard_sim(graph_dolphin)\n",
    "graph_football_jaccard = jaccard_sim(graph_football)\n",
    "graph_book_jaccard = jaccard_sim(graph_book)"
   ]
  },
  {
   "cell_type": "code",
   "execution_count": 9,
   "metadata": {},
   "outputs": [
    {
     "name": "stderr",
     "output_type": "stream",
     "text": [
      "Computing transition probabilities: 100%|██████████| 34/34 [00:00<00:00, 6813.82it/s]\n",
      "Generating walks (CPU: 1): 100%|██████████| 100/100 [00:01<00:00, 93.00it/s]\n",
      "Computing transition probabilities: 100%|██████████| 62/62 [00:00<00:00, 5954.14it/s]\n",
      "Generating walks (CPU: 1): 100%|██████████| 100/100 [00:01<00:00, 50.47it/s]\n",
      "Computing transition probabilities: 100%|██████████| 115/115 [00:00<00:00, 2127.70it/s]\n",
      "Generating walks (CPU: 1): 100%|██████████| 100/100 [00:04<00:00, 24.93it/s]\n",
      "Computing transition probabilities: 100%|██████████| 105/105 [00:00<00:00, 1968.45it/s]\n",
      "Generating walks (CPU: 1): 100%|██████████| 100/100 [00:03<00:00, 26.75it/s]\n"
     ]
    }
   ],
   "source": [
    "# Creating data array for each dataset\n",
    "\n",
    "karate_club_data_array_jaccard = prepare_data_arrays(graph_karate_jaccard)\n",
    "dolphin_data_array_jaccard = prepare_data_arrays(graph_dolphin_jaccard)\n",
    "football_data_array_jaccard = prepare_data_arrays(graph_football_jaccard)\n",
    "book_data_array_jaccard = prepare_data_arrays(graph_book_jaccard)"
   ]
  },
  {
   "cell_type": "code",
   "execution_count": 10,
   "metadata": {},
   "outputs": [],
   "source": [
    "# Performing K-means\n",
    "\n",
    "kmeans_labels_dict_karate_jaccard, kmeans_modularity_karate_jaccard, kmeans_work_log_karate_jaccard = cluster_all_data_arrays(karate_club_data_array_jaccard, adjacency_karate)\n",
    "kmeans_labels_dict_dolphin_jaccard, kmeans_modularity_dolphin_jaccard, kmeans_work_log_dolphin_jaccard = cluster_all_data_arrays(dolphin_data_array_jaccard, adjacency_dolphin)\n",
    "kmeans_labels_dict_football_jaccard, kmeans_modularity_football_jaccard, kmeans_work_log_football_jaccard = cluster_all_data_arrays(football_data_array_jaccard, adjacency_football)\n",
    "kmeans_labels_dict_book_jaccard, kmeans_modularity_book_jaccard, kmeans_work_log_book_jaccard = cluster_all_data_arrays(book_data_array_jaccard, adjacency_book)"
   ]
  },
  {
   "cell_type": "code",
   "execution_count": 11,
   "metadata": {},
   "outputs": [
    {
     "data": {
      "text/plain": [
       "{'node_array': 0.17225509533201833,\n",
       " 'embedded_node_array_node2vec': 0.4151051939513479,\n",
       " 'embedded_node_array_hope': 0.39907955292570685,\n",
       " 'embedded_node_array_sdne': 0.2807363576594346,\n",
       " 'embedded_node_array_sdne+hope': 0.3845332018408941,\n",
       " 'embedded_node_array_sdne+node2vec': 0.4151051939513479,\n",
       " 'embedded_node_array_hope+node2vec': 0.4101742274819199,\n",
       " 'embedded_node_array_summation': 0.39907955292570674,\n",
       " 'embedded_node_array_sdne*hope': 0.3869986850756081,\n",
       " 'embedded_node_array_sdne*node2vec': 0.4151051939513479,\n",
       " 'embedded_node_array_hope*node2vec': 0.26109467455621305,\n",
       " 'embedded_node_array_multiply': 0.09557856673241288,\n",
       " 'embedded_node_array_sdneMINhope': 0.39949046679815914,\n",
       " 'embedded_node_array_sdneMINnode2vec': 0.4058185404339251,\n",
       " 'embedded_node_array_hopeMINnode2vec': 0.389792899408284,\n",
       " 'embedded_node_array_minimum': 0.389792899408284,\n",
       " 'embedded_node_array_sdneMAXhope': 0.40203813280736356,\n",
       " 'embedded_node_array_sdneMAXnode2vec': 0.4151051939513479,\n",
       " 'embedded_node_array_hopeMAXnode2vec': 0.3942307692307693,\n",
       " 'embedded_node_array_maximum': 0.40779092702169634}"
      ]
     },
     "execution_count": 11,
     "metadata": {},
     "output_type": "execute_result"
    }
   ],
   "source": [
    "kmeans_modularity_karate_jaccard"
   ]
  },
  {
   "cell_type": "code",
   "execution_count": 12,
   "metadata": {},
   "outputs": [
    {
     "data": {
      "text/plain": [
       "{'node_array': 0.2955381511807286,\n",
       " 'embedded_node_array_node2vec': 0.5267987816937623,\n",
       " 'embedded_node_array_hope': 0.46064237965270366,\n",
       " 'embedded_node_array_sdne': 0.31270519362367,\n",
       " 'embedded_node_array_sdne+hope': 0.49715201139195453,\n",
       " 'embedded_node_array_sdne+node2vec': 0.5220125786163523,\n",
       " 'embedded_node_array_hope+node2vec': 0.4992880028479886,\n",
       " 'embedded_node_array_summation': 0.47747320121830616,\n",
       " 'embedded_node_array_sdne*hope': 0.4641232546180926,\n",
       " 'embedded_node_array_sdne*node2vec': 0.5173648194296112,\n",
       " 'embedded_node_array_hope*node2vec': 0.30823543372493173,\n",
       " 'embedded_node_array_multiply': 0.24846722835330887,\n",
       " 'embedded_node_array_sdneMINhope': 0.5002373323840039,\n",
       " 'embedded_node_array_sdneMINnode2vec': 0.5160594913175902,\n",
       " 'embedded_node_array_hopeMINnode2vec': 0.4811122977730311,\n",
       " 'embedded_node_array_minimum': 0.4951149084292552,\n",
       " 'embedded_node_array_sdneMAXhope': 0.49715201139195453,\n",
       " 'embedded_node_array_sdneMAXnode2vec': 0.4805980776076896,\n",
       " 'embedded_node_array_hopeMAXnode2vec': 0.48813338079981017,\n",
       " 'embedded_node_array_maximum': 0.49709267829595344}"
      ]
     },
     "execution_count": 12,
     "metadata": {},
     "output_type": "execute_result"
    }
   ],
   "source": [
    "kmeans_modularity_dolphin_jaccard"
   ]
  },
  {
   "cell_type": "code",
   "execution_count": 13,
   "metadata": {},
   "outputs": [
    {
     "data": {
      "text/plain": [
       "{'node_array': 0.5634751669243605,\n",
       " 'embedded_node_array_node2vec': 0.6028717110778165,\n",
       " 'embedded_node_array_hope': 0.509171858242697,\n",
       " 'embedded_node_array_sdne': 0.5975625982984227,\n",
       " 'embedded_node_array_sdne+hope': 0.5189092234857053,\n",
       " 'embedded_node_array_sdne+node2vec': 0.6002876767375702,\n",
       " 'embedded_node_array_hope+node2vec': 0.5293544704326327,\n",
       " 'embedded_node_array_summation': 0.5241770875191939,\n",
       " 'embedded_node_array_sdne*hope': 0.38946799762620143,\n",
       " 'embedded_node_array_sdne*node2vec': 0.5978154131926796,\n",
       " 'embedded_node_array_hope*node2vec': 0.3984908281417575,\n",
       " 'embedded_node_array_multiply': 0.3218679561113346,\n",
       " 'embedded_node_array_sdneMINhope': 0.589429942331592,\n",
       " 'embedded_node_array_sdneMINnode2vec': 0.6021452009080046,\n",
       " 'embedded_node_array_hopeMINnode2vec': 0.524612195258257,\n",
       " 'embedded_node_array_minimum': 0.5778084408240168,\n",
       " 'embedded_node_array_sdneMAXhope': 0.4989860792135594,\n",
       " 'embedded_node_array_sdneMAXnode2vec': 0.5999177686291313,\n",
       " 'embedded_node_array_hopeMAXnode2vec': 0.5235011403282335,\n",
       " 'embedded_node_array_maximum': 0.5376627662207366}"
      ]
     },
     "execution_count": 13,
     "metadata": {},
     "output_type": "execute_result"
    }
   ],
   "source": [
    "kmeans_modularity_football_jaccard"
   ]
  },
  {
   "cell_type": "code",
   "execution_count": 14,
   "metadata": {},
   "outputs": [
    {
     "data": {
      "text/plain": [
       "{'node_array': 0.23507694839084542,\n",
       " 'embedded_node_array_node2vec': 0.5265681480453103,\n",
       " 'embedded_node_array_hope': 0.4381070644433133,\n",
       " 'embedded_node_array_sdne': 0.4718147274026768,\n",
       " 'embedded_node_array_sdne+hope': 0.43915086820820554,\n",
       " 'embedded_node_array_sdne+node2vec': 0.5221718316956412,\n",
       " 'embedded_node_array_hope+node2vec': 0.45409063096137936,\n",
       " 'embedded_node_array_summation': 0.4584278155706728,\n",
       " 'embedded_node_array_sdne*hope': 0.4051449756017298,\n",
       " 'embedded_node_array_sdne*node2vec': 0.5191946771149879,\n",
       " 'embedded_node_array_hope*node2vec': 0.31434947372751065,\n",
       " 'embedded_node_array_multiply': 0.31830101655174536,\n",
       " 'embedded_node_array_sdneMINhope': 0.4494655004859087,\n",
       " 'embedded_node_array_sdneMINnode2vec': 0.5251952632905013,\n",
       " 'embedded_node_array_hopeMINnode2vec': 0.4705318257310483,\n",
       " 'embedded_node_array_minimum': 0.47360667623058295,\n",
       " 'embedded_node_array_sdneMAXhope': 0.4319162283205042,\n",
       " 'embedded_node_array_sdneMAXnode2vec': 0.503051711992431,\n",
       " 'embedded_node_array_hopeMAXnode2vec': 0.4119631223615675,\n",
       " 'embedded_node_array_maximum': 0.4405468914701176}"
      ]
     },
     "execution_count": 14,
     "metadata": {},
     "output_type": "execute_result"
    }
   ],
   "source": [
    "kmeans_modularity_book_jaccard"
   ]
  },
  {
   "cell_type": "markdown",
   "metadata": {},
   "source": [
    "# Adamic-Adar"
   ]
  },
  {
   "cell_type": "code",
   "execution_count": 15,
   "metadata": {},
   "outputs": [],
   "source": [
    "# Calculate Adamic-Adar Coefficient for pairs of nodes connected by an edge\n",
    "\n",
    "def adamic_adar_sim(original_graph):\n",
    "    adamic_adar_graph = original_graph.copy()\n",
    "\n",
    "    adamic_adar = []\n",
    "    for u, v in original_graph.edges():\n",
    "        similarity = nx.adamic_adar_index(original_graph, [(u, v)])\n",
    "        adamic_adar.append((u, v, list(similarity)[0][2]))\n",
    "\n",
    "    # Normalize the scores\n",
    "    scaler = MinMaxScaler()\n",
    "    normalized_adamic_adar = scaler.fit_transform([[s] for _, _, s in adamic_adar])\n",
    "\n",
    "    for (u, v, s), norm_s in zip(adamic_adar, normalized_adamic_adar):\n",
    "        if norm_s[0] == 0 :\n",
    "            adamic_adar_graph[u][v]['weight'] =  0.0000000000000001\n",
    "        else:\n",
    "            adamic_adar_graph[u][v]['weight'] = norm_s[0]\n",
    "\n",
    "    print(\"Adamic-Adar Index Weighted Graph\")\n",
    "    print(adamic_adar_graph.edges(data=True))\n",
    "\n",
    "    return(adamic_adar_graph)"
   ]
  },
  {
   "cell_type": "code",
   "execution_count": 16,
   "metadata": {},
   "outputs": [
    {
     "name": "stdout",
     "output_type": "stream",
     "text": [
      "Adamic-Adar Index Weighted Graph\n",
      "[(0, 1, {'weight': 0.5862815101369199}), (0, 2, {'weight': 0.284714703470282}), (0, 3, {'weight': 0.3514209526396614}), (0, 4, {'weight': 0.1560289215739986}), (0, 5, {'weight': 0.1560289215739986}), (0, 6, {'weight': 0.1560289215739986}), (0, 7, {'weight': 0.13842703839961878}), (0, 8, {'weight': 0.0415316560878763}), (0, 10, {'weight': 0.1560289215739986}), (0, 11, {'weight': 1e-16}), (0, 12, {'weight': 0.05337221532112219}), (0, 13, {'weight': 0.13842703839961878}), (0, 17, {'weight': 0.04352316699062029}), (0, 19, {'weight': 0.04352316699062029}), (0, 21, {'weight': 0.04352316699062029}), (0, 31, {'weight': 1e-16}), (1, 2, {'weight': 0.21626446349314998}), (1, 3, {'weight': 0.2044239042599041}), (1, 7, {'weight': 0.1293951652053775}), (1, 13, {'weight': 0.1293951652053775}), (1, 17, {'weight': 0.03449129379637901}), (1, 19, {'weight': 0.03449129379637901}), (1, 21, {'weight': 0.03449129379637901}), (1, 30, {'weight': 1e-16}), (2, 3, {'weight': 0.20641541516264805}), (2, 7, {'weight': 0.1313866761081215}), (2, 8, {'weight': 0.07297570615990101}), (2, 9, {'weight': 1e-16}), (2, 13, {'weight': 0.1313866761081215}), (2, 27, {'weight': 1e-16}), (2, 28, {'weight': 1e-16}), (2, 32, {'weight': 0.05941836678289075}), (3, 7, {'weight': 0.11954611687487558}), (3, 12, {'weight': 0.03449129379637901}), (3, 13, {'weight': 0.11954611687487558}), (4, 6, {'weight': 0.03449129379637901}), (4, 10, {'weight': 0.03449129379637901}), (5, 6, {'weight': 0.17245646898189507}), (5, 10, {'weight': 0.03449129379637901}), (5, 16, {'weight': 0.06898258759275802}), (6, 16, {'weight': 0.06898258759275802}), (8, 30, {'weight': 0.07223766726609454}), (8, 32, {'weight': 0.14426749858320684}), (8, 33, {'weight': 0.10746699995628003}), (9, 33, {'weight': 1e-16}), (13, 33, {'weight': 1e-16}), (14, 32, {'weight': 0.03375325490257253}), (14, 33, {'weight': 0.03848441236352201}), (15, 32, {'weight': 0.03375325490257253}), (15, 33, {'weight': 0.03848441236352201}), (18, 32, {'weight': 0.03375325490257253}), (18, 33, {'weight': 0.03848441236352201}), (19, 33, {'weight': 1e-16}), (20, 32, {'weight': 0.03375325490257253}), (20, 33, {'weight': 0.03848441236352201}), (22, 32, {'weight': 0.03375325490257253}), (22, 33, {'weight': 0.03848441236352201}), (23, 25, {'weight': 1e-16}), (23, 27, {'weight': 0.03375325490257253}), (23, 29, {'weight': 0.07223766726609454}), (23, 32, {'weight': 0.10273584249533055}), (23, 33, {'weight': 0.17644958754903806}), (24, 25, {'weight': 0.05337221532112219}), (24, 27, {'weight': 1e-16}), (24, 31, {'weight': 0.08704633398124058}), (25, 31, {'weight': 0.08704633398124058}), (26, 29, {'weight': 0.03375325490257253}), (26, 33, {'weight': 0.06898258759275802}), (27, 33, {'weight': 0.05941836678289075}), (28, 31, {'weight': 0.03375325490257253}), (28, 33, {'weight': 0.05337221532112219}), (29, 32, {'weight': 0.09317162168546328}), (29, 33, {'weight': 0.2358679543319288}), (30, 32, {'weight': 0.09317162168546328}), (30, 33, {'weight': 0.09790277914641275}), (31, 32, {'weight': 0.03375325490257253}), (31, 33, {'weight': 0.1255307463447626}), (32, 33, {'weight': 1.0})]\n",
      "Adamic-Adar Index Weighted Graph\n",
      "[('11', '1', {'weight': 0.2999569482262416}), ('11', '3', {'weight': 0.1499784741131208}), ('11', '30', {'weight': 1e-16}), ('11', '43', {'weight': 0.49380131397513954}), ('11', '48', {'weight': 0.2999569482262416}), ('1', '15', {'weight': 0.12922957716593197}), ('1', '16', {'weight': 0.12922957716593197}), ('1', '41', {'weight': 0.24624054928005235}), ('1', '43', {'weight': 0.3169469225984314}), ('1', '48', {'weight': 0.3169469225984314}), ('15', '4', {'weight': 1e-16}), ('15', '17', {'weight': 0.4961002026838077}), ('15', '25', {'weight': 1e-16}), ('15', '34', {'weight': 0.9636682778067223}), ('15', '35', {'weight': 0.2287731129975685}), ('15', '38', {'weight': 0.7009799494464265}), ('15', '39', {'weight': 0.5986262895440818}), ('15', '41', {'weight': 0.5725959528595873}), ('15', '44', {'weight': 0.3580026901635005}), ('15', '51', {'weight': 0.26668441127487663}), ('15', '53', {'weight': 0.25845915433186395}), ('16', '19', {'weight': 0.2620456499489334}), ('16', '25', {'weight': 0.2501646883561198}), ('16', '41', {'weight': 0.1499784741131208}), ('16', '46', {'weight': 0.4550444351187386}), ('16', '56', {'weight': 1e-16}), ('16', '60', {'weight': 0.11206717583581263}), ('41', '8', {'weight': 1e-16}), ('41', '34', {'weight': 0.22021021259555779}), ('41', '37', {'weight': 0.11206717583581263}), ('41', '38', {'weight': 0.3629464864418082}), ('41', '53', {'weight': 0.10814303675974515}), ('43', '3', {'weight': 0.16696844848531062}), ('43', '31', {'weight': 0.1499784741131208}), ('43', '48', {'weight': 0.483915371083742}), ('43', '51', {'weight': 1e-16}), ('48', '21', {'weight': 0.16696844848531062}), ('48', '29', {'weight': 0.2892706263984783}), ('48', '31', {'weight': 0.3169469225984314}), ('18', '2', {'weight': 0.16696844848531062}), ('18', '7', {'weight': 0.3896292675994068}), ('18', '10', {'weight': 0.40151022919222035}), ('18', '14', {'weight': 0.4103781645465956}), ('18', '23', {'weight': 1e-16}), ('18', '26', {'weight': 0.16696844848531062}), ('18', '28', {'weight': 0.37383393299226725}), ('18', '32', {'weight': 1e-16}), ('18', '58', {'weight': 0.41730556379935996}), ('2', '20', {'weight': 0.1380975125203072}), ('2', '27', {'weight': 0.16696844848531062}), ('2', '28', {'weight': 0.366906533739503}), ('2', '29', {'weight': 1e-16}), ('2', '37', {'weight': 1e-16}), ('2', '42', {'weight': 0.1380975125203072}), ('2', '55', {'weight': 0.3608128142342085}), ('20', '8', {'weight': 0.3050659610056178}), ('20', '31', {'weight': 0.16696844848531062}), ('20', '55', {'weight': 0.2961980256512426}), ('27', '26', {'weight': 0.16696844848531062}), ('27', '28', {'weight': 0.37383393299226725}), ('28', '8', {'weight': 1e-16}), ('28', '26', {'weight': 0.366906533739503}), ('29', '9', {'weight': 0.12230217791316765}), ('29', '21', {'weight': 0.2999569482262416}), ('29', '31', {'weight': 0.1499784741131208}), ('37', '21', {'weight': 1e-16}), ('37', '24', {'weight': 1e-16}), ('37', '38', {'weight': 0.12922957716593197}), ('37', '40', {'weight': 1e-16}), ('37', '60', {'weight': 1e-16}), ('42', '10', {'weight': 0.25153175507909964}), ('42', '14', {'weight': 0.398497202953782}), ('42', '55', {'weight': 0.38076133224503167}), ('42', '58', {'weight': 0.40542460220654636}), ('55', '7', {'weight': 0.25153175507909964}), ('55', '8', {'weight': 0.19384436574889796}), ('55', '14', {'weight': 0.439249100511599}), ('55', '58', {'weight': 0.4461764997643634}), ('3', '45', {'weight': 1e-16}), ('3', '62', {'weight': 1e-16}), ('45', '21', {'weight': 0.12922957716593197}), ('45', '35', {'weight': 1e-16}), ('45', '39', {'weight': 0.12230217791316765}), ('62', '38', {'weight': 1e-16}), ('62', '54', {'weight': 1e-16}), ('9', '4', {'weight': 0.16696844848531062}), ('9', '21', {'weight': 0.16696844848531062}), ('9', '38', {'weight': 0.11206717583581263}), ('9', '46', {'weight': 0.2790356243211232}), ('9', '60', {'weight': 0.35667153166214793}), ('4', '60', {'weight': 0.1499784741131208}), ('60', '46', {'weight': 0.288075986633428}), ('52', '5', {'weight': 1e-16}), ('52', '12', {'weight': 1e-16}), ('52', '19', {'weight': 0.5343263019752218}), ('52', '22', {'weight': 0.37246686626928743}), ('52', '24', {'weight': 0.11206717583581263}), ('52', '25', {'weight': 0.37246686626928743}), ('52', '30', {'weight': 0.5501216365823615}), ('52', '46', {'weight': 0.9430585070063587}), ('52', '51', {'weight': 0.11206717583581263}), ('52', '56', {'weight': 1e-16}), ('10', '6', {'weight': 0.25153175507909964}), ('10', '7', {'weight': 0.37383393299226725}), ('10', '14', {'weight': 1.0}), ('10', '33', {'weight': 0.12922957716593197}), ('10', '58', {'weight': 0.762323043426429}), ('6', '14', {'weight': 0.26039969043347483}), ('6', '57', {'weight': 1e-16}), ('6', '58', {'weight': 0.26732708968623914}), ('14', '7', {'weight': 0.5207993808669495}), ('14', '33', {'weight': 0.1380975125203072}), ('14', '58', {'weight': 0.9092884913011113}), ('57', '7', {'weight': 1e-16}), ('58', '7', {'weight': 0.527726780119714}), ('58', '40', {'weight': 1e-16}), ('58', '49', {'weight': 1e-16}), ('8', '31', {'weight': 0.19384436574889796}), ('21', '17', {'weight': 0.26732708968623914}), ('21', '19', {'weight': 1e-16}), ('21', '39', {'weight': 0.3438228398620187}), ('21', '51', {'weight': 0.1499784741131208}), ('38', '17', {'weight': 0.22484897392150102}), ('38', '22', {'weight': 0.2287731129975685}), ('38', '34', {'weight': 0.8423955231575366}), ('38', '35', {'weight': 0.22484897392150102}), ('38', '44', {'weight': 0.22484897392150102}), ('38', '46', {'weight': 0.2999569482262416}), ('46', '19', {'weight': 0.6770625758214723}), ('46', '22', {'weight': 0.4891728034310433}), ('46', '24', {'weight': 0.11670593716175585}), ('46', '25', {'weight': 0.5152031401155378}), ('46', '30', {'weight': 0.5547603979083046}), ('46', '51', {'weight': 0.11670593716175585}), ('33', '61', {'weight': 1e-16}), ('30', '19', {'weight': 0.52873006122381}), ('30', '22', {'weight': 0.3668706255178757}), ('30', '25', {'weight': 0.3668706255178757}), ('30', '36', {'weight': 1e-16}), ('30', '44', {'weight': 1e-16}), ('30', '53', {'weight': 1e-16}), ('34', '13', {'weight': 1e-16}), ('34', '17', {'weight': 0.487537302281797}), ('34', '22', {'weight': 0.11206717583581263}), ('34', '35', {'weight': 0.22021021259555779}), ('34', '39', {'weight': 0.39621902339317316}), ('34', '44', {'weight': 0.3494397897614898}), ('34', '51', {'weight': 0.25812151087286594}), ('17', '39', {'weight': 0.34715115183466866}), ('17', '51', {'weight': 0.34715115183466866}), ('25', '19', {'weight': 0.4891728034310433}), ('35', '50', {'weight': 1e-16}), ('39', '44', {'weight': 0.22484897392150102}), ('39', '53', {'weight': 0.10814303675974515}), ('39', '59', {'weight': 1e-16}), ('44', '47', {'weight': 1e-16}), ('44', '54', {'weight': 1e-16}), ('19', '22', {'weight': 0.35107529091073614}), ('50', '47', {'weight': 1e-16})]\n",
      "Adamic-Adar Index Weighted Graph\n",
      "[('2', '1', {'weight': 0.12940140693510274}), ('2', '26', {'weight': 0.8852363539451411}), ('2', '28', {'weight': 1e-16}), ('2', '34', {'weight': 1.0}), ('2', '38', {'weight': 0.8852363539451411}), ('2', '46', {'weight': 0.8852363539451411}), ('2', '58', {'weight': 1e-16}), ('2', '90', {'weight': 0.8852363539451411}), ('2', '102', {'weight': 1e-16}), ('2', '104', {'weight': 0.8800929802949965}), ('2', '106', {'weight': 0.8800929802949965}), ('2', '110', {'weight': 0.8852363539451411}), ('1', '5', {'weight': 0.7514839334300837}), ('1', '10', {'weight': 0.7514839334300837}), ('1', '17', {'weight': 0.7514839334300837}), ('1', '24', {'weight': 0.8870903496765512}), ('1', '34', {'weight': 0.11990701970500348}), ('1', '36', {'weight': 1e-16}), ('1', '42', {'weight': 0.7463405597799392}), ('1', '66', {'weight': 1e-16}), ('1', '91', {'weight': 0.12425803328495823}), ('1', '94', {'weight': 0.7463405597799392}), ('1', '105', {'weight': 0.7558349470100385}), ('5', '6', {'weight': 1e-16}), ('5', '10', {'weight': 0.8765343267852316}), ('5', '17', {'weight': 0.7471329198501289}), ('5', '24', {'weight': 0.7471329198501289}), ('5', '29', {'weight': 0.12425803328495823}), ('5', '42', {'weight': 0.7419895461999844}), ('5', '70', {'weight': 0.13560641624646746}), ('5', '94', {'weight': 0.7419895461999844}), ('5', '105', {'weight': 0.7514839334300837}), ('5', '109', {'weight': 0.12425803328495823}), ('10', '9', {'weight': 0.253659440220061}), ('10', '17', {'weight': 0.7471329198501289}), ('10', '23', {'weight': 0.3779174735050192}), ('10', '24', {'weight': 0.8713909531350871}), ('10', '42', {'weight': 0.8662475794849426}), ('10', '65', {'weight': 1e-16}), ('10', '94', {'weight': 0.7419895461999844}), ('10', '105', {'weight': 0.7514839334300837}), ('10', '109', {'weight': 0.24851606656991646}), ('17', '18', {'weight': 1e-16}), ('17', '24', {'weight': 0.7471329198501289}), ('17', '39', {'weight': 1e-16}), ('17', '42', {'weight': 0.8618965659049879}), ('17', '68', {'weight': 0.24930842664010622}), ('17', '82', {'weight': 1e-16}), ('17', '94', {'weight': 0.7419895461999844}), ('17', '105', {'weight': 0.8713909531350871}), ('24', '23', {'weight': 0.24851606656991646}), ('24', '42', {'weight': 0.7419895461999844}), ('24', '79', {'weight': 0.24851606656991646}), ('24', '91', {'weight': 0.11990701970500348}), ('24', '94', {'weight': 0.7419895461999844}), ('24', '105', {'weight': 0.7514839334300837}), ('24', '112', {'weight': 0.12425803328495823}), ('34', '20', {'weight': 1e-16}), ('34', '26', {'weight': 0.8757419667150418}), ('34', '38', {'weight': 0.8757419667150418}), ('34', '46', {'weight': 0.8757419667150418}), ('34', '90', {'weight': 0.8757419667150418}), ('34', '104', {'weight': 0.8705985930648973}), ('34', '106', {'weight': 0.8705985930648973}), ('34', '110', {'weight': 0.8757419667150418}), ('36', '20', {'weight': 0.8800929802949966}), ('36', '30', {'weight': 0.7558349470100385}), ('36', '31', {'weight': 0.8800929802949966}), ('36', '35', {'weight': 0.12940140693510274}), ('36', '45', {'weight': 0.24851606656991646}), ('36', '56', {'weight': 0.7558349470100385}), ('36', '80', {'weight': 0.7558349470100385}), ('36', '93', {'weight': 1e-16}), ('36', '95', {'weight': 0.8749496066448521}), ('36', '102', {'weight': 0.7506915733598939}), ('42', '9', {'weight': 0.12425803328495823}), ('42', '41', {'weight': 1e-16}), ('42', '68', {'weight': 0.2441650529899617}), ('42', '94', {'weight': 0.7368461725498398}), ('42', '105', {'weight': 0.8662475794849426}), ('66', '18', {'weight': 0.6315769137250802}), ('66', '21', {'weight': 0.6315769137250802}), ('66', '28', {'weight': 0.6429252966865894}), ('66', '57', {'weight': 0.5021755067899775}), ('66', '64', {'weight': 0.12425803328495823}), ('66', '67', {'weight': 1e-16}), ('66', '71', {'weight': 0.5073188804401219}), ('66', '88', {'weight': 0.6367202873752246}), ('66', '97', {'weight': 0.7558349470100385}), ('66', '114', {'weight': 0.6264335400749357}), ('91', '6', {'weight': 0.12940140693510274}), ('91', '9', {'weight': 1e-16}), ('91', '12', {'weight': 0.6447792924179994}), ('91', '25', {'weight': 0.5248722727129959}), ('91', '29', {'weight': 0.5186672634016312}), ('91', '51', {'weight': 0.5186672634016312}), ('91', '70', {'weight': 0.5300156463631405}), ('94', '81', {'weight': 0.24851606656991646}), ('94', '83', {'weight': 0.12425803328495823}), ('94', '92', {'weight': 0.12425803328495823}), ('94', '105', {'weight': 0.7463405597799391}), ('105', '12', {'weight': 1e-16}), ('105', '68', {'weight': 0.3779174735050192}), ('105', '73', {'weight': 1e-16}), ('105', '88', {'weight': 1e-16}), ('105', '115', {'weight': 0.11990701970500348}), ('26', '25', {'weight': 1e-16}), ('26', '38', {'weight': 0.8808853403651864}), ('26', '46', {'weight': 0.8808853403651864}), ('26', '54', {'weight': 1e-16}), ('26', '90', {'weight': 0.8808853403651864}), ('26', '104', {'weight': 0.8757419667150418}), ('26', '106', {'weight': 0.8757419667150418}), ('26', '107', {'weight': 1e-16}), ('26', '110', {'weight': 0.8808853403651864}), ('28', '18', {'weight': 0.5073188804401219}), ('28', '27', {'weight': 1e-16}), ('28', '57', {'weight': 0.7558349470100385}), ('28', '63', {'weight': 0.6315769137250802}), ('28', '64', {'weight': 0.12425803328495823}), ('28', '71', {'weight': 0.6315769137250802}), ('28', '77', {'weight': 0.6367202873752246}), ('28', '96', {'weight': 0.6264335400749356}), ('28', '97', {'weight': 0.5021755067899774}), ('38', '37', {'weight': 1e-16}), ('38', '46', {'weight': 0.8808853403651864}), ('38', '81', {'weight': 0.12940140693510274}), ('38', '90', {'weight': 0.8808853403651864}), ('38', '96', {'weight': 1e-16}), ('38', '104', {'weight': 0.8757419667150418}), ('38', '106', {'weight': 1.0}), ('38', '110', {'weight': 0.8808853403651864}), ('46', '14', {'weight': 1e-16}), ('46', '45', {'weight': 1e-16}), ('46', '63', {'weight': 0.12940140693510274}), ('46', '90', {'weight': 0.8808853403651864}), ('46', '104', {'weight': 0.8757419667150418}), ('46', '106', {'weight': 1.0}), ('46', '110', {'weight': 0.8808853403651864}), ('58', '43', {'weight': 1e-16}), ('58', '45', {'weight': 0.6315769137250802}), ('58', '49', {'weight': 0.6264335400749356}), ('58', '57', {'weight': 1e-16}), ('58', '76', {'weight': 0.6264335400749357}), ('58', '87', {'weight': 0.6264335400749356}), ('58', '92', {'weight': 0.6264335400749357}), ('58', '93', {'weight': 0.6315769137250802}), ('58', '113', {'weight': 0.5021755067899774}), ('90', '56', {'weight': 1e-16}), ('90', '89', {'weight': 1e-16}), ('90', '100', {'weight': 1e-16}), ('90', '104', {'weight': 0.8757419667150418}), ('90', '106', {'weight': 0.8757419667150418}), ('90', '110', {'weight': 0.8808853403651864}), ('102', '20', {'weight': 0.7506915733598939}), ('102', '30', {'weight': 0.7506915733598939}), ('102', '31', {'weight': 0.7506915733598939}), ('102', '52', {'weight': 1e-16}), ('102', '56', {'weight': 0.7506915733598939}), ('102', '59', {'weight': 1e-16}), ('102', '80', {'weight': 0.7506915733598939}), ('102', '95', {'weight': 0.7455481997097493}), ('104', '71', {'weight': 1e-16}), ('104', '103', {'weight': 1e-16}), ('104', '106', {'weight': 0.8705985930648973}), ('104', '110', {'weight': 0.8757419667150418}), ('106', '63', {'weight': 0.12425803328495823}), ('106', '81', {'weight': 0.12425803328495823}), ('106', '110', {'weight': 0.8757419667150418}), ('110', '31', {'weight': 0.12425803328495823}), ('110', '64', {'weight': 1e-16}), ('110', '80', {'weight': 0.12425803328495823}), ('4', '3', {'weight': 0.24851606656991646}), ('4', '6', {'weight': 0.6315769137250802}), ('4', '12', {'weight': 0.11990701970500348}), ('4', '27', {'weight': 1e-16}), ('4', '41', {'weight': 0.6315769137250802}), ('4', '53', {'weight': 0.7463405597799391}), ('4', '59', {'weight': 1e-16}), ('4', '73', {'weight': 0.7514839334300837}), ('4', '75', {'weight': 0.8713909531350871}), ('4', '82', {'weight': 0.4926811195598781}), ('4', '85', {'weight': 0.49782449321002264}), ('4', '103', {'weight': 0.5021755067899774}), ('3', '7', {'weight': 0.6212901664247911}), ('3', '14', {'weight': 0.6169391528448362}), ('3', '15', {'weight': 0.11990701970500348}), ('3', '16', {'weight': 0.7506915733598938}), ('3', '48', {'weight': 0.6125881392648815}), ('3', '61', {'weight': 0.7368461725498398}), ('3', '65', {'weight': 0.7411971861297945}), ('3', '73', {'weight': 0.2441650529899617}), ('3', '75', {'weight': 0.2441650529899617}), ('3', '101', {'weight': 0.6125881392648815}), ('3', '107', {'weight': 0.6125881392648815}), ('7', '8', {'weight': 1e-16}), ('7', '33', {'weight': 0.6212901664247911}), ('7', '40', {'weight': 0.6212901664247911}), ('7', '48', {'weight': 0.7411971861297945}), ('7', '56', {'weight': 1e-16}), ('7', '59', {'weight': 1e-16}), ('7', '61', {'weight': 0.6169391528448362}), ('7', '65', {'weight': 0.7411971861297945}), ('7', '86', {'weight': 1e-16}), ('7', '101', {'weight': 0.6169391528448362}), ('7', '107', {'weight': 0.6169391528448362}), ('14', '13', {'weight': 1e-16}), ('14', '16', {'weight': 0.7411971861297945}), ('14', '33', {'weight': 0.6169391528448362}), ('14', '40', {'weight': 0.6169391528448362}), ('14', '61', {'weight': 0.6125881392648815}), ('14', '65', {'weight': 0.6169391528448362}), ('14', '101', {'weight': 0.6125881392648815}), ('14', '107', {'weight': 0.7368461725498398}), ('14', '111', {'weight': 1e-16}), ('15', '13', {'weight': 0.5135238897514866}), ('15', '16', {'weight': 0.11990701970500348}), ('15', '27', {'weight': 0.5135238897514866}), ('15', '39', {'weight': 0.7774700772718366}), ('15', '44', {'weight': 0.5186672634016312}), ('15', '55', {'weight': 0.3830608471551637}), ('15', '72', {'weight': 0.3830608471551637}), ('15', '86', {'weight': 0.6367202873752248}), ('15', '100', {'weight': 0.39440923011667295}), ('16', '33', {'weight': 0.6212901664247911}), ('16', '40', {'weight': 0.7455481997097493}), ('16', '48', {'weight': 0.6169391528448362}), ('16', '61', {'weight': 0.6169391528448362}), ('16', '69', {'weight': 1e-16}), ('16', '93', {'weight': 0.12425803328495823}), ('16', '101', {'weight': 0.6169391528448362}), ('16', '107', {'weight': 0.7411971861297945}), ('16', '115', {'weight': 1e-16}), ('48', '23', {'weight': 1e-16}), ('48', '33', {'weight': 0.6125881392648815}), ('48', '40', {'weight': 0.6125881392648815}), ('48', '47', {'weight': 1e-16}), ('48', '61', {'weight': 0.6082371256849268}), ('48', '62', {'weight': 1e-16}), ('48', '65', {'weight': 0.6125881392648815}), ('48', '101', {'weight': 0.732495158969885}), ('61', '11', {'weight': 1e-16}), ('61', '40', {'weight': 0.6125881392648815}), ('61', '60', {'weight': 1e-16}), ('61', '65', {'weight': 0.6125881392648815}), ('61', '72', {'weight': 1e-16}), ('61', '107', {'weight': 0.732495158969885}), ('65', '33', {'weight': 0.6169391528448362}), ('65', '64', {'weight': 1e-16}), ('65', '101', {'weight': 0.6125881392648815}), ('65', '107', {'weight': 0.6125881392648815}), ('65', '112', {'weight': 1e-16}), ('73', '11', {'weight': 0.5073188804401219}), ('73', '41', {'weight': 0.7566273070802282}), ('73', '53', {'weight': 0.4978244932100226}), ('73', '72', {'weight': 1e-16}), ('73', '75', {'weight': 0.7522762935002736}), ('73', '82', {'weight': 0.5029678668601671}), ('73', '103', {'weight': 0.7566273070802282}), ('73', '108', {'weight': 0.5073188804401219}), ('75', '6', {'weight': 0.5029678668601671}), ('75', '11', {'weight': 0.4978244932100226}), ('75', '41', {'weight': 0.5029678668601671}), ('75', '53', {'weight': 0.7419895461999844}), ('75', '74', {'weight': 1e-16}), ('75', '83', {'weight': 1e-16}), ('75', '85', {'weight': 0.49861685328021244}), ('75', '103', {'weight': 0.6272259001451255}), ('101', '33', {'weight': 0.7368461725498398}), ('101', '40', {'weight': 0.7368461725498398}), ('101', '83', {'weight': 0.12425803328495823}), ('101', '100', {'weight': 1e-16}), ('101', '103', {'weight': 1e-16}), ('107', '33', {'weight': 0.6125881392648815}), ('107', '40', {'weight': 0.6125881392648815}), ('107', '57', {'weight': 1e-16}), ('107', '93', {'weight': 0.11990701970500348}), ('6', '11', {'weight': 0.7558349470100384}), ('6', '12', {'weight': 0.5282022326251304}), ('6', '53', {'weight': 0.4926811195598781}), ('6', '82', {'weight': 0.6272259001451255}), ('6', '85', {'weight': 0.8808853403651863}), ('6', '98', {'weight': 0.253659440220061}), ('6', '99', {'weight': 0.7800076771137815}), ('6', '108', {'weight': 0.5021755067899774}), ('12', '11', {'weight': 0.11990701970500348}), ('12', '25', {'weight': 0.5310772820243607}), ('12', '29', {'weight': 0.5248722727129959}), ('12', '51', {'weight': 0.5248722727129959}), ('12', '70', {'weight': 0.536220655674505}), ('12', '98', {'weight': 0.11990701970500348}), ('27', '13', {'weight': 0.6377819230364448}), ('27', '35', {'weight': 0.40677943436052744}), ('27', '39', {'weight': 0.5186672634016312}), ('27', '43', {'weight': 0.24851606656991646}), ('27', '44', {'weight': 0.7960452908270559}), ('27', '62', {'weight': 0.24851606656991646}), ('27', '86', {'weight': 0.507318880440122}), ('41', '8', {'weight': 1e-16}), ('41', '52', {'weight': 1e-16}), ('41', '53', {'weight': 0.6220825264949809}), ('41', '82', {'weight': 0.4978244932100226}), ('41', '99', {'weight': 0.5124622540902665}), ('41', '103', {'weight': 0.7514839334300837}), ('41', '108', {'weight': 0.5021755067899775}), ('53', '54', {'weight': 1e-16}), ('53', '85', {'weight': 0.4883301059799234}), ('53', '99', {'weight': 0.4978244932100226}), ('53', '103', {'weight': 0.6169391528448362}), ('53', '113', {'weight': 1e-16}), ('59', '18', {'weight': 1e-16}), ('59', '37', {'weight': 0.14328738973855676}), ('59', '60', {'weight': 0.422181195723581}), ('59', '64', {'weight': 0.2865747794771135}), ('59', '89', {'weight': 0.12425803328495823}), ('59', '98', {'weight': 0.2788938059850242}), ('59', '115', {'weight': 0.11990701970500348}), ('82', '11', {'weight': 0.6220825264949809}), ('82', '83', {'weight': 1e-16}), ('82', '84', {'weight': 0.12425803328495823}), ('82', '85', {'weight': 0.747132919850129}), ('82', '99', {'weight': 0.6272259001451255}), ('82', '108', {'weight': 0.7463405597799391}), ('85', '11', {'weight': 0.6220825264949809}), ('85', '25', {'weight': 1e-16}), ('85', '50', {'weight': 0.12425803328495823}), ('85', '84', {'weight': 0.24851606656991646}), ('85', '99', {'weight': 0.6323692737952699}), ('85', '108', {'weight': 0.49782449321002264}), ('103', '11', {'weight': 0.5021755067899775}), ('103', '99', {'weight': 0.5124622540902665}), ('103', '108', {'weight': 0.5021755067899774}), ('29', '25', {'weight': 0.5248722727129959}), ('29', '39', {'weight': 1e-16}), ('29', '51', {'weight': 0.6429252966865894}), ('29', '70', {'weight': 0.6542736796480986}), ('29', '79', {'weight': 0.13560641624646746}), ('29', '114', {'weight': 1e-16}), ('70', '25', {'weight': 0.536220655674505}), ('70', '51', {'weight': 0.5300156463631405}), ('70', '71', {'weight': 0.12940140693510274}), ('70', '84', {'weight': 0.11990701970500348}), ('70', '89', {'weight': 0.12425803328495823}), ('70', '92', {'weight': 1e-16}), ('70', '96', {'weight': 0.12425803328495823}), ('109', '8', {'weight': 0.7455481997097493}), ('109', '22', {'weight': 0.7411971861297945}), ('109', '23', {'weight': 0.8654552194147527}), ('109', '52', {'weight': 0.7455481997097493}), ('109', '69', {'weight': 0.7411971861297945}), ('109', '78', {'weight': 0.7411971861297945}), ('109', '79', {'weight': 0.7411971861297945}), ('109', '112', {'weight': 0.7411971861297945}), ('11', '99', {'weight': 0.6272259001451254}), ('11', '108', {'weight': 0.7463405597799391}), ('98', '60', {'weight': 0.26500782318157023}), ('98', '64', {'weight': 0.40209020360876224}), ('98', '87', {'weight': 1e-16}), ('98', '99', {'weight': 0.11990701970500348}), ('98', '113', {'weight': 0.13560641624646746}), ('99', '49', {'weight': 1e-16}), ('99', '78', {'weight': 1e-16}), ('99', '108', {'weight': 0.7514839334300837}), ('108', '76', {'weight': 1e-16}), ('108', '89', {'weight': 1e-16}), ('8', '9', {'weight': 0.7455481997097493}), ('8', '22', {'weight': 0.7506915733598939}), ('8', '23', {'weight': 0.7506915733598939}), ('8', '69', {'weight': 0.7506915733598939}), ('8', '74', {'weight': 0.12425803328495823}), ('8', '78', {'weight': 0.9992076399298102}), ('8', '79', {'weight': 0.7506915733598939}), ('8', '83', {'weight': 0.12425803328495823}), ('8', '112', {'weight': 0.7506915733598939}), ('33', '22', {'weight': 1e-16}), ('33', '32', {'weight': 1e-16}), ('33', '40', {'weight': 0.7368461725498398}), ('33', '50', {'weight': 1e-16}), ('40', '39', {'weight': 0.12940140693510274}), ('40', '55', {'weight': 0.12425803328495823}), ('40', '83', {'weight': 0.12425803328495823}), ('56', '20', {'weight': 0.7558349470100385}), ('56', '30', {'weight': 0.7558349470100385}), ('56', '31', {'weight': 0.7558349470100385}), ('56', '32', {'weight': 0.253659440220061}), ('56', '55', {'weight': 0.12425803328495823}), ('56', '80', {'weight': 0.8800929802949966}), ('56', '95', {'weight': 0.7506915733598939}), ('86', '13', {'weight': 0.507318880440122}), ('86', '32', {'weight': 0.253659440220061}), ('86', '39', {'weight': 0.5124622540902665}), ('86', '44', {'weight': 0.6367202873752246}), ('86', '81', {'weight': 1e-16}), ('86', '100', {'weight': 0.253659440220061}), ('9', '22', {'weight': 0.7411971861297945}), ('9', '23', {'weight': 0.8654552194147527}), ('9', '52', {'weight': 0.7455481997097493}), ('9', '69', {'weight': 0.7411971861297945}), ('9', '78', {'weight': 0.7411971861297945}), ('9', '79', {'weight': 0.7411971861297945}), ('9', '112', {'weight': 0.7411971861297945}), ('22', '21', {'weight': 1e-16}), ('22', '23', {'weight': 0.7463405597799391}), ('22', '47', {'weight': 0.12425803328495823}), ('22', '52', {'weight': 0.7506915733598939}), ('22', '69', {'weight': 0.7463405597799391}), ('22', '78', {'weight': 0.7463405597799391}), ('22', '112', {'weight': 0.8705985930648973}), ('23', '52', {'weight': 0.7506915733598939}), ('23', '69', {'weight': 0.7463405597799391}), ('23', '78', {'weight': 0.7463405597799391}), ('23', '79', {'weight': 0.8705985930648973}), ('69', '51', {'weight': 0.24851606656991646}), ('69', '52', {'weight': 0.8862979896063613}), ('69', '68', {'weight': 1e-16}), ('69', '79', {'weight': 0.8819469760264065}), ('69', '112', {'weight': 0.7463405597799391}), ('74', '47', {'weight': 0.8567531922548433}), ('74', '50', {'weight': 0.8567531922548433}), ('74', '54', {'weight': 0.8611042058347981}), ('74', '68', {'weight': 0.8611042058347981}), ('74', '78', {'weight': 0.11990701970500348}), ('74', '84', {'weight': 0.8567531922548433}), ('74', '89', {'weight': 0.8611042058347981}), ('74', '111', {'weight': 0.8567531922548434}), ('74', '115', {'weight': 0.8567531922548434}), ('78', '52', {'weight': 0.7506915733598939}), ('78', '79', {'weight': 0.7463405597799391}), ('78', '83', {'weight': 0.11990701970500348}), ('78', '112', {'weight': 0.7463405597799391}), ('79', '51', {'weight': 0.38412248281638395}), ('79', '52', {'weight': 0.8862979896063613}), ('79', '112', {'weight': 0.8705985930648973}), ('83', '30', {'weight': 0.3779174735050192}), ('83', '31', {'weight': 0.253659440220061}), ('83', '81', {'weight': 0.3830608471551637}), ('83', '95', {'weight': 0.3727740998548747}), ('112', '47', {'weight': 0.12425803328495823}), ('112', '52', {'weight': 0.7506915733598939}), ('52', '51', {'weight': 0.24851606656991646}), ('25', '51', {'weight': 0.5248722727129959}), ('25', '67', {'weight': 1e-16}), ('25', '88', {'weight': 1e-16}), ('25', '111', {'weight': 1e-16}), ('51', '31', {'weight': 1e-16}), ('13', '18', {'weight': 1e-16}), ('13', '19', {'weight': 0.3918034563084732}), ('13', '35', {'weight': 0.253659440220061}), ('13', '37', {'weight': 0.24851606656991646}), ('13', '39', {'weight': 0.6429252966865894}), ('13', '44', {'weight': 0.6619546531401879}), ('18', '21', {'weight': 0.6315769137250802}), ('18', '63', {'weight': 0.5021755067899775}), ('18', '88', {'weight': 0.7609783206601829}), ('18', '96', {'weight': 0.5021755067899775}), ('18', '97', {'weight': 0.6264335400749357}), ('18', '114', {'weight': 0.6315769137250802}), ('19', '20', {'weight': 0.14328738973855676}), ('19', '32', {'weight': 0.6367202873752246}), ('19', '35', {'weight': 0.919241688450794}), ('19', '37', {'weight': 0.253659440220061}), ('19', '39', {'weight': 0.3882042208053082}), ('19', '43', {'weight': 0.12425803328495823}), ('19', '55', {'weight': 0.7558349470100385}), ('19', '62', {'weight': 0.6367202873752246}), ('19', '72', {'weight': 0.7558349470100385}), ('19', '100', {'weight': 0.6315769137250802}), ('35', '32', {'weight': 0.6367202873752246}), ('35', '43', {'weight': 0.253659440220061}), ('35', '55', {'weight': 0.6315769137250802}), ('35', '62', {'weight': 0.7661216943103274}), ('35', '72', {'weight': 0.6315769137250802}), ('35', '95', {'weight': 0.12425803328495823}), ('35', '100', {'weight': 0.6315769137250802}), ('37', '20', {'weight': 0.12425803328495823}), ('37', '21', {'weight': 1e-16}), ('37', '44', {'weight': 0.12940140693510274}), ('37', '60', {'weight': 0.12940140693510274}), ('39', '44', {'weight': 0.5238106370517757}), ('39', '55', {'weight': 0.5073188804401219}), ('39', '72', {'weight': 0.3830608471551637}), ('44', '32', {'weight': 0.38412248281638395}), ('44', '43', {'weight': 0.12940140693510274}), ('44', '62', {'weight': 0.253659440220061}), ('44', '71', {'weight': 1e-16}), ('44', '80', {'weight': 0.12425803328495823}), ('111', '47', {'weight': 0.8567531922548433}), ('111', '50', {'weight': 0.8567531922548433}), ('111', '54', {'weight': 0.8611042058347981}), ('111', '68', {'weight': 0.8611042058347981}), ('111', '81', {'weight': 1e-16}), ('111', '84', {'weight': 0.8567531922548434}), ('111', '89', {'weight': 0.8611042058347981}), ('111', '115', {'weight': 0.8567531922548434}), ('55', '32', {'weight': 0.7558349470100385}), ('55', '62', {'weight': 0.6315769137250802}), ('55', '72', {'weight': 0.8800929802949965}), ('55', '100', {'weight': 0.7558349470100384}), ('72', '32', {'weight': 0.6315769137250802}), ('72', '62', {'weight': 0.6315769137250802}), ('72', '100', {'weight': 0.7558349470100384}), ('100', '32', {'weight': 0.7671833299715476}), ('100', '62', {'weight': 0.6315769137250802}), ('93', '49', {'weight': 0.6315769137250802}), ('93', '62', {'weight': 1e-16}), ('93', '67', {'weight': 0.6315769137250802}), ('93', '76', {'weight': 0.6315769137250802}), ('93', '87', {'weight': 0.6315769137250802}), ('93', '92', {'weight': 0.6315769137250802}), ('93', '113', {'weight': 0.507318880440122}), ('115', '47', {'weight': 0.8567531922548433}), ('115', '50', {'weight': 0.8567531922548433}), ('115', '54', {'weight': 0.8611042058347981}), ('115', '68', {'weight': 0.9810112255398016}), ('115', '84', {'weight': 0.8567531922548434}), ('115', '89', {'weight': 0.9905056127699007}), ('68', '47', {'weight': 0.861104205834798}), ('68', '50', {'weight': 0.861104205834798}), ('68', '54', {'weight': 0.8654552194147528}), ('68', '84', {'weight': 0.8611042058347981}), ('68', '89', {'weight': 0.8654552194147528}), ('21', '63', {'weight': 0.4970321331398329}), ('21', '71', {'weight': 0.5021755067899775}), ('21', '76', {'weight': 0.12425803328495823}), ('21', '77', {'weight': 0.6367202873752246}), ('21', '88', {'weight': 0.6315769137250802}), ('21', '97', {'weight': 0.6264335400749357}), ('21', '114', {'weight': 0.7506915733598939}), ('63', '57', {'weight': 0.6264335400749357}), ('63', '62', {'weight': 1e-16}), ('63', '71', {'weight': 0.6315769137250802}), ('63', '77', {'weight': 0.6315769137250802}), ('63', '88', {'weight': 0.5073188804401219}), ('63', '96', {'weight': 0.7506915733598938}), ('88', '57', {'weight': 0.5073188804401219}), ('88', '87', {'weight': 1e-16}), ('88', '96', {'weight': 0.5073188804401219}), ('88', '97', {'weight': 0.6315769137250802}), ('88', '114', {'weight': 0.6315769137250802}), ('96', '57', {'weight': 0.6212901664247911}), ('96', '71', {'weight': 0.7558349470100384}), ('96', '77', {'weight': 0.6315769137250802}), ('96', '114', {'weight': 0.4970321331398329}), ('97', '49', {'weight': 1e-16}), ('97', '57', {'weight': 0.4970321331398329}), ('97', '77', {'weight': 0.5073188804401219}), ('97', '113', {'weight': 1e-16}), ('97', '114', {'weight': 0.6212901664247911}), ('114', '60', {'weight': 0.12425803328495823}), ('114', '71', {'weight': 0.5021755067899775}), ('114', '77', {'weight': 0.6506062701786786}), ('20', '30', {'weight': 0.7558349470100385}), ('20', '31', {'weight': 0.8800929802949966}), ('20', '45', {'weight': 0.24851606656991646}), ('20', '80', {'weight': 0.7558349470100385}), ('20', '95', {'weight': 0.7506915733598939}), ('32', '62', {'weight': 0.7609783206601829}), ('32', '80', {'weight': 0.24851606656991646}), ('43', '30', {'weight': 1e-16}), ('43', '64', {'weight': 1e-16}), ('30', '31', {'weight': 0.8800929802949966}), ('30', '80', {'weight': 0.8800929802949966}), ('30', '81', {'weight': 0.5021755067899775}), ('30', '92', {'weight': 0.12425803328495823}), ('30', '95', {'weight': 0.9992076399298102}), ('31', '45', {'weight': 0.24851606656991646}), ('31', '80', {'weight': 0.8800929802949966}), ('31', '95', {'weight': 0.8749496066448521}), ('45', '49', {'weight': 0.6315769137250802}), ('45', '67', {'weight': 0.6315769137250802}), ('45', '76', {'weight': 0.6315769137250802}), ('45', '87', {'weight': 0.6315769137250802}), ('45', '92', {'weight': 0.6315769137250802}), ('45', '113', {'weight': 0.507318880440122}), ('80', '81', {'weight': 0.253659440220061}), ('80', '95', {'weight': 0.8749496066448521}), ('95', '81', {'weight': 0.3727740998548747}), ('71', '57', {'weight': 0.6264335400749357}), ('71', '77', {'weight': 0.7609783206601829}), ('76', '49', {'weight': 0.6264335400749356}), ('76', '67', {'weight': 0.7506915733598939}), ('76', '77', {'weight': 0.24851606656991646}), ('76', '87', {'weight': 0.6264335400749356}), ('76', '113', {'weight': 0.5021755067899774}), ('77', '57', {'weight': 0.6315769137250802}), ('77', '60', {'weight': 0.253659440220061}), ('77', '67', {'weight': 0.2726887966736595}), ('47', '50', {'weight': 0.8567531922548433}), ('47', '54', {'weight': 0.861104205834798}), ('47', '84', {'weight': 0.8567531922548433}), ('47', '89', {'weight': 0.861104205834798}), ('67', '49', {'weight': 0.6264335400749356}), ('67', '60', {'weight': 0.12425803328495823}), ('67', '87', {'weight': 0.6264335400749356}), ('67', '92', {'weight': 0.6264335400749357}), ('67', '113', {'weight': 0.5021755067899774}), ('54', '49', {'weight': 0.24851606656991646}), ('54', '50', {'weight': 0.9853622391197563}), ('54', '84', {'weight': 0.8611042058347981}), ('54', '87', {'weight': 0.12425803328495823}), ('54', '89', {'weight': 0.8654552194147528}), ('64', '60', {'weight': 0.2726887966736595}), ('64', '113', {'weight': 0.14328738973855676}), ('81', '87', {'weight': 0.12425803328495823}), ('81', '92', {'weight': 0.3779174735050192}), ('92', '49', {'weight': 0.6264335400749356}), ('92', '87', {'weight': 0.7506915733598938}), ('92', '113', {'weight': 0.5021755067899774}), ('50', '49', {'weight': 0.11990701970500348}), ('50', '84', {'weight': 0.9810112255398015}), ('50', '89', {'weight': 0.861104205834798}), ('49', '87', {'weight': 0.8757419667150418}), ('84', '89', {'weight': 0.9853622391197563})]\n",
      "Adamic-Adar Index Weighted Graph\n",
      "[('2', '1', {'weight': 0.19540996281605816}), ('2', '4', {'weight': 0.1676037950108288}), ('2', '6', {'weight': 0.20232235518379604}), ('2', '7', {'weight': 0.1676037950108288}), ('1', '3', {'weight': 0.15553200134528242}), ('1', '4', {'weight': 0.1931251513571509}), ('1', '5', {'weight': 0.25832629563068926}), ('1', '6', {'weight': 0.4158094615894604}), ('1', '7', {'weight': 0.2683114513808878}), ('3', '5', {'weight': 0.1676037950108288}), ('3', '6', {'weight': 0.23763069373675724}), ('3', '8', {'weight': 0.08034570132154548}), ('4', '6', {'weight': 0.20003754372488874}), ('4', '9', {'weight': 0.8789094378253102}), ('4', '10', {'weight': 0.4326024934750372}), ('4', '11', {'weight': 0.5849753803222079}), ('4', '12', {'weight': 0.8282201764932946}), ('4', '13', {'weight': 0.8278066725188451}), ('4', '14', {'weight': 0.24837769763345074}), ('4', '15', {'weight': 0.3759233332701425}), ('4', '16', {'weight': 0.24861689714102445}), ('4', '17', {'weight': 0.15487654126599118}), ('4', '18', {'weight': 0.16361792241511677}), ('4', '19', {'weight': 0.048571465362744745}), ('4', '20', {'weight': 0.05773361054050167}), ('4', '21', {'weight': 0.23020893718190819}), ('4', '22', {'weight': 0.2315528227046072}), ('4', '23', {'weight': 0.19980623227070599}), ('4', '24', {'weight': 0.265441772069868}), ('4', '25', {'weight': 0.2925885610725901}), ('4', '26', {'weight': 0.1515016119404345}), ('4', '27', {'weight': 0.24497512278299455}), ('4', '28', {'weight': 0.23020893718190819}), ('5', '6', {'weight': 0.2652386879984271}), ('5', '7', {'weight': 0.28038324504643425}), ('5', '29', {'weight': 1e-16}), ('5', '30', {'weight': 0.06520114427353838}), ('5', '31', {'weight': 0.06520114427353838}), ('5', '32', {'weight': 0.05218941526075744}), ('6', '7', {'weight': 0.3504101437723627}), ('6', '8', {'weight': 0.1779805943091438}), ('7', '8', {'weight': 0.08034570132154548}), ('7', '11', {'weight': 0.048571465362744745}), ('7', '13', {'weight': 0.2000454317782797}), ('7', '19', {'weight': 0.048571465362744745}), ('7', '23', {'weight': 0.09714293072548949}), ('7', '26', {'weight': 0.08034570132154548}), ('7', '30', {'weight': 0.07518630002373694}), ('8', '15', {'weight': 0.06095462086990026}), ('8', '31', {'weight': 0.06095462086990026}), ('8', '59', {'weight': 0.22048825660513593}), ('8', '72', {'weight': 1e-16}), ('8', '86', {'weight': 0.06095462086990026}), ('9', '10', {'weight': 0.5963385390462872}), ('9', '11', {'weight': 0.46907095614252375}), ('9', '12', {'weight': 0.8196269913153181}), ('9', '13', {'weight': 1.0}), ('9', '14', {'weight': 0.5853051408144145}), ('9', '15', {'weight': 0.2800720544028826}), ('9', '21', {'weight': 0.2855924252226096}), ('9', '22', {'weight': 0.23284447456283675}), ('9', '23', {'weight': 0.15804678958591786}), ('9', '24', {'weight': 0.43503226527247607}), ('9', '25', {'weight': 0.3479720491132915}), ('9', '27', {'weight': 0.3876167045129792}), ('9', '28', {'weight': 0.3607787252463465}), ('9', '33', {'weight': 0.251837907470423}), ('9', '34', {'weight': 0.35494961856917046}), ('9', '36', {'weight': 0.38645700949549794}), ('9', '38', {'weight': 0.19678951586979962}), ('9', '41', {'weight': 0.8859849269594685}), ('9', '42', {'weight': 0.23020893718190824}), ('9', '43', {'weight': 0.21218938777786148}), ('9', '44', {'weight': 0.21611270926959253}), ('9', '45', {'weight': 0.2315179171255257}), ('9', '46', {'weight': 0.2357293080016352}), ('9', '47', {'weight': 0.048571465362744745}), ('10', '12', {'weight': 0.640879615004184}), ('10', '13', {'weight': 0.4241163762101775}), ('10', '15', {'weight': 0.20109788412893562}), ('10', '21', {'weight': 0.4116480794444223}), ('10', '25', {'weight': 0.26899787883934456}), ('10', '28', {'weight': 0.2818045549723996}), ('10', '42', {'weight': 0.22239067752685027}), ('10', '46', {'weight': 0.15675513772768823}), ('10', '48', {'weight': 0.4074195164960148}), ('10', '49', {'weight': 0.1430862947341459}), ('10', '50', {'weight': 0.18067944474601436}), ('10', '51', {'weight': 0.05409183618247175}), ('10', '52', {'weight': 0.09714293072548949}), ('10', '53', {'weight': 0.08725809368928335}), ('11', '12', {'weight': 0.24414897867195332}), ('11', '13', {'weight': 0.6543378557649956}), ('11', '16', {'weight': 0.3535258538571025}), ('11', '17', {'weight': 0.14700604794646385}), ('11', '20', {'weight': 0.16264256725657975}), ('11', '22', {'weight': 0.15252641876619086}), ('11', '34', {'weight': 0.33302063339231736}), ('11', '36', {'weight': 0.28444916802957265}), ('11', '38', {'weight': 0.26797307201358816}), ('11', '39', {'weight': 0.3431593720373251}), ('11', '40', {'weight': 0.26797307201358816}), ('11', '56', {'weight': 0.2428573268137237}), ('12', '13', {'weight': 0.495903216538774}), ('12', '14', {'weight': 0.4110202648900304}), ('12', '15', {'weight': 0.2745516835831555}), ('12', '18', {'weight': 0.2134810396360911}), ('12', '21', {'weight': 0.1548243076015218}), ('12', '22', {'weight': 0.15616819312422076}), ('12', '23', {'weight': 0.0984345825837191}), ('12', '27', {'weight': 0.3109404230743632}), ('12', '28', {'weight': 0.20891614378399354}), ('12', '30', {'weight': 0.06095462086990026}), ('12', '46', {'weight': 0.23020893718190824}), ('12', '48', {'weight': 0.4926286569029985}), ('12', '51', {'weight': 0.056389725017802705}), ('12', '57', {'weight': 1e-16}), ('13', '14', {'weight': 0.5521388833076029}), ('13', '15', {'weight': 0.20891614378399354}), ('13', '16', {'weight': 0.2203761777970814}), ('13', '18', {'weight': 0.2190014104558181}), ('13', '19', {'weight': 0.11506426149451272}), ('13', '24', {'weight': 0.4080833537998526}), ('13', '25', {'weight': 0.2630079799664653}), ('13', '33', {'weight': 0.251837907470423}), ('13', '34', {'weight': 0.4842277547753791}), ('13', '37', {'weight': 0.12927813620620868}), ('13', '39', {'weight': 0.20407582118312761}), ('13', '40', {'weight': 0.26332705866340794}), ('13', '41', {'weight': 0.5695474574962526}), ('13', '42', {'weight': 0.39754588716026373}), ('13', '45', {'weight': 0.16361792241511677}), ('13', '47', {'weight': 0.1026633015452165}), ('13', '48', {'weight': 0.9085054553089182}), ('13', '55', {'weight': 0.25452588300756945}), ('13', '56', {'weight': 0.15487654126599118}), ('14', '18', {'weight': 0.20661825494866262}), ('14', '30', {'weight': 0.05409183618247175}), ('14', '33', {'weight': 0.09714293072548949}), ('14', '41', {'weight': 0.3356357913227341}), ('14', '43', {'weight': 0.25389806845317775}), ('14', '44', {'weight': 0.1358295590520281}), ('14', '45', {'weight': 0.15123476690796123}), ('14', '48', {'weight': 0.3411561621424611}), ('14', '58', {'weight': 1e-16}), ('15', '26', {'weight': 0.04986311722097434}), ('15', '27', {'weight': 0.15252641876619086}), ('15', '59', {'weight': 0.07518630002373694}), ('16', '17', {'weight': 0.10759672776147601}), ('16', '56', {'weight': 0.10630507590324642}), ('18', '48', {'weight': 0.16361792241511677}), ('20', '56', {'weight': 0.05773361054050167}), ('20', '57', {'weight': 1e-16}), ('20', '78', {'weight': 1e-16}), ('21', '25', {'weight': 0.306059074509483}), ('21', '41', {'weight': 0.21687030670712326}), ('21', '49', {'weight': 0.22871895576702914}), ('21', '50', {'weight': 0.2663121057788976}), ('21', '54', {'weight': 0.12524774680136075}), ('21', '58', {'weight': 0.18796575005934232}), ('22', '24', {'weight': 0.0984345825837191}), ('23', '26', {'weight': 0.16915609767698447}), ('23', '41', {'weight': 0.14571439608823422}), ('23', '53', {'weight': 1e-16}), ('24', '28', {'weight': 0.2397845124554742}), ('24', '33', {'weight': 0.1682988413443785}), ('24', '34', {'weight': 0.24837769763345074}), ('24', '48', {'weight': 0.27814138028980606}), ('24', '55', {'weight': 0.1738192121641055}), ('25', '27', {'weight': 0.3037611856741521}), ('25', '41', {'weight': 0.3874336029627487}), ('25', '48', {'weight': 0.23020893718190824}), ('25', '54', {'weight': 0.19314774151176972}), ('26', '41', {'weight': 0.08034570132154548}), ('27', '41', {'weight': 0.35822023657887836}), ('27', '46', {'weight': 0.21084697391016}), ('27', '48', {'weight': 0.26659767667311585}), ('27', '54', {'weight': 0.12524774680136075}), ('28', '41', {'weight': 0.2651076952582368}), ('28', '42', {'weight': 0.3004029564347743}), ('28', '48', {'weight': 0.3981737017146555}), ('28', '55', {'weight': 0.25452588300756945}), ('29', '67', {'weight': 0.05058019033827826}), ('29', '73', {'weight': 0.05135305087502374}), ('31', '32', {'weight': 0.45177503374470085}), ('31', '59', {'weight': 0.15553200134528242}), ('31', '67', {'weight': 0.7014504645825775}), ('31', '68', {'weight': 0.05135305087502374}), ('31', '71', {'weight': 0.10774277589282644}), ('31', '74', {'weight': 0.62804567860021}), ('31', '75', {'weight': 0.4834203629086813}), ('31', '76', {'weight': 0.6659815715666934}), ('31', '77', {'weight': 0.508737889578715}), ('31', '78', {'weight': 0.24350011103114158}), ('31', '80', {'weight': 0.16264256725657975}), ('31', '81', {'weight': 0.05135305087502374}), ('31', '83', {'weight': 0.34015138327504213}), ('31', '84', {'weight': 0.21856051398370105}), ('31', '85', {'weight': 0.6201296875528128}), ('31', '87', {'weight': 0.29386954116246755}), ('31', '94', {'weight': 0.2248671059809442}), ('31', '100', {'weight': 0.28930464531037003}), ('32', '50', {'weight': 0.06095462086990026}), ('32', '74', {'weight': 0.23612477591525186}), ('32', '75', {'weight': 0.40341733252169937}), ('32', '76', {'weight': 0.544717654713145}), ('32', '77', {'weight': 0.3352670522427316}), ('32', '78', {'weight': 0.1695337611484604}), ('32', '79', {'weight': 0.11277945003560541}), ('32', '83', {'weight': 0.27727653704128685}), ('32', '92', {'weight': 0.11277945003560541}), ('59', '50', {'weight': 1e-16}), ('59', '51', {'weight': 1e-16}), ('59', '52', {'weight': 0.34578747339141347}), ('59', '53', {'weight': 0.15841400430817237}), ('59', '65', {'weight': 0.47466910649741323}), ('59', '66', {'weight': 0.46547931579475677}), ('59', '69', {'weight': 0.1515016119404345}), ('59', '70', {'weight': 0.23875970562971785}), ('59', '78', {'weight': 0.05218941526075744}), ('59', '86', {'weight': 0.15553200134528242}), ('72', '69', {'weight': 1e-16}), ('72', '71', {'weight': 0.10696991535608096}), ('72', '73', {'weight': 0.6616974145057958}), ('72', '74', {'weight': 0.30970185101650965}), ('72', '75', {'weight': 0.40180810759922014}), ('72', '76', {'weight': 0.6986404311359483}), ('72', '77', {'weight': 0.33365782732025245}), ('72', '78', {'weight': 0.11734434588770297}), ('72', '79', {'weight': 0.16335964037388367}), ('72', '80', {'weight': 0.16335964037388367}), ('72', '81', {'weight': 0.05058019033827826}), ('72', '82', {'weight': 1e-16}), ('72', '83', {'weight': 0.2756673121188077}), ('72', '84', {'weight': 0.16869739676272671}), ('86', '66', {'weight': 0.06095462086990026}), ('86', '67', {'weight': 0.05058019033827826}), ('86', '73', {'weight': 0.05135305087502374}), ('33', '34', {'weight': 0.1682988413443785}), ('34', '38', {'weight': 0.24074261340726366}), ('34', '39', {'weight': 0.26183707724852884}), ('34', '40', {'weight': 0.1866507772247919}), ('34', '48', {'weight': 0.20007307730317922}), ('36', '35', {'weight': 0.33302063339231736}), ('36', '37', {'weight': 0.09714293072548949}), ('36', '38', {'weight': 0.2837937079502814}), ('36', '39', {'weight': 0.3104085426112736}), ('36', '40', {'weight': 0.2893140787700084}), ('36', '41', {'weight': 0.22090069611197116}), ('36', '44', {'weight': 0.048571465362744745}), ('36', '45', {'weight': 0.1026633015452165}), ('38', '35', {'weight': 0.14824569603195442}), ('38', '39', {'weight': 0.2939324465952891}), ('38', '48', {'weight': 0.07115591061888901}), ('41', '40', {'weight': 0.20372955376243704}), ('41', '42', {'weight': 0.3096487712161336}), ('41', '43', {'weight': 0.2388042224388537}), ('41', '45', {'weight': 0.22599754630579869}), ('41', '46', {'weight': 0.1738192121641055}), ('41', '48', {'weight': 0.659954399180899}), ('41', '54', {'weight': 0.21021181594818697}), ('41', '55', {'weight': 0.24900551218784248}), ('42', '37', {'weight': 0.1026633015452165}), ('42', '48', {'weight': 0.41460996159668106}), ('42', '55', {'weight': 0.22791104834657727}), ('43', '40', {'weight': 0.05409183618247175}), ('43', '44', {'weight': 0.109526086232645}), ('43', '48', {'weight': 0.115046457052372}), ('44', '57', {'weight': 1e-16}), ('46', '48', {'weight': 0.2357293080016352}), ('47', '48', {'weight': 0.048571465362744745}), ('47', '103', {'weight': 1e-16}), ('48', '37', {'weight': 0.12375776538648169}), ('48', '55', {'weight': 0.32016142280673143}), ('49', '50', {'weight': 0.22143265045370114}), ('49', '58', {'weight': 0.1430862947341459}), ('50', '58', {'weight': 0.18067944474601436}), ('50', '73', {'weight': 0.06095462086990026}), ('50', '77', {'weight': 0.11578133461181662}), ('52', '53', {'weight': 0.18850025650659197}), ('52', '65', {'weight': 0.3355861836424247}), ('52', '66', {'weight': 0.22925346221427875}), ('52', '70', {'weight': 0.21245623281033474}), ('53', '65', {'weight': 0.14821271455918358}), ('39', '35', {'weight': 0.2234319960556914}), ('39', '40', {'weight': 0.3425039119580339}), ('40', '35', {'weight': 0.14824569603195442}), ('57', '58', {'weight': 1e-16}), ('37', '35', {'weight': 0.06789999471040895}), ('78', '76', {'weight': 0.23607879094469772}), ('78', '77', {'weight': 0.23151389509260017}), ('54', '77', {'weight': 1e-16}), ('67', '65', {'weight': 0.1676037950108288}), ('67', '68', {'weight': 0.12334532587964646}), ('67', '71', {'weight': 0.27106844694341425}), ('67', '73', {'weight': 0.9919273126715862}), ('67', '74', {'weight': 0.7362214984617973}), ('67', '75', {'weight': 0.3640467684242157}), ('67', '77', {'weight': 0.21187566304721436}), ('67', '81', {'weight': 0.1027696055990357}), ('67', '85', {'weight': 0.8154632823896911}), ('67', '87', {'weight': 0.5827203472687386}), ('67', '89', {'weight': 0.24409112626633864}), ('67', '90', {'weight': 0.30818222938697015}), ('67', '91', {'weight': 0.19384395566351612}), ('67', '94', {'weight': 0.2257034703666779}), ('67', '97', {'weight': 0.2513923257889738}), ('67', '98', {'weight': 0.24771720201248573}), ('67', '100', {'weight': 0.4502020044252855}), ('67', '101', {'weight': 0.31063526601617814}), ('73', '71', {'weight': 0.26261931715881764}), ('73', '74', {'weight': 0.63169799444526}), ('73', '75', {'weight': 0.7796498573721576}), ('73', '76', {'weight': 0.8176230884753786}), ('73', '77', {'weight': 0.4209246545241328}), ('73', '79', {'weight': 0.1705130605761071}), ('73', '80', {'weight': 0.29556247782081835}), ('73', '81', {'weight': 0.1090866614155254}), ('73', '83', {'weight': 0.33268384954200547}), ('73', '85', {'weight': 0.7635692786656458}), ('73', '87', {'weight': 0.3007819335302054}), ('73', '88', {'weight': 0.10625284223877705}), ('73', '89', {'weight': 0.24486398680308413}), ('73', '90', {'weight': 0.3089550899237157}), ('73', '91', {'weight': 0.20688505222030615}), ('73', '92', {'weight': 0.28510868078483187}), ('73', '93', {'weight': 0.10774277589282644}), ('68', '65', {'weight': 0.1316987521965692}), ('68', '66', {'weight': 0.07115591061888901}), ('68', '104', {'weight': 0.14231182123777802}), ('68', '105', {'weight': 0.22555890007121082}), ('71', '65', {'weight': 0.05135305087502374}), ('71', '76', {'weight': 0.16050321613953736}), ('71', '91', {'weight': 0.101933241213302}), ('74', '75', {'weight': 0.6145271588749475}), ('74', '76', {'weight': 0.6206112345322568}), ('74', '83', {'weight': 0.38834692766965556}), ('74', '84', {'weight': 0.27909393204372857}), ('74', '85', {'weight': 0.9404433677762756}), ('74', '87', {'weight': 0.5217657263988383}), ('74', '90', {'weight': 0.21103929866148066}), ('74', '93', {'weight': 0.10696991535608096}), ('74', '94', {'weight': 0.3060491716882234}), ('74', '95', {'weight': 0.33024636226740856}), ('74', '96', {'weight': 0.08034570132154548}), ('74', '97', {'weight': 0.33173802711051925}), ('74', '98', {'weight': 0.24771720201248573}), ('74', '99', {'weight': 0.11930778902149508}), ('74', '100', {'weight': 0.3530590736997961}), ('74', '101', {'weight': 0.4829644967654046}), ('75', '76', {'weight': 0.6455919699009263}), ('75', '79', {'weight': 0.22990467017012103}), ('75', '80', {'weight': 0.3419423584020513}), ('75', '83', {'weight': 0.3833102535268766}), ('75', '85', {'weight': 0.6654115684641833}), ('75', '88', {'weight': 0.19758623828474212}), ('75', '89', {'weight': 0.15179635843427636}), ('75', '92', {'weight': 0.3445002903788458}), ('75', '99', {'weight': 0.2236822816242502}), ('75', '100', {'weight': 0.20475863423177923}), ('76', '77', {'weight': 0.5022553895982216}), ('76', '79', {'weight': 0.22990467017012103}), ('76', '80', {'weight': 0.3419423584020513}), ('76', '83', {'weight': 0.4442648743967768}), ('76', '84', {'weight': 0.2720938147671574}), ('76', '85', {'weight': 0.4929955130281253}), ('76', '92', {'weight': 0.24735735965335628}), ('76', '93', {'weight': 0.101933241213302}), ('77', '83', {'weight': 0.33195720265185286}), ('77', '84', {'weight': 0.21617586804003613}), ('77', '85', {'weight': 0.41609753236169245}), ('77', '87', {'weight': 0.20398577369503376}), ('80', '85', {'weight': 0.2784671196383335}), ('80', '92', {'weight': 0.22627770437757608}), ('80', '101', {'weight': 0.1250494172447113}), ('83', '85', {'weight': 0.3278567273795651}), ('84', '85', {'weight': 0.38094780675266604}), ('84', '88', {'weight': 0.04986311722097434}), ('84', '101', {'weight': 0.10121616809599808}), ('85', '61', {'weight': 0.20941909792018007}), ('85', '63', {'weight': 0.21309422169666814}), ('85', '82', {'weight': 0.14650103391648767}), ('85', '87', {'weight': 0.8010450540516209}), ('85', '88', {'weight': 0.1821562153798179}), ('85', '89', {'weight': 0.24558105992038803}), ('85', '90', {'weight': 0.3096721630410196}), ('85', '95', {'weight': 0.23575407528979656}), ('85', '97', {'weight': 0.3332279607645687}), ('85', '98', {'weight': 0.36198658570214054}), ('85', '100', {'weight': 0.4487194934108667}), ('85', '101', {'weight': 0.6468988241324742}), ('85', '102', {'weight': 0.2025067055524422}), ('87', '61', {'weight': 0.04986311722097434}), ('87', '62', {'weight': 0.09714293072548949}), ('87', '82', {'weight': 0.13712121091025767}), ('87', '90', {'weight': 0.2031494093093001}), ('87', '94', {'weight': 0.1548955170108049}), ('87', '98', {'weight': 0.26534866900662724}), ('87', '101', {'weight': 0.2497121496965113}), ('87', '102', {'weight': 0.22556063126027215}), ('94', '95', {'weight': 0.16413250091062914}), ('94', '100', {'weight': 0.1548955170108049}), ('94', '103', {'weight': 0.08034570132154548}), ('100', '60', {'weight': 0.2872956374141721}), ('100', '61', {'weight': 0.34704359167135257}), ('100', '63', {'weight': 0.40996165567504494}), ('100', '64', {'weight': 0.2716591181040562}), ('100', '91', {'weight': 0.05135305087502374}), ('100', '101', {'weight': 0.23982731266030516}), ('92', '91', {'weight': 0.05058019033827826}), ('92', '99', {'weight': 0.11930778902149508}), ('92', '101', {'weight': 0.17232923074922643}), ('103', '95', {'weight': 0.1931251513571509}), ('103', '96', {'weight': 0.08034570132154548}), ('65', '66', {'weight': 0.4453931890095618}), ('65', '69', {'weight': 0.14130032219144573}), ('65', '70', {'weight': 0.22855841588072906}), ('66', '69', {'weight': 0.13211053148878926}), ('66', '70', {'weight': 0.21936862517807262}), ('70', '105', {'weight': 1e-16}), ('61', '60', {'weight': 0.2629556077285811}), ('61', '63', {'weight': 0.32270356198576156}), ('61', '64', {'weight': 0.2473190884184652}), ('60', '62', {'weight': 1e-16}), ('60', '63', {'weight': 0.2629556077285811}), ('60', '64', {'weight': 0.23743425138225907}), ('62', '96', {'weight': 1e-16}), ('62', '102', {'weight': 0.05924294022720433}), ('63', '64', {'weight': 0.2473190884184652}), ('63', '101', {'weight': 0.11278118122466672}), ('96', '95', {'weight': 0.16413250091062914}), ('102', '95', {'weight': 0.04986311722097434}), ('102', '101', {'weight': 0.10910605744817867}), ('101', '97', {'weight': 0.15256921897102182}), ('101', '99', {'weight': 0.12653935089876067}), ('89', '90', {'weight': 0.15179635843427636}), ('97', '95', {'weight': 0.10121616809599808}), ('97', '98', {'weight': 0.15256921897102182}), ('98', '82', {'weight': 0.10910605744817867}), ('104', '105', {'weight': 0.08725809368928335}), ('88', '99', {'weight': 0.056389725017802705})]\n"
     ]
    }
   ],
   "source": [
    "graph_karate_adamic_adar = adamic_adar_sim(graph_karate)\n",
    "graph_dolphin_adamic_adar = adamic_adar_sim(graph_dolphin)\n",
    "graph_football_adamic_adar = adamic_adar_sim(graph_football)\n",
    "graph_book_adamic_adar = adamic_adar_sim(graph_book)"
   ]
  },
  {
   "cell_type": "code",
   "execution_count": 17,
   "metadata": {},
   "outputs": [
    {
     "name": "stderr",
     "output_type": "stream",
     "text": [
      "Computing transition probabilities: 100%|██████████| 34/34 [00:00<00:00, 6797.58it/s]\n",
      "Generating walks (CPU: 1): 100%|██████████| 100/100 [00:01<00:00, 83.64it/s]\n",
      "Computing transition probabilities: 100%|██████████| 62/62 [00:00<00:00, 5809.54it/s]\n",
      "Generating walks (CPU: 1): 100%|██████████| 100/100 [00:02<00:00, 49.88it/s]\n",
      "Computing transition probabilities: 100%|██████████| 115/115 [00:00<00:00, 2130.08it/s]\n",
      "Generating walks (CPU: 1): 100%|██████████| 100/100 [00:03<00:00, 25.16it/s]\n",
      "Computing transition probabilities: 100%|██████████| 105/105 [00:00<00:00, 2499.87it/s]\n",
      "Generating walks (CPU: 1): 100%|██████████| 100/100 [00:03<00:00, 25.02it/s]\n"
     ]
    }
   ],
   "source": [
    "# Creating data array for each dataset\n",
    "\n",
    "karate_club_data_array_adamic_adar = prepare_data_arrays(graph_karate_adamic_adar)\n",
    "dolphin_data_array_adamic_adar = prepare_data_arrays(graph_dolphin_adamic_adar)\n",
    "football_data_array_adamic_adar = prepare_data_arrays(graph_football_adamic_adar)\n",
    "book_data_array_adamic_adar = prepare_data_arrays(graph_book_adamic_adar)"
   ]
  },
  {
   "cell_type": "code",
   "execution_count": 18,
   "metadata": {},
   "outputs": [],
   "source": [
    "# Performing K-means\n",
    "\n",
    "kmeans_labels_dict_karate_adamic_adar, kmeans_modularity_karate_adamic_adar, kmeans_work_log_karate_adamic_adar = cluster_all_data_arrays(karate_club_data_array_adamic_adar, adjacency_karate)\n",
    "kmeans_labels_dict_dolphin_adamic_adar, kmeans_modularity_dolphin_adamic_adar, kmeans_work_log_dolphin_adamic_adar = cluster_all_data_arrays(dolphin_data_array_adamic_adar, adjacency_dolphin)\n",
    "kmeans_labels_dict_football_adamic_adar, kmeans_modularity_football_adamic_adar, kmeans_work_log_football_adamic_adar = cluster_all_data_arrays(football_data_array_adamic_adar, adjacency_football)\n",
    "kmeans_labels_dict_book_adamic_adar, kmeans_modularity_book_adamic_adar, kmeans_work_log_book_adamic_adar = cluster_all_data_arrays(book_data_array_adamic_adar, adjacency_book)"
   ]
  },
  {
   "cell_type": "code",
   "execution_count": 19,
   "metadata": {},
   "outputs": [
    {
     "data": {
      "text/plain": [
       "{'node_array': -0.011834319526626946,\n",
       " 'embedded_node_array_node2vec': 0.38798487836949386,\n",
       " 'embedded_node_array_hope': 0.3433596318211703,\n",
       " 'embedded_node_array_sdne': 0.1535174227481917,\n",
       " 'embedded_node_array_sdne+hope': 0.3458251150558842,\n",
       " 'embedded_node_array_sdne+node2vec': 0.38535502958579887,\n",
       " 'embedded_node_array_hope+node2vec': 0.38798487836949375,\n",
       " 'embedded_node_array_summation': 0.38798487836949375,\n",
       " 'embedded_node_array_sdne*hope': 0.3560157790927021,\n",
       " 'embedded_node_array_sdne*node2vec': 0.38535502958579887,\n",
       " 'embedded_node_array_hope*node2vec': 0.29380341880341876,\n",
       " 'embedded_node_array_multiply': 0.29380341880341876,\n",
       " 'embedded_node_array_sdneMINhope': 0.2977481919789612,\n",
       " 'embedded_node_array_sdneMINnode2vec': 0.38593030900723213,\n",
       " 'embedded_node_array_hopeMINnode2vec': 0.3717948717948718,\n",
       " 'embedded_node_array_minimum': 0.37146614069690986,\n",
       " 'embedded_node_array_sdneMAXhope': 0.35100262984878366,\n",
       " 'embedded_node_array_sdneMAXnode2vec': 0.38535502958579887,\n",
       " 'embedded_node_array_hopeMAXnode2vec': 0.3803418803418804,\n",
       " 'embedded_node_array_maximum': 0.3717948717948718}"
      ]
     },
     "execution_count": 19,
     "metadata": {},
     "output_type": "execute_result"
    }
   ],
   "source": [
    "kmeans_modularity_karate_adamic_adar"
   ]
  },
  {
   "cell_type": "code",
   "execution_count": 20,
   "metadata": {},
   "outputs": [
    {
     "data": {
      "text/plain": [
       "{'node_array': 0.27564178632174363,\n",
       " 'embedded_node_array_node2vec': 0.5267987816937623,\n",
       " 'embedded_node_array_hope': 0.5264625608164235,\n",
       " 'embedded_node_array_sdne': 0.40267394485977615,\n",
       " 'embedded_node_array_sdne+hope': 0.497745342351964,\n",
       " 'embedded_node_array_sdne+node2vec': 0.4808156322930265,\n",
       " 'embedded_node_array_hope+node2vec': 0.515426604960247,\n",
       " 'embedded_node_array_summation': 0.5264625608164235,\n",
       " 'embedded_node_array_sdne*hope': 0.4703532296981923,\n",
       " 'embedded_node_array_sdne*node2vec': 0.5263241169257546,\n",
       " 'embedded_node_array_hope*node2vec': 0.435722479332305,\n",
       " 'embedded_node_array_multiply': 0.4455717732684625,\n",
       " 'embedded_node_array_sdneMINhope': 0.45405640599659836,\n",
       " 'embedded_node_array_sdneMINnode2vec': 0.5162968237015941,\n",
       " 'embedded_node_array_hopeMINnode2vec': 0.5025117677307068,\n",
       " 'embedded_node_array_minimum': 0.5062893081761006,\n",
       " 'embedded_node_array_sdneMAXhope': 0.4257149638068114,\n",
       " 'embedded_node_array_sdneMAXnode2vec': 0.47790831058897987,\n",
       " 'embedded_node_array_hopeMAXnode2vec': 0.5181559273762906,\n",
       " 'embedded_node_array_maximum': 0.45793283493532694}"
      ]
     },
     "execution_count": 20,
     "metadata": {},
     "output_type": "execute_result"
    }
   ],
   "source": [
    "kmeans_modularity_dolphin_adamic_adar"
   ]
  },
  {
   "cell_type": "code",
   "execution_count": 21,
   "metadata": {},
   "outputs": [
    {
     "data": {
      "text/plain": [
       "{'node_array': 0.5576125225870149,\n",
       " 'embedded_node_array_node2vec': 0.6001572774763219,\n",
       " 'embedded_node_array_hope': 0.43541510875032274,\n",
       " 'embedded_node_array_sdne': 0.6044285185845559,\n",
       " 'embedded_node_array_sdne+hope': 0.4766319201424279,\n",
       " 'embedded_node_array_sdne+node2vec': 0.591721243636383,\n",
       " 'embedded_node_array_hope+node2vec': 0.4733200450276633,\n",
       " 'embedded_node_array_summation': 0.5036072693596332,\n",
       " 'embedded_node_array_sdne*hope': 0.38480422812951576,\n",
       " 'embedded_node_array_sdne*node2vec': 0.5941083484800502,\n",
       " 'embedded_node_array_hope*node2vec': 0.3387639746759312,\n",
       " 'embedded_node_array_multiply': 0.28680652209203017,\n",
       " 'embedded_node_array_sdneMINhope': 0.42191080158288735,\n",
       " 'embedded_node_array_sdneMINnode2vec': 0.5989890065439138,\n",
       " 'embedded_node_array_hopeMINnode2vec': 0.4904262991359053,\n",
       " 'embedded_node_array_minimum': 0.5010312186476267,\n",
       " 'embedded_node_array_sdneMAXhope': 0.4705603708661438,\n",
       " 'embedded_node_array_sdneMAXnode2vec': 0.5875870548129303,\n",
       " 'embedded_node_array_hopeMAXnode2vec': 0.472014721810474,\n",
       " 'embedded_node_array_maximum': 0.5366554984578291}"
      ]
     },
     "execution_count": 21,
     "metadata": {},
     "output_type": "execute_result"
    }
   ],
   "source": [
    "kmeans_modularity_football_adamic_adar"
   ]
  },
  {
   "cell_type": "code",
   "execution_count": 22,
   "metadata": {},
   "outputs": [
    {
     "data": {
      "text/plain": [
       "{'node_array': 0.11905276093808642,\n",
       " 'embedded_node_array_node2vec': 0.5248841789172207,\n",
       " 'embedded_node_array_hope': 0.45254806382114443,\n",
       " 'embedded_node_array_sdne': 0.4768306415536734,\n",
       " 'embedded_node_array_sdne+hope': 0.481309228150822,\n",
       " 'embedded_node_array_sdne+node2vec': 0.5017482427589326,\n",
       " 'embedded_node_array_hope+node2vec': 0.4647780502979726,\n",
       " 'embedded_node_array_summation': 0.47432139900555853,\n",
       " 'embedded_node_array_sdne*hope': 0.33858577444583265,\n",
       " 'embedded_node_array_sdne*node2vec': 0.5220741357767595,\n",
       " 'embedded_node_array_hope*node2vec': 0.30670091165717994,\n",
       " 'embedded_node_array_multiply': 0.2943243813020294,\n",
       " 'embedded_node_array_sdneMINhope': 0.445411119852325,\n",
       " 'embedded_node_array_sdneMINnode2vec': 0.5017482427589326,\n",
       " 'embedded_node_array_hopeMINnode2vec': 0.4617520477578788,\n",
       " 'embedded_node_array_minimum': 0.4750258379995991,\n",
       " 'embedded_node_array_sdneMAXhope': 0.4736118181210504,\n",
       " 'embedded_node_array_sdneMAXnode2vec': 0.5240074865925205,\n",
       " 'embedded_node_array_hopeMAXnode2vec': 0.4698839475321497,\n",
       " 'embedded_node_array_maximum': 0.49541343370303514}"
      ]
     },
     "execution_count": 22,
     "metadata": {},
     "output_type": "execute_result"
    }
   ],
   "source": [
    "kmeans_modularity_book_adamic_adar"
   ]
  },
  {
   "cell_type": "markdown",
   "metadata": {},
   "source": [
    "# Preferential Attachment"
   ]
  },
  {
   "cell_type": "code",
   "execution_count": 23,
   "metadata": {},
   "outputs": [],
   "source": [
    "# Create a copy for Preferential Attachment\n",
    "\n",
    "def preferential_sim(original_graph):\n",
    "    preferential_graph = original_graph.copy()\n",
    "\n",
    "    preferential_attachment = []\n",
    "    for u, v in original_graph.edges():\n",
    "        pa_score = nx.preferential_attachment(original_graph, [(u, v)])\n",
    "        preferential_attachment.append((u, v, list(pa_score)[0][2]))\n",
    "\n",
    "    # Normalize the scores\n",
    "    scaler = MinMaxScaler()\n",
    "    normalized_preferential_attachment = scaler.fit_transform([[s] for _, _, s in preferential_attachment])\n",
    "\n",
    "    for (u, v, s), norm_s in zip(preferential_attachment, normalized_preferential_attachment):\n",
    "        if preferential_graph.has_edge(u, v):\n",
    "            if norm_s[0] == 0 :\n",
    "                preferential_graph[u][v]['weight'] =  0.0000000000000001\n",
    "            else:\n",
    "                preferential_graph[u][v]['weight'] = norm_s[0]\n",
    "\n",
    "    print(\"Preferential Attachment Weighted Graph\")\n",
    "    print(preferential_graph.edges(data=True))\n",
    "\n",
    "    return(preferential_graph)\n"
   ]
  },
  {
   "cell_type": "code",
   "execution_count": 24,
   "metadata": {},
   "outputs": [
    {
     "name": "stdout",
     "output_type": "stream",
     "text": [
      "Preferential Attachment Weighted Graph\n",
      "[(0, 1, {'weight': 0.693877551020408}), (0, 2, {'weight': 0.7755102040816325}), (0, 3, {'weight': 0.4489795918367347}), (0, 4, {'weight': 0.20408163265306123}), (0, 5, {'weight': 0.2857142857142857}), (0, 6, {'weight': 0.2857142857142857}), (0, 7, {'weight': 0.2857142857142857}), (0, 8, {'weight': 0.36734693877551017}), (0, 10, {'weight': 0.20408163265306123}), (0, 11, {'weight': 0.04081632653061224}), (0, 12, {'weight': 0.12244897959183673}), (0, 13, {'weight': 0.36734693877551017}), (0, 17, {'weight': 0.12244897959183673}), (0, 19, {'weight': 0.20408163265306123}), (0, 21, {'weight': 0.12244897959183673}), (0, 31, {'weight': 0.4489795918367347}), (1, 2, {'weight': 0.4183673469387755}), (1, 3, {'weight': 0.2346938775510204}), (1, 7, {'weight': 0.14285714285714285}), (1, 13, {'weight': 0.18877551020408162}), (1, 17, {'weight': 0.0510204081632653}), (1, 19, {'weight': 0.09693877551020408}), (1, 21, {'weight': 0.0510204081632653}), (1, 30, {'weight': 0.14285714285714285}), (2, 3, {'weight': 0.26530612244897955}), (2, 7, {'weight': 0.16326530612244897}), (2, 8, {'weight': 0.2142857142857143}), (2, 9, {'weight': 0.06122448979591836}), (2, 13, {'weight': 0.2142857142857143}), (2, 27, {'weight': 0.16326530612244897}), (2, 28, {'weight': 0.11224489795918366}), (2, 32, {'weight': 0.5714285714285713}), (3, 7, {'weight': 0.0816326530612245}), (3, 12, {'weight': 0.020408163265306124}), (3, 13, {'weight': 0.11224489795918366}), (4, 6, {'weight': 0.020408163265306124}), (4, 10, {'weight': 0.005102040816326529}), (5, 6, {'weight': 0.04081632653061224}), (5, 10, {'weight': 0.020408163265306124}), (5, 16, {'weight': 1e-16}), (6, 16, {'weight': 1e-16}), (8, 30, {'weight': 0.06122448979591836}), (8, 32, {'weight': 0.26530612244897955}), (8, 33, {'weight': 0.39285714285714285}), (9, 33, {'weight': 0.1326530612244898}), (13, 33, {'weight': 0.39285714285714285}), (14, 32, {'weight': 0.0816326530612245}), (14, 33, {'weight': 0.1326530612244898}), (15, 32, {'weight': 0.0816326530612245}), (15, 33, {'weight': 0.1326530612244898}), (18, 32, {'weight': 0.0816326530612245}), (18, 33, {'weight': 0.1326530612244898}), (19, 33, {'weight': 0.21938775510204078}), (20, 32, {'weight': 0.0816326530612245}), (20, 33, {'weight': 0.1326530612244898}), (22, 32, {'weight': 0.0816326530612245}), (22, 33, {'weight': 0.1326530612244898}), (23, 25, {'weight': 0.035714285714285705}), (23, 27, {'weight': 0.06122448979591836}), (23, 29, {'weight': 0.06122448979591836}), (23, 32, {'weight': 0.26530612244897955}), (23, 33, {'weight': 0.39285714285714285}), (24, 25, {'weight': 0.005102040816326529}), (24, 27, {'weight': 0.020408163265306124}), (24, 31, {'weight': 0.0510204081632653}), (25, 31, {'weight': 0.0510204081632653}), (26, 29, {'weight': 1e-16}), (26, 33, {'weight': 0.1326530612244898}), (27, 33, {'weight': 0.30612244897959184}), (28, 31, {'weight': 0.0510204081632653}), (28, 33, {'weight': 0.21938775510204078}), (29, 32, {'weight': 0.20408163265306123}), (29, 33, {'weight': 0.30612244897959184}), (30, 32, {'weight': 0.20408163265306123}), (30, 33, {'weight': 0.30612244897959184}), (31, 32, {'weight': 0.32653061224489793}), (31, 33, {'weight': 0.4795918367346938}), (32, 33, {'weight': 0.9999999999999998})]\n",
      "Preferential Attachment Weighted Graph\n",
      "[('11', '1', {'weight': 0.20930232558139533}), ('11', '3', {'weight': 0.13178294573643412}), ('11', '30', {'weight': 0.32558139534883723}), ('11', '43', {'weight': 0.20930232558139533}), ('11', '48', {'weight': 0.20930232558139533}), ('1', '15', {'weight': 0.5348837209302325}), ('1', '16', {'weight': 0.3023255813953489}), ('1', '41', {'weight': 0.3488372093023256}), ('1', '43', {'weight': 0.2558139534883721}), ('1', '48', {'weight': 0.2558139534883721}), ('15', '4', {'weight': 0.2558139534883721}), ('15', '17', {'weight': 0.5348837209302325}), ('15', '25', {'weight': 0.5348837209302325}), ('15', '34', {'weight': 0.9069767441860465}), ('15', '35', {'weight': 0.4418604651162791}), ('15', '38', {'weight': 1.0}), ('15', '39', {'weight': 0.7209302325581395}), ('15', '41', {'weight': 0.7209302325581395}), ('15', '44', {'weight': 0.627906976744186}), ('15', '51', {'weight': 0.627906976744186}), ('15', '53', {'weight': 0.3488372093023256}), ('16', '19', {'weight': 0.35658914728682173}), ('16', '25', {'weight': 0.3023255813953489}), ('16', '41', {'weight': 0.4108527131782946}), ('16', '46', {'weight': 0.5736434108527131}), ('16', '56', {'weight': 0.08527131782945736}), ('16', '60', {'weight': 0.24806201550387597}), ('41', '8', {'weight': 0.2868217054263566}), ('41', '34', {'weight': 0.5968992248062015}), ('41', '37', {'weight': 0.4108527131782946}), ('41', '38', {'weight': 0.6589147286821705}), ('41', '53', {'weight': 0.2248062015503876}), ('43', '3', {'weight': 0.16279069767441862}), ('43', '31', {'weight': 0.20930232558139533}), ('43', '48', {'weight': 0.2558139534883721}), ('43', '51', {'weight': 0.3023255813953489}), ('48', '21', {'weight': 0.3953488372093023}), ('48', '29', {'weight': 0.20930232558139533}), ('48', '31', {'weight': 0.20930232558139533}), ('18', '2', {'weight': 0.5348837209302325}), ('18', '7', {'weight': 0.3953488372093023}), ('18', '10', {'weight': 0.46511627906976744}), ('18', '14', {'weight': 0.5348837209302325}), ('18', '23', {'weight': 0.046511627906976744}), ('18', '26', {'weight': 0.18604651162790697}), ('18', '28', {'weight': 0.32558139534883723}), ('18', '32', {'weight': 0.046511627906976744}), ('18', '58', {'weight': 0.6046511627906976}), ('2', '20', {'weight': 0.2248062015503876}), ('2', '27', {'weight': 0.16279069767441862}), ('2', '28', {'weight': 0.2868217054263566}), ('2', '29', {'weight': 0.2868217054263566}), ('2', '37', {'weight': 0.4108527131782946}), ('2', '42', {'weight': 0.2868217054263566}), ('2', '55', {'weight': 0.4108527131782946}), ('20', '8', {'weight': 0.13178294573643412}), ('20', '31', {'weight': 0.13178294573643412}), ('20', '55', {'weight': 0.1937984496124031}), ('27', '26', {'weight': 0.046511627906976744}), ('27', '28', {'weight': 0.09302325581395349}), ('28', '8', {'weight': 0.17054263565891475}), ('28', '26', {'weight': 0.09302325581395349}), ('29', '9', {'weight': 0.20930232558139533}), ('29', '21', {'weight': 0.32558139534883723}), ('29', '31', {'weight': 0.17054263565891475}), ('37', '21', {'weight': 0.46511627906976744}), ('37', '24', {'weight': 0.13953488372093026}), ('37', '38', {'weight': 0.5736434108527131}), ('37', '40', {'weight': 0.08527131782945736}), ('37', '60', {'weight': 0.24806201550387597}), ('42', '10', {'weight': 0.24806201550387597}), ('42', '14', {'weight': 0.2868217054263566}), ('42', '55', {'weight': 0.24806201550387597}), ('42', '58', {'weight': 0.32558139534883723}), ('55', '7', {'weight': 0.3023255813953489}), ('55', '8', {'weight': 0.24806201550387597}), ('55', '14', {'weight': 0.4108527131782946}), ('55', '58', {'weight': 0.46511627906976744}), ('3', '45', {'weight': 0.10077519379844961}), ('3', '62', {'weight': 0.06976744186046512}), ('45', '21', {'weight': 0.2558139534883721}), ('45', '35', {'weight': 0.13178294573643412}), ('45', '39', {'weight': 0.2248062015503876}), ('62', '38', {'weight': 0.23255813953488375}), ('62', '54', {'weight': 0.023255813953488372}), ('9', '4', {'weight': 0.11627906976744186}), ('9', '21', {'weight': 0.3953488372093023}), ('9', '38', {'weight': 0.48837209302325585}), ('9', '46', {'weight': 0.48837209302325585}), ('9', '60', {'weight': 0.20930232558139533}), ('4', '60', {'weight': 0.09302325581395349}), ('60', '46', {'weight': 0.40310077519379844}), ('52', '5', {'weight': 0.05426356589147287}), ('52', '12', {'weight': 0.05426356589147287}), ('52', '19', {'weight': 0.5193798449612402}), ('52', '22', {'weight': 0.4418604651162791}), ('52', '24', {'weight': 0.20930232558139533}), ('52', '25', {'weight': 0.4418604651162791}), ('52', '30', {'weight': 0.6744186046511628}), ('52', '46', {'weight': 0.8294573643410852}), ('52', '51', {'weight': 0.5193798449612402}), ('52', '56', {'weight': 0.13178294573643412}), ('10', '6', {'weight': 0.1937984496124031}), ('10', '7', {'weight': 0.3023255813953489}), ('10', '14', {'weight': 0.4108527131782946}), ('10', '33', {'weight': 0.13953488372093026}), ('10', '58', {'weight': 0.46511627906976744}), ('6', '14', {'weight': 0.2248062015503876}), ('6', '57', {'weight': 0.03875968992248062}), ('6', '58', {'weight': 0.2558139534883721}), ('14', '7', {'weight': 0.3488372093023256}), ('14', '33', {'weight': 0.16279069767441862}), ('14', '58', {'weight': 0.5348837209302325}), ('57', '7', {'weight': 0.06976744186046512}), ('58', '7', {'weight': 0.3953488372093023}), ('58', '40', {'weight': 0.11627906976744186}), ('58', '49', {'weight': 0.046511627906976744}), ('8', '31', {'weight': 0.17054263565891475}), ('21', '17', {'weight': 0.3953488372093023}), ('21', '19', {'weight': 0.46511627906976744}), ('21', '39', {'weight': 0.5348837209302325}), ('21', '51', {'weight': 0.46511627906976744}), ('38', '17', {'weight': 0.48837209302325585}), ('38', '22', {'weight': 0.48837209302325585}), ('38', '34', {'weight': 0.8294573643410852}), ('38', '35', {'weight': 0.40310077519379844}), ('38', '44', {'weight': 0.5736434108527131}), ('38', '46', {'weight': 0.9147286821705426}), ('46', '19', {'weight': 0.5736434108527131}), ('46', '22', {'weight': 0.48837209302325585}), ('46', '24', {'weight': 0.23255813953488375}), ('46', '25', {'weight': 0.48837209302325585}), ('46', '30', {'weight': 0.7441860465116279}), ('46', '51', {'weight': 0.5736434108527131}), ('33', '61', {'weight': 1e-16}), ('30', '19', {'weight': 0.46511627906976744}), ('30', '22', {'weight': 0.3953488372093023}), ('30', '25', {'weight': 0.3953488372093023}), ('30', '36', {'weight': 0.046511627906976744}), ('30', '44', {'weight': 0.46511627906976744}), ('30', '53', {'weight': 0.2558139534883721}), ('34', '13', {'weight': 0.05426356589147287}), ('34', '17', {'weight': 0.4418604651162791}), ('34', '22', {'weight': 0.4418604651162791}), ('34', '35', {'weight': 0.36434108527131787}), ('34', '39', {'weight': 0.5968992248062015}), ('34', '44', {'weight': 0.5193798449612402}), ('34', '51', {'weight': 0.5193798449612402}), ('17', '39', {'weight': 0.3488372093023256}), ('17', '51', {'weight': 0.3023255813953489}), ('25', '19', {'weight': 0.3023255813953489}), ('35', '50', {'weight': 0.05426356589147287}), ('39', '44', {'weight': 0.4108527131782946}), ('39', '53', {'weight': 0.2248062015503876}), ('39', '59', {'weight': 0.03875968992248062}), ('44', '47', {'weight': 0.08527131782945736}), ('44', '54', {'weight': 0.08527131782945736}), ('19', '22', {'weight': 0.3023255813953489}), ('50', '47', {'weight': 0.007751937984496124})]\n",
      "Preferential Attachment Weighted Graph\n",
      "[('2', '1', {'weight': 1.0}), ('2', '26', {'weight': 0.8518518518518519}), ('2', '28', {'weight': 0.8518518518518519}), ('2', '34', {'weight': 0.7037037037037037}), ('2', '38', {'weight': 0.8518518518518519}), ('2', '46', {'weight': 0.8518518518518519}), ('2', '58', {'weight': 0.7037037037037037}), ('2', '90', {'weight': 0.8518518518518519}), ('2', '102', {'weight': 0.7037037037037037}), ('2', '104', {'weight': 0.7037037037037037}), ('2', '106', {'weight': 0.7037037037037037}), ('2', '110', {'weight': 0.8518518518518519}), ('1', '5', {'weight': 0.8518518518518519}), ('1', '10', {'weight': 0.8518518518518519}), ('1', '17', {'weight': 0.8518518518518519}), ('1', '24', {'weight': 0.8518518518518519}), ('1', '34', {'weight': 0.7037037037037037}), ('1', '36', {'weight': 0.8518518518518519}), ('1', '42', {'weight': 0.7037037037037037}), ('1', '66', {'weight': 0.8518518518518519}), ('1', '91', {'weight': 0.5555555555555556}), ('1', '94', {'weight': 0.7037037037037037}), ('1', '105', {'weight': 1.0}), ('5', '6', {'weight': 0.8518518518518519}), ('5', '10', {'weight': 0.7160493827160495}), ('5', '17', {'weight': 0.7160493827160495}), ('5', '24', {'weight': 0.7160493827160495}), ('5', '29', {'weight': 0.4444444444444444}), ('5', '42', {'weight': 0.5802469135802468}), ('5', '70', {'weight': 0.7160493827160495}), ('5', '94', {'weight': 0.5802469135802468}), ('5', '105', {'weight': 0.8518518518518519}), ('5', '109', {'weight': 0.5802469135802468}), ('10', '9', {'weight': 0.7160493827160495}), ('10', '17', {'weight': 0.7160493827160495}), ('10', '23', {'weight': 0.7160493827160495}), ('10', '24', {'weight': 0.7160493827160495}), ('10', '42', {'weight': 0.5802469135802468}), ('10', '65', {'weight': 0.7160493827160495}), ('10', '94', {'weight': 0.5802469135802468}), ('10', '105', {'weight': 0.8518518518518519}), ('10', '109', {'weight': 0.5802469135802468}), ('17', '18', {'weight': 0.7160493827160495}), ('17', '24', {'weight': 0.7160493827160495}), ('17', '39', {'weight': 0.7160493827160495}), ('17', '42', {'weight': 0.5802469135802468}), ('17', '68', {'weight': 0.8518518518518519}), ('17', '82', {'weight': 0.7160493827160495}), ('17', '94', {'weight': 0.5802469135802468}), ('17', '105', {'weight': 0.8518518518518519}), ('24', '23', {'weight': 0.7160493827160495}), ('24', '42', {'weight': 0.5802469135802468}), ('24', '79', {'weight': 0.7160493827160495}), ('24', '91', {'weight': 0.4444444444444444}), ('24', '94', {'weight': 0.5802469135802468}), ('24', '105', {'weight': 0.8518518518518519}), ('24', '112', {'weight': 0.7160493827160495}), ('34', '20', {'weight': 0.5802469135802468}), ('34', '26', {'weight': 0.5802469135802468}), ('34', '38', {'weight': 0.5802469135802468}), ('34', '46', {'weight': 0.5802469135802468}), ('34', '90', {'weight': 0.5802469135802468}), ('34', '104', {'weight': 0.45679012345679015}), ('34', '106', {'weight': 0.45679012345679015}), ('34', '110', {'weight': 0.5802469135802468}), ('36', '20', {'weight': 0.7160493827160495}), ('36', '30', {'weight': 0.7160493827160495}), ('36', '31', {'weight': 0.7160493827160495}), ('36', '35', {'weight': 0.7160493827160495}), ('36', '45', {'weight': 0.7160493827160495}), ('36', '56', {'weight': 0.7160493827160495}), ('36', '80', {'weight': 0.7160493827160495}), ('36', '93', {'weight': 0.7160493827160495}), ('36', '95', {'weight': 0.5802469135802468}), ('36', '102', {'weight': 0.5802469135802468}), ('42', '9', {'weight': 0.5802469135802468}), ('42', '41', {'weight': 0.5802469135802468}), ('42', '68', {'weight': 0.7037037037037037}), ('42', '94', {'weight': 0.45679012345679015}), ('42', '105', {'weight': 0.7037037037037037}), ('66', '18', {'weight': 0.7160493827160495}), ('66', '21', {'weight': 0.7160493827160495}), ('66', '28', {'weight': 0.7160493827160495}), ('66', '57', {'weight': 0.5802469135802468}), ('66', '64', {'weight': 0.4444444444444444}), ('66', '67', {'weight': 0.7160493827160495}), ('66', '71', {'weight': 0.7160493827160495}), ('66', '88', {'weight': 0.7160493827160495}), ('66', '97', {'weight': 0.5802469135802468}), ('66', '114', {'weight': 0.5802469135802468}), ('91', '6', {'weight': 0.5555555555555556}), ('91', '9', {'weight': 0.4444444444444444}), ('91', '12', {'weight': 0.3333333333333335}), ('91', '25', {'weight': 0.3333333333333335}), ('91', '29', {'weight': 0.22222222222222232}), ('91', '51', {'weight': 0.22222222222222232}), ('91', '70', {'weight': 0.4444444444444444}), ('94', '81', {'weight': 0.5802469135802468}), ('94', '83', {'weight': 0.5802469135802468}), ('94', '92', {'weight': 0.5802469135802468}), ('94', '105', {'weight': 0.7037037037037037}), ('105', '12', {'weight': 0.7037037037037037}), ('105', '68', {'weight': 1.0}), ('105', '73', {'weight': 0.8518518518518519}), ('105', '88', {'weight': 0.8518518518518519}), ('105', '115', {'weight': 0.8518518518518519}), ('26', '25', {'weight': 0.5802469135802468}), ('26', '38', {'weight': 0.7160493827160495}), ('26', '46', {'weight': 0.7160493827160495}), ('26', '54', {'weight': 0.8518518518518519}), ('26', '90', {'weight': 0.7160493827160495}), ('26', '104', {'weight': 0.5802469135802468}), ('26', '106', {'weight': 0.5802469135802468}), ('26', '107', {'weight': 0.7160493827160495}), ('26', '110', {'weight': 0.7160493827160495}), ('28', '18', {'weight': 0.7160493827160495}), ('28', '27', {'weight': 0.5802469135802468}), ('28', '57', {'weight': 0.5802469135802468}), ('28', '63', {'weight': 0.7160493827160495}), ('28', '64', {'weight': 0.4444444444444444}), ('28', '71', {'weight': 0.7160493827160495}), ('28', '77', {'weight': 0.7160493827160495}), ('28', '96', {'weight': 0.5802469135802468}), ('28', '97', {'weight': 0.5802469135802468}), ('38', '37', {'weight': 0.308641975308642}), ('38', '46', {'weight': 0.7160493827160495}), ('38', '81', {'weight': 0.7160493827160495}), ('38', '90', {'weight': 0.7160493827160495}), ('38', '96', {'weight': 0.5802469135802468}), ('38', '104', {'weight': 0.5802469135802468}), ('38', '106', {'weight': 0.5802469135802468}), ('38', '110', {'weight': 0.7160493827160495}), ('46', '14', {'weight': 0.7160493827160495}), ('46', '45', {'weight': 0.7160493827160495}), ('46', '63', {'weight': 0.7160493827160495}), ('46', '90', {'weight': 0.7160493827160495}), ('46', '104', {'weight': 0.5802469135802468}), ('46', '106', {'weight': 0.5802469135802468}), ('46', '110', {'weight': 0.7160493827160495}), ('58', '43', {'weight': 0.0864197530864198}), ('58', '45', {'weight': 0.5802469135802468}), ('58', '49', {'weight': 0.5802469135802468}), ('58', '57', {'weight': 0.45679012345679015}), ('58', '76', {'weight': 0.45679012345679015}), ('58', '87', {'weight': 0.5802469135802468}), ('58', '92', {'weight': 0.5802469135802468}), ('58', '93', {'weight': 0.5802469135802468}), ('58', '113', {'weight': 0.45679012345679015}), ('90', '56', {'weight': 0.7160493827160495}), ('90', '89', {'weight': 0.8518518518518519}), ('90', '100', {'weight': 0.5802469135802468}), ('90', '104', {'weight': 0.5802469135802468}), ('90', '106', {'weight': 0.5802469135802468}), ('90', '110', {'weight': 0.7160493827160495}), ('102', '20', {'weight': 0.5802469135802468}), ('102', '30', {'weight': 0.5802469135802468}), ('102', '31', {'weight': 0.5802469135802468}), ('102', '52', {'weight': 0.5802469135802468}), ('102', '56', {'weight': 0.5802469135802468}), ('102', '59', {'weight': 0.45679012345679015}), ('102', '80', {'weight': 0.5802469135802468}), ('102', '95', {'weight': 0.45679012345679015}), ('104', '71', {'weight': 0.5802469135802468}), ('104', '103', {'weight': 0.45679012345679015}), ('104', '106', {'weight': 0.45679012345679015}), ('104', '110', {'weight': 0.5802469135802468}), ('106', '63', {'weight': 0.5802469135802468}), ('106', '81', {'weight': 0.5802469135802468}), ('106', '110', {'weight': 0.5802469135802468}), ('110', '31', {'weight': 0.7160493827160495}), ('110', '64', {'weight': 0.4444444444444444}), ('110', '80', {'weight': 0.7160493827160495}), ('4', '3', {'weight': 1.0}), ('4', '6', {'weight': 1.0}), ('4', '12', {'weight': 0.7037037037037037}), ('4', '27', {'weight': 0.7037037037037037}), ('4', '41', {'weight': 0.8518518518518519}), ('4', '53', {'weight': 0.7037037037037037}), ('4', '59', {'weight': 0.7037037037037037}), ('4', '73', {'weight': 0.8518518518518519}), ('4', '75', {'weight': 0.8518518518518519}), ('4', '82', {'weight': 0.8518518518518519}), ('4', '85', {'weight': 0.8518518518518519}), ('4', '103', {'weight': 0.7037037037037037}), ('3', '7', {'weight': 1.0}), ('3', '14', {'weight': 0.8518518518518519}), ('3', '15', {'weight': 0.7037037037037037}), ('3', '16', {'weight': 1.0}), ('3', '48', {'weight': 0.8518518518518519}), ('3', '61', {'weight': 0.8518518518518519}), ('3', '65', {'weight': 0.8518518518518519}), ('3', '73', {'weight': 0.8518518518518519}), ('3', '75', {'weight': 0.8518518518518519}), ('3', '101', {'weight': 0.8518518518518519}), ('3', '107', {'weight': 0.8518518518518519}), ('7', '8', {'weight': 1.0}), ('7', '33', {'weight': 0.8518518518518519}), ('7', '40', {'weight': 0.8518518518518519}), ('7', '48', {'weight': 0.8518518518518519}), ('7', '56', {'weight': 0.8518518518518519}), ('7', '59', {'weight': 0.7037037037037037}), ('7', '61', {'weight': 0.8518518518518519}), ('7', '65', {'weight': 0.8518518518518519}), ('7', '86', {'weight': 0.5555555555555556}), ('7', '101', {'weight': 0.8518518518518519}), ('7', '107', {'weight': 0.8518518518518519}), ('14', '13', {'weight': 0.5802469135802468}), ('14', '16', {'weight': 0.8518518518518519}), ('14', '33', {'weight': 0.7160493827160495}), ('14', '40', {'weight': 0.7160493827160495}), ('14', '61', {'weight': 0.7160493827160495}), ('14', '65', {'weight': 0.7160493827160495}), ('14', '101', {'weight': 0.7160493827160495}), ('14', '107', {'weight': 0.7160493827160495}), ('14', '111', {'weight': 0.7160493827160495}), ('15', '13', {'weight': 0.45679012345679015}), ('15', '16', {'weight': 0.7037037037037037}), ('15', '27', {'weight': 0.45679012345679015}), ('15', '39', {'weight': 0.5802469135802468}), ('15', '44', {'weight': 0.5802469135802468}), ('15', '55', {'weight': 0.45679012345679015}), ('15', '72', {'weight': 0.45679012345679015}), ('15', '86', {'weight': 0.3333333333333335}), ('15', '100', {'weight': 0.45679012345679015}), ('16', '33', {'weight': 0.8518518518518519}), ('16', '40', {'weight': 0.8518518518518519}), ('16', '48', {'weight': 0.8518518518518519}), ('16', '61', {'weight': 0.8518518518518519}), ('16', '69', {'weight': 0.8518518518518519}), ('16', '93', {'weight': 0.8518518518518519}), ('16', '101', {'weight': 0.8518518518518519}), ('16', '107', {'weight': 0.8518518518518519}), ('16', '115', {'weight': 0.8518518518518519}), ('48', '23', {'weight': 0.7160493827160495}), ('48', '33', {'weight': 0.7160493827160495}), ('48', '40', {'weight': 0.7160493827160495}), ('48', '47', {'weight': 0.7160493827160495}), ('48', '61', {'weight': 0.7160493827160495}), ('48', '62', {'weight': 0.7160493827160495}), ('48', '65', {'weight': 0.7160493827160495}), ('48', '101', {'weight': 0.7160493827160495}), ('61', '11', {'weight': 0.5802469135802468}), ('61', '40', {'weight': 0.7160493827160495}), ('61', '60', {'weight': 0.308641975308642}), ('61', '65', {'weight': 0.7160493827160495}), ('61', '72', {'weight': 0.5802469135802468}), ('61', '107', {'weight': 0.7160493827160495}), ('65', '33', {'weight': 0.7160493827160495}), ('65', '64', {'weight': 0.4444444444444444}), ('65', '101', {'weight': 0.7160493827160495}), ('65', '107', {'weight': 0.7160493827160495}), ('65', '112', {'weight': 0.7160493827160495}), ('73', '11', {'weight': 0.5802469135802468}), ('73', '41', {'weight': 0.7160493827160495}), ('73', '53', {'weight': 0.5802469135802468}), ('73', '72', {'weight': 0.5802469135802468}), ('73', '75', {'weight': 0.7160493827160495}), ('73', '82', {'weight': 0.7160493827160495}), ('73', '103', {'weight': 0.5802469135802468}), ('73', '108', {'weight': 0.5802469135802468}), ('75', '6', {'weight': 0.8518518518518519}), ('75', '11', {'weight': 0.5802469135802468}), ('75', '41', {'weight': 0.7160493827160495}), ('75', '53', {'weight': 0.5802469135802468}), ('75', '74', {'weight': 0.7160493827160495}), ('75', '83', {'weight': 0.7160493827160495}), ('75', '85', {'weight': 0.7160493827160495}), ('75', '103', {'weight': 0.5802469135802468}), ('101', '33', {'weight': 0.7160493827160495}), ('101', '40', {'weight': 0.7160493827160495}), ('101', '83', {'weight': 0.7160493827160495}), ('101', '100', {'weight': 0.5802469135802468}), ('101', '103', {'weight': 0.5802469135802468}), ('107', '33', {'weight': 0.7160493827160495}), ('107', '40', {'weight': 0.7160493827160495}), ('107', '57', {'weight': 0.5802469135802468}), ('107', '93', {'weight': 0.7160493827160495}), ('6', '11', {'weight': 0.7037037037037037}), ('6', '12', {'weight': 0.7037037037037037}), ('6', '53', {'weight': 0.7037037037037037}), ('6', '82', {'weight': 0.8518518518518519}), ('6', '85', {'weight': 0.8518518518518519}), ('6', '98', {'weight': 0.40740740740740744}), ('6', '99', {'weight': 0.8518518518518519}), ('6', '108', {'weight': 0.7037037037037037}), ('12', '11', {'weight': 0.45679012345679015}), ('12', '25', {'weight': 0.45679012345679015}), ('12', '29', {'weight': 0.3333333333333335}), ('12', '51', {'weight': 0.3333333333333335}), ('12', '70', {'weight': 0.5802469135802468}), ('12', '98', {'weight': 0.2098765432098766}), ('27', '13', {'weight': 0.45679012345679015}), ('27', '35', {'weight': 0.5802469135802468}), ('27', '39', {'weight': 0.5802469135802468}), ('27', '43', {'weight': 0.0864197530864198}), ('27', '44', {'weight': 0.5802469135802468}), ('27', '62', {'weight': 0.5802469135802468}), ('27', '86', {'weight': 0.3333333333333335}), ('41', '8', {'weight': 0.8518518518518519}), ('41', '52', {'weight': 0.7160493827160495}), ('41', '53', {'weight': 0.5802469135802468}), ('41', '82', {'weight': 0.7160493827160495}), ('41', '99', {'weight': 0.7160493827160495}), ('41', '103', {'weight': 0.5802469135802468}), ('41', '108', {'weight': 0.5802469135802468}), ('53', '54', {'weight': 0.7037037037037037}), ('53', '85', {'weight': 0.5802469135802468}), ('53', '99', {'weight': 0.5802469135802468}), ('53', '103', {'weight': 0.45679012345679015}), ('53', '113', {'weight': 0.45679012345679015}), ('59', '18', {'weight': 0.5802469135802468}), ('59', '37', {'weight': 0.2098765432098766}), ('59', '60', {'weight': 0.2098765432098766}), ('59', '64', {'weight': 0.3333333333333335}), ('59', '89', {'weight': 0.7037037037037037}), ('59', '98', {'weight': 0.2098765432098766}), ('59', '115', {'weight': 0.5802469135802468}), ('82', '11', {'weight': 0.5802469135802468}), ('82', '83', {'weight': 0.7160493827160495}), ('82', '84', {'weight': 0.7160493827160495}), ('82', '85', {'weight': 0.7160493827160495}), ('82', '99', {'weight': 0.7160493827160495}), ('82', '108', {'weight': 0.5802469135802468}), ('85', '11', {'weight': 0.5802469135802468}), ('85', '25', {'weight': 0.5802469135802468}), ('85', '50', {'weight': 0.7160493827160495}), ('85', '84', {'weight': 0.7160493827160495}), ('85', '99', {'weight': 0.7160493827160495}), ('85', '108', {'weight': 0.5802469135802468}), ('103', '11', {'weight': 0.45679012345679015}), ('103', '99', {'weight': 0.5802469135802468}), ('103', '108', {'weight': 0.45679012345679015}), ('29', '25', {'weight': 0.3333333333333335}), ('29', '39', {'weight': 0.4444444444444444}), ('29', '51', {'weight': 0.22222222222222232}), ('29', '70', {'weight': 0.4444444444444444}), ('29', '79', {'weight': 0.4444444444444444}), ('29', '114', {'weight': 0.3333333333333335}), ('70', '25', {'weight': 0.5802469135802468}), ('70', '51', {'weight': 0.4444444444444444}), ('70', '71', {'weight': 0.7160493827160495}), ('70', '84', {'weight': 0.7160493827160495}), ('70', '89', {'weight': 0.8518518518518519}), ('70', '92', {'weight': 0.7160493827160495}), ('70', '96', {'weight': 0.5802469135802468}), ('109', '8', {'weight': 0.7037037037037037}), ('109', '22', {'weight': 0.5802469135802468}), ('109', '23', {'weight': 0.5802469135802468}), ('109', '52', {'weight': 0.5802469135802468}), ('109', '69', {'weight': 0.5802469135802468}), ('109', '78', {'weight': 0.5802469135802468}), ('109', '79', {'weight': 0.5802469135802468}), ('109', '112', {'weight': 0.5802469135802468}), ('11', '99', {'weight': 0.5802469135802468}), ('11', '108', {'weight': 0.45679012345679015}), ('98', '60', {'weight': 0.012345679012345734}), ('98', '64', {'weight': 0.11111111111111116}), ('98', '87', {'weight': 0.308641975308642}), ('98', '99', {'weight': 0.308641975308642}), ('98', '113', {'weight': 0.2098765432098766}), ('99', '49', {'weight': 0.7160493827160495}), ('99', '78', {'weight': 0.7160493827160495}), ('99', '108', {'weight': 0.5802469135802468}), ('108', '76', {'weight': 0.45679012345679015}), ('108', '89', {'weight': 0.7037037037037037}), ('8', '9', {'weight': 0.8518518518518519}), ('8', '22', {'weight': 0.8518518518518519}), ('8', '23', {'weight': 0.8518518518518519}), ('8', '69', {'weight': 0.8518518518518519}), ('8', '74', {'weight': 0.8518518518518519}), ('8', '78', {'weight': 0.8518518518518519}), ('8', '79', {'weight': 0.8518518518518519}), ('8', '83', {'weight': 0.8518518518518519}), ('8', '112', {'weight': 0.8518518518518519}), ('33', '22', {'weight': 0.7160493827160495}), ('33', '32', {'weight': 0.7160493827160495}), ('33', '40', {'weight': 0.7160493827160495}), ('33', '50', {'weight': 0.7160493827160495}), ('40', '39', {'weight': 0.7160493827160495}), ('40', '55', {'weight': 0.5802469135802468}), ('40', '83', {'weight': 0.7160493827160495}), ('56', '20', {'weight': 0.7160493827160495}), ('56', '30', {'weight': 0.7160493827160495}), ('56', '31', {'weight': 0.7160493827160495}), ('56', '32', {'weight': 0.7160493827160495}), ('56', '55', {'weight': 0.5802469135802468}), ('56', '80', {'weight': 0.7160493827160495}), ('56', '95', {'weight': 0.5802469135802468}), ('86', '13', {'weight': 0.3333333333333335}), ('86', '32', {'weight': 0.4444444444444444}), ('86', '39', {'weight': 0.4444444444444444}), ('86', '44', {'weight': 0.4444444444444444}), ('86', '81', {'weight': 0.4444444444444444}), ('86', '100', {'weight': 0.3333333333333335}), ('9', '22', {'weight': 0.7160493827160495}), ('9', '23', {'weight': 0.7160493827160495}), ('9', '52', {'weight': 0.7160493827160495}), ('9', '69', {'weight': 0.7160493827160495}), ('9', '78', {'weight': 0.7160493827160495}), ('9', '79', {'weight': 0.7160493827160495}), ('9', '112', {'weight': 0.7160493827160495}), ('22', '21', {'weight': 0.7160493827160495}), ('22', '23', {'weight': 0.7160493827160495}), ('22', '47', {'weight': 0.7160493827160495}), ('22', '52', {'weight': 0.7160493827160495}), ('22', '69', {'weight': 0.7160493827160495}), ('22', '78', {'weight': 0.7160493827160495}), ('22', '112', {'weight': 0.7160493827160495}), ('23', '52', {'weight': 0.7160493827160495}), ('23', '69', {'weight': 0.7160493827160495}), ('23', '78', {'weight': 0.7160493827160495}), ('23', '79', {'weight': 0.7160493827160495}), ('69', '51', {'weight': 0.4444444444444444}), ('69', '52', {'weight': 0.7160493827160495}), ('69', '68', {'weight': 0.8518518518518519}), ('69', '79', {'weight': 0.7160493827160495}), ('69', '112', {'weight': 0.7160493827160495}), ('74', '47', {'weight': 0.7160493827160495}), ('74', '50', {'weight': 0.7160493827160495}), ('74', '54', {'weight': 0.8518518518518519}), ('74', '68', {'weight': 0.8518518518518519}), ('74', '78', {'weight': 0.7160493827160495}), ('74', '84', {'weight': 0.7160493827160495}), ('74', '89', {'weight': 0.8518518518518519}), ('74', '111', {'weight': 0.7160493827160495}), ('74', '115', {'weight': 0.7160493827160495}), ('78', '52', {'weight': 0.7160493827160495}), ('78', '79', {'weight': 0.7160493827160495}), ('78', '83', {'weight': 0.7160493827160495}), ('78', '112', {'weight': 0.7160493827160495}), ('79', '51', {'weight': 0.4444444444444444}), ('79', '52', {'weight': 0.7160493827160495}), ('79', '112', {'weight': 0.7160493827160495}), ('83', '30', {'weight': 0.7160493827160495}), ('83', '31', {'weight': 0.7160493827160495}), ('83', '81', {'weight': 0.7160493827160495}), ('83', '95', {'weight': 0.5802469135802468}), ('112', '47', {'weight': 0.7160493827160495}), ('112', '52', {'weight': 0.7160493827160495}), ('52', '51', {'weight': 0.4444444444444444}), ('25', '51', {'weight': 0.3333333333333335}), ('25', '67', {'weight': 0.5802469135802468}), ('25', '88', {'weight': 0.5802469135802468}), ('25', '111', {'weight': 0.5802469135802468}), ('51', '31', {'weight': 0.4444444444444444}), ('13', '18', {'weight': 0.5802469135802468}), ('13', '19', {'weight': 0.5802469135802468}), ('13', '35', {'weight': 0.5802469135802468}), ('13', '37', {'weight': 0.2098765432098766}), ('13', '39', {'weight': 0.5802469135802468}), ('13', '44', {'weight': 0.5802469135802468}), ('18', '21', {'weight': 0.7160493827160495}), ('18', '63', {'weight': 0.7160493827160495}), ('18', '88', {'weight': 0.7160493827160495}), ('18', '96', {'weight': 0.5802469135802468}), ('18', '97', {'weight': 0.5802469135802468}), ('18', '114', {'weight': 0.5802469135802468}), ('19', '20', {'weight': 0.7160493827160495}), ('19', '32', {'weight': 0.7160493827160495}), ('19', '35', {'weight': 0.7160493827160495}), ('19', '37', {'weight': 0.308641975308642}), ('19', '39', {'weight': 0.7160493827160495}), ('19', '43', {'weight': 0.1728395061728396}), ('19', '55', {'weight': 0.5802469135802468}), ('19', '62', {'weight': 0.7160493827160495}), ('19', '72', {'weight': 0.5802469135802468}), ('19', '100', {'weight': 0.5802469135802468}), ('35', '32', {'weight': 0.7160493827160495}), ('35', '43', {'weight': 0.1728395061728396}), ('35', '55', {'weight': 0.5802469135802468}), ('35', '62', {'weight': 0.7160493827160495}), ('35', '72', {'weight': 0.5802469135802468}), ('35', '95', {'weight': 0.5802469135802468}), ('35', '100', {'weight': 0.5802469135802468}), ('37', '20', {'weight': 0.308641975308642}), ('37', '21', {'weight': 0.308641975308642}), ('37', '44', {'weight': 0.308641975308642}), ('37', '60', {'weight': 0.012345679012345734}), ('39', '44', {'weight': 0.7160493827160495}), ('39', '55', {'weight': 0.5802469135802468}), ('39', '72', {'weight': 0.5802469135802468}), ('44', '32', {'weight': 0.7160493827160495}), ('44', '43', {'weight': 0.1728395061728396}), ('44', '62', {'weight': 0.7160493827160495}), ('44', '71', {'weight': 0.7160493827160495}), ('44', '80', {'weight': 0.7160493827160495}), ('111', '47', {'weight': 0.7160493827160495}), ('111', '50', {'weight': 0.7160493827160495}), ('111', '54', {'weight': 0.8518518518518519}), ('111', '68', {'weight': 0.8518518518518519}), ('111', '81', {'weight': 0.7160493827160495}), ('111', '84', {'weight': 0.7160493827160495}), ('111', '89', {'weight': 0.8518518518518519}), ('111', '115', {'weight': 0.7160493827160495}), ('55', '32', {'weight': 0.5802469135802468}), ('55', '62', {'weight': 0.5802469135802468}), ('55', '72', {'weight': 0.45679012345679015}), ('55', '100', {'weight': 0.45679012345679015}), ('72', '32', {'weight': 0.5802469135802468}), ('72', '62', {'weight': 0.5802469135802468}), ('72', '100', {'weight': 0.45679012345679015}), ('100', '32', {'weight': 0.5802469135802468}), ('100', '62', {'weight': 0.5802469135802468}), ('93', '49', {'weight': 0.7160493827160495}), ('93', '62', {'weight': 0.7160493827160495}), ('93', '67', {'weight': 0.7160493827160495}), ('93', '76', {'weight': 0.5802469135802468}), ('93', '87', {'weight': 0.7160493827160495}), ('93', '92', {'weight': 0.7160493827160495}), ('93', '113', {'weight': 0.5802469135802468}), ('115', '47', {'weight': 0.7160493827160495}), ('115', '50', {'weight': 0.7160493827160495}), ('115', '54', {'weight': 0.8518518518518519}), ('115', '68', {'weight': 0.8518518518518519}), ('115', '84', {'weight': 0.7160493827160495}), ('115', '89', {'weight': 0.8518518518518519}), ('68', '47', {'weight': 0.8518518518518519}), ('68', '50', {'weight': 0.8518518518518519}), ('68', '54', {'weight': 1.0}), ('68', '84', {'weight': 0.8518518518518519}), ('68', '89', {'weight': 1.0}), ('21', '63', {'weight': 0.7160493827160495}), ('21', '71', {'weight': 0.7160493827160495}), ('21', '76', {'weight': 0.5802469135802468}), ('21', '77', {'weight': 0.7160493827160495}), ('21', '88', {'weight': 0.7160493827160495}), ('21', '97', {'weight': 0.5802469135802468}), ('21', '114', {'weight': 0.5802469135802468}), ('63', '57', {'weight': 0.5802469135802468}), ('63', '62', {'weight': 0.7160493827160495}), ('63', '71', {'weight': 0.7160493827160495}), ('63', '77', {'weight': 0.7160493827160495}), ('63', '88', {'weight': 0.7160493827160495}), ('63', '96', {'weight': 0.5802469135802468}), ('88', '57', {'weight': 0.5802469135802468}), ('88', '87', {'weight': 0.7160493827160495}), ('88', '96', {'weight': 0.5802469135802468}), ('88', '97', {'weight': 0.5802469135802468}), ('88', '114', {'weight': 0.5802469135802468}), ('96', '57', {'weight': 0.45679012345679015}), ('96', '71', {'weight': 0.5802469135802468}), ('96', '77', {'weight': 0.5802469135802468}), ('96', '114', {'weight': 0.45679012345679015}), ('97', '49', {'weight': 0.5802469135802468}), ('97', '57', {'weight': 0.45679012345679015}), ('97', '77', {'weight': 0.5802469135802468}), ('97', '113', {'weight': 0.45679012345679015}), ('97', '114', {'weight': 0.45679012345679015}), ('114', '60', {'weight': 0.2098765432098766}), ('114', '71', {'weight': 0.5802469135802468}), ('114', '77', {'weight': 0.5802469135802468}), ('20', '30', {'weight': 0.7160493827160495}), ('20', '31', {'weight': 0.7160493827160495}), ('20', '45', {'weight': 0.7160493827160495}), ('20', '80', {'weight': 0.7160493827160495}), ('20', '95', {'weight': 0.5802469135802468}), ('32', '62', {'weight': 0.7160493827160495}), ('32', '80', {'weight': 0.7160493827160495}), ('43', '30', {'weight': 0.1728395061728396}), ('43', '64', {'weight': 1e-16}), ('30', '31', {'weight': 0.7160493827160495}), ('30', '80', {'weight': 0.7160493827160495}), ('30', '81', {'weight': 0.7160493827160495}), ('30', '92', {'weight': 0.7160493827160495}), ('30', '95', {'weight': 0.5802469135802468}), ('31', '45', {'weight': 0.7160493827160495}), ('31', '80', {'weight': 0.7160493827160495}), ('31', '95', {'weight': 0.5802469135802468}), ('45', '49', {'weight': 0.7160493827160495}), ('45', '67', {'weight': 0.7160493827160495}), ('45', '76', {'weight': 0.5802469135802468}), ('45', '87', {'weight': 0.7160493827160495}), ('45', '92', {'weight': 0.7160493827160495}), ('45', '113', {'weight': 0.5802469135802468}), ('80', '81', {'weight': 0.7160493827160495}), ('80', '95', {'weight': 0.5802469135802468}), ('95', '81', {'weight': 0.5802469135802468}), ('71', '57', {'weight': 0.5802469135802468}), ('71', '77', {'weight': 0.7160493827160495}), ('76', '49', {'weight': 0.5802469135802468}), ('76', '67', {'weight': 0.5802469135802468}), ('76', '77', {'weight': 0.5802469135802468}), ('76', '87', {'weight': 0.5802469135802468}), ('76', '113', {'weight': 0.45679012345679015}), ('77', '57', {'weight': 0.5802469135802468}), ('77', '60', {'weight': 0.308641975308642}), ('77', '67', {'weight': 0.7160493827160495}), ('47', '50', {'weight': 0.7160493827160495}), ('47', '54', {'weight': 0.8518518518518519}), ('47', '84', {'weight': 0.7160493827160495}), ('47', '89', {'weight': 0.8518518518518519}), ('67', '49', {'weight': 0.7160493827160495}), ('67', '60', {'weight': 0.308641975308642}), ('67', '87', {'weight': 0.7160493827160495}), ('67', '92', {'weight': 0.7160493827160495}), ('67', '113', {'weight': 0.5802469135802468}), ('54', '49', {'weight': 0.8518518518518519}), ('54', '50', {'weight': 0.8518518518518519}), ('54', '84', {'weight': 0.8518518518518519}), ('54', '87', {'weight': 0.8518518518518519}), ('54', '89', {'weight': 1.0}), ('64', '60', {'weight': 0.11111111111111116}), ('64', '113', {'weight': 0.3333333333333335}), ('81', '87', {'weight': 0.7160493827160495}), ('81', '92', {'weight': 0.7160493827160495}), ('92', '49', {'weight': 0.7160493827160495}), ('92', '87', {'weight': 0.7160493827160495}), ('92', '113', {'weight': 0.5802469135802468}), ('50', '49', {'weight': 0.7160493827160495}), ('50', '84', {'weight': 0.7160493827160495}), ('50', '89', {'weight': 0.8518518518518519}), ('49', '87', {'weight': 0.7160493827160495}), ('84', '89', {'weight': 0.8518518518518519})]\n",
      "Preferential Attachment Weighted Graph\n",
      "[('2', '1', {'weight': 0.02907915993537965}), ('2', '4', {'weight': 0.13893376413570277}), ('2', '6', {'weight': 0.035541195476575124}), ('2', '7', {'weight': 0.06138933764135703}), ('1', '3', {'weight': 0.02907915993537965}), ('1', '4', {'weight': 0.21324717285945075}), ('1', '5', {'weight': 0.06785137318255252}), ('1', '6', {'weight': 0.05815831987075929}), ('1', '7', {'weight': 0.09693053311793215}), ('3', '5', {'weight': 0.0420032310177706}), ('3', '6', {'weight': 0.035541195476575124}), ('3', '8', {'weight': 0.0420032310177706}), ('4', '6', {'weight': 0.25040387722132473}), ('4', '9', {'weight': 0.9192245557350566}), ('4', '10', {'weight': 0.5848142164781907}), ('4', '11', {'weight': 0.5476575121163166}), ('4', '12', {'weight': 0.6591276252019386}), ('4', '13', {'weight': 0.9192245557350566}), ('4', '14', {'weight': 0.4733441033925687}), ('4', '15', {'weight': 0.3247172859450727}), ('4', '16', {'weight': 0.17609046849757676}), ('4', '17', {'weight': 0.10177705977382875}), ('4', '18', {'weight': 0.17609046849757676}), ('4', '19', {'weight': 0.10177705977382875}), ('4', '20', {'weight': 0.17609046849757676}), ('4', '21', {'weight': 0.3618739903069467}), ('4', '22', {'weight': 0.17609046849757676}), ('4', '23', {'weight': 0.25040387722132473}), ('4', '24', {'weight': 0.3247172859450727}), ('4', '25', {'weight': 0.3247172859450727}), ('4', '26', {'weight': 0.17609046849757676}), ('4', '27', {'weight': 0.3247172859450727}), ('4', '28', {'weight': 0.3247172859450727}), ('5', '6', {'weight': 0.08077544426494346}), ('5', '7', {'weight': 0.1324717285945073}), ('5', '29', {'weight': 0.02907915993537965}), ('5', '30', {'weight': 0.0420032310177706}), ('5', '31', {'weight': 0.24878836833602586}), ('5', '32', {'weight': 0.1324717285945073}), ('6', '7', {'weight': 0.11470113085621972}), ('6', '8', {'weight': 0.08077544426494346}), ('7', '8', {'weight': 0.1324717285945073}), ('7', '11', {'weight': 0.25686591276252024}), ('7', '13', {'weight': 0.4345718901453958}), ('7', '19', {'weight': 0.04361873990306947}), ('7', '23', {'weight': 0.11470113085621972}), ('7', '26', {'weight': 0.07915993537964458}), ('7', '30', {'weight': 0.06138933764135703}), ('8', '15', {'weight': 0.10662358642972536}), ('8', '31', {'weight': 0.24878836833602586}), ('8', '59', {'weight': 0.1583198707592892}), ('8', '72', {'weight': 0.1841680129240711}), ('8', '86', {'weight': 0.05492730210016155}), ('9', '10', {'weight': 0.6365105008077544}), ('9', '11', {'weight': 0.5961227786752827}), ('9', '12', {'weight': 0.7172859450726979}), ('9', '13', {'weight': 1.0000000000000002}), ('9', '14', {'weight': 0.5153473344103392}), ('9', '15', {'weight': 0.3537964458804524}), ('9', '21', {'weight': 0.3941841680129241}), ('9', '22', {'weight': 0.19224555735056545}), ('9', '23', {'weight': 0.2730210016155089}), ('9', '24', {'weight': 0.3537964458804524}), ('9', '25', {'weight': 0.3537964458804524}), ('9', '27', {'weight': 0.3537964458804524}), ('9', '28', {'weight': 0.3537964458804524}), ('9', '33', {'weight': 0.19224555735056545}), ('9', '34', {'weight': 0.3537964458804524}), ('9', '36', {'weight': 0.3941841680129241}), ('9', '38', {'weight': 0.2730210016155089}), ('9', '41', {'weight': 0.7172859450726979}), ('9', '42', {'weight': 0.3134087237479806}), ('9', '43', {'weight': 0.23263327948303716}), ('9', '44', {'weight': 0.19224555735056545}), ('9', '45', {'weight': 0.19224555735056545}), ('9', '46', {'weight': 0.23263327948303716}), ('9', '47', {'weight': 0.1518578352180937}), ('10', '12', {'weight': 0.4555735056542811}), ('10', '13', {'weight': 0.6365105008077544}), ('10', '15', {'weight': 0.22294022617124395}), ('10', '21', {'weight': 0.24878836833602586}), ('10', '25', {'weight': 0.22294022617124395}), ('10', '28', {'weight': 0.22294022617124395}), ('10', '42', {'weight': 0.19709208400646205}), ('10', '46', {'weight': 0.14539579967689825}), ('10', '48', {'weight': 0.4555735056542811}), ('10', '49', {'weight': 0.09369951534733442}), ('10', '50', {'weight': 0.19709208400646205}), ('10', '51', {'weight': 0.06785137318255252}), ('10', '52', {'weight': 0.14539579967689825}), ('10', '53', {'weight': 0.11954765751211632}), ('11', '12', {'weight': 0.4264943457189015}), ('11', '13', {'weight': 0.5961227786752827}), ('11', '16', {'weight': 0.11147011308562196}), ('11', '17', {'weight': 0.06300484652665589}), ('11', '20', {'weight': 0.11147011308562196}), ('11', '22', {'weight': 0.11147011308562196}), ('11', '34', {'weight': 0.20840064620355414}), ('11', '36', {'weight': 0.23263327948303716}), ('11', '38', {'weight': 0.15993537964458807}), ('11', '39', {'weight': 0.15993537964458807}), ('11', '40', {'weight': 0.1841680129240711}), ('11', '56', {'weight': 0.08723747980613894}), ('12', '13', {'weight': 0.7172859450726979}), ('12', '14', {'weight': 0.3683360258481422}), ('12', '15', {'weight': 0.2520193861066236}), ('12', '18', {'weight': 0.13570274636510501}), ('12', '21', {'weight': 0.28109854604200324}), ('12', '22', {'weight': 0.13570274636510501}), ('12', '23', {'weight': 0.19386106623586433}), ('12', '27', {'weight': 0.2520193861066236}), ('12', '28', {'weight': 0.2520193861066236}), ('12', '30', {'weight': 0.10662358642972536}), ('12', '46', {'weight': 0.16478190630048467}), ('12', '48', {'weight': 0.5137318255250404}), ('12', '51', {'weight': 0.07754442649434573}), ('12', '57', {'weight': 0.10662358642972536}), ('13', '14', {'weight': 0.5153473344103392}), ('13', '15', {'weight': 0.3537964458804524}), ('13', '16', {'weight': 0.19224555735056545}), ('13', '18', {'weight': 0.19224555735056545}), ('13', '19', {'weight': 0.11147011308562196}), ('13', '24', {'weight': 0.3537964458804524}), ('13', '25', {'weight': 0.3537964458804524}), ('13', '33', {'weight': 0.19224555735056545}), ('13', '34', {'weight': 0.3537964458804524}), ('13', '37', {'weight': 0.19224555735056545}), ('13', '39', {'weight': 0.2730210016155089}), ('13', '40', {'weight': 0.3134087237479806}), ('13', '41', {'weight': 0.7172859450726979}), ('13', '42', {'weight': 0.3134087237479806}), ('13', '45', {'weight': 0.19224555735056545}), ('13', '47', {'weight': 0.1518578352180937}), ('13', '48', {'weight': 0.7172859450726979}), ('13', '55', {'weight': 0.23263327948303716}), ('13', '56', {'weight': 0.1518578352180937}), ('14', '18', {'weight': 0.09531502423263327}), ('14', '30', {'weight': 0.07431340872374798}), ('14', '33', {'weight': 0.09531502423263327}), ('14', '41', {'weight': 0.3683360258481422}), ('14', '43', {'weight': 0.1163166397415186}), ('14', '44', {'weight': 0.09531502423263327}), ('14', '45', {'weight': 0.09531502423263327}), ('14', '48', {'weight': 0.3683360258481422}), ('14', '58', {'weight': 0.09531502423263327}), ('15', '26', {'weight': 0.06300484652665589}), ('15', '27', {'weight': 0.1211631663974152}), ('15', '59', {'weight': 0.17932148626817448}), ('16', '17', {'weight': 0.014539579967689821}), ('16', '56', {'weight': 0.022617124394184167}), ('18', '48', {'weight': 0.13570274636510501}), ('20', '56', {'weight': 0.022617124394184167}), ('20', '57', {'weight': 0.022617124394184167}), ('20', '78', {'weight': 0.046849757673667204}), ('21', '25', {'weight': 0.13570274636510501}), ('21', '41', {'weight': 0.28109854604200324}), ('21', '49', {'weight': 0.05492730210016155}), ('21', '50', {'weight': 0.11954765751211632}), ('21', '54', {'weight': 0.07108239095315025}), ('21', '58', {'weight': 0.07108239095315025}), ('22', '24', {'weight': 0.06300484652665589}), ('23', '26', {'weight': 0.046849757673667204}), ('23', '41', {'weight': 0.19386106623586433}), ('23', '53', {'weight': 0.046849757673667204}), ('24', '28', {'weight': 0.1211631663974152}), ('24', '33', {'weight': 0.06300484652665589}), ('24', '34', {'weight': 0.1211631663974152}), ('24', '48', {'weight': 0.2520193861066236}), ('24', '55', {'weight': 0.07754442649434573}), ('25', '27', {'weight': 0.1211631663974152}), ('25', '41', {'weight': 0.2520193861066236}), ('25', '48', {'weight': 0.2520193861066236}), ('25', '54', {'weight': 0.06300484652665589}), ('26', '41', {'weight': 0.13570274636510501}), ('27', '41', {'weight': 0.2520193861066236}), ('27', '46', {'weight': 0.07754442649434573}), ('27', '48', {'weight': 0.2520193861066236}), ('27', '54', {'weight': 0.06300484652665589}), ('28', '41', {'weight': 0.2520193861066236}), ('28', '42', {'weight': 0.10662358642972536}), ('28', '48', {'weight': 0.2520193861066236}), ('28', '55', {'weight': 0.07754442649434573}), ('29', '67', {'weight': 0.09208400646203554}), ('29', '73', {'weight': 0.09693053311793215}), ('31', '32', {'weight': 0.345718901453958}), ('31', '59', {'weight': 0.41033925686591277}), ('31', '67', {'weight': 0.6688206785137318}), ('31', '68', {'weight': 0.1841680129240711}), ('31', '71', {'weight': 0.21647819063004847}), ('31', '74', {'weight': 0.6688206785137318}), ('31', '75', {'weight': 0.5072697899838449}), ('31', '76', {'weight': 0.5072697899838449}), ('31', '77', {'weight': 0.41033925686591277}), ('31', '78', {'weight': 0.21647819063004847}), ('31', '80', {'weight': 0.24878836833602586}), ('31', '81', {'weight': 0.11954765751211632}), ('31', '83', {'weight': 0.28109854604200324}), ('31', '84', {'weight': 0.24878836833602586}), ('31', '85', {'weight': 0.7334410339256866}), ('31', '87', {'weight': 0.44264943457189015}), ('31', '94', {'weight': 0.21647819063004847}), ('31', '100', {'weight': 0.3780290791599354}), ('32', '50', {'weight': 0.1324717285945073}), ('32', '74', {'weight': 0.3634894991922456}), ('32', '75', {'weight': 0.2746365105008078}), ('32', '76', {'weight': 0.2746365105008078}), ('32', '77', {'weight': 0.2213247172859451}), ('32', '78', {'weight': 0.11470113085621972}), ('32', '79', {'weight': 0.07915993537964458}), ('32', '83', {'weight': 0.15024232633279486}), ('32', '92', {'weight': 0.1324717285945073}), ('59', '50', {'weight': 0.1583198707592892}), ('59', '51', {'weight': 0.053311793214862686}), ('59', '52', {'weight': 0.1163166397415186}), ('59', '53', {'weight': 0.09531502423263327}), ('59', '65', {'weight': 0.17932148626817448}), ('59', '66', {'weight': 0.1373182552504039}), ('59', '69', {'weight': 0.07431340872374798}), ('59', '70', {'weight': 0.09531502423263327}), ('59', '78', {'weight': 0.1373182552504039}), ('59', '86', {'weight': 0.09531502423263327}), ('72', '69', {'weight': 0.08723747980613894}), ('72', '71', {'weight': 0.15993537964458807}), ('72', '73', {'weight': 0.5234248788368336}), ('72', '74', {'weight': 0.4991922455573506}), ('72', '75', {'weight': 0.3780290791599354}), ('72', '76', {'weight': 0.3780290791599354}), ('72', '77', {'weight': 0.3053311793214863}), ('72', '78', {'weight': 0.15993537964458807}), ('72', '79', {'weight': 0.11147011308562196}), ('72', '80', {'weight': 0.1841680129240711}), ('72', '81', {'weight': 0.08723747980613894}), ('72', '82', {'weight': 0.08723747980613894}), ('72', '83', {'weight': 0.20840064620355414}), ('72', '84', {'weight': 0.1841680129240711}), ('86', '66', {'weight': 0.046849757673667204}), ('86', '67', {'weight': 0.15993537964458807}), ('86', '73', {'weight': 0.1680129240710824}), ('33', '34', {'weight': 0.06300484652665589}), ('34', '38', {'weight': 0.09208400646203554}), ('34', '39', {'weight': 0.09208400646203554}), ('34', '40', {'weight': 0.10662358642972536}), ('34', '48', {'weight': 0.2520193861066236}), ('36', '35', {'weight': 0.07108239095315025}), ('36', '37', {'weight': 0.07108239095315025}), ('36', '38', {'weight': 0.10339256865912763}), ('36', '39', {'weight': 0.10339256865912763}), ('36', '40', {'weight': 0.11954765751211632}), ('36', '41', {'weight': 0.28109854604200324}), ('36', '44', {'weight': 0.07108239095315025}), ('36', '45', {'weight': 0.07108239095315025}), ('38', '35', {'weight': 0.046849757673667204}), ('38', '39', {'weight': 0.06946688206785137}), ('38', '48', {'weight': 0.19386106623586433}), ('41', '40', {'weight': 0.22294022617124395}), ('41', '42', {'weight': 0.22294022617124395}), ('41', '43', {'weight': 0.16478190630048467}), ('41', '45', {'weight': 0.13570274636510501}), ('41', '46', {'weight': 0.16478190630048467}), ('41', '48', {'weight': 0.5137318255250404}), ('41', '54', {'weight': 0.13570274636510501}), ('41', '55', {'weight': 0.16478190630048467}), ('42', '37', {'weight': 0.05492730210016155}), ('42', '48', {'weight': 0.22294022617124395}), ('42', '55', {'weight': 0.06785137318255252}), ('43', '40', {'weight': 0.06785137318255252}), ('43', '44', {'weight': 0.03877221324717286}), ('43', '48', {'weight': 0.16478190630048467}), ('44', '57', {'weight': 0.022617124394184167}), ('46', '48', {'weight': 0.16478190630048467}), ('47', '48', {'weight': 0.10662358642972536}), ('47', '103', {'weight': 0.01615508885298869}), ('48', '37', {'weight': 0.13570274636510501}), ('48', '55', {'weight': 0.16478190630048467}), ('49', '50', {'weight': 0.0420032310177706}), ('49', '58', {'weight': 0.022617124394184167}), ('50', '58', {'weight': 0.05492730210016155}), ('50', '73', {'weight': 0.2746365105008078}), ('50', '77', {'weight': 0.1583198707592892}), ('52', '53', {'weight': 0.03877221324717286}), ('52', '65', {'weight': 0.07754442649434573}), ('52', '66', {'weight': 0.05815831987075929}), ('52', '70', {'weight': 0.03877221324717286}), ('53', '65', {'weight': 0.06300484652665589}), ('39', '35', {'weight': 0.046849757673667204}), ('39', '40', {'weight': 0.08077544426494346}), ('40', '35', {'weight': 0.05492730210016155}), ('57', '58', {'weight': 0.022617124394184167}), ('37', '35', {'weight': 0.030694668820678513}), ('78', '76', {'weight': 0.17124394184168015}), ('78', '77', {'weight': 0.1373182552504039}), ('54', '77', {'weight': 0.09531502423263327}), ('67', '65', {'weight': 0.2956381260096931}), ('67', '68', {'weight': 0.19386106623586433}), ('67', '71', {'weight': 0.22778675282714056}), ('67', '73', {'weight': 0.7366720516962844}), ('67', '74', {'weight': 0.7027463651050081}), ('67', '75', {'weight': 0.5331179321486268}), ('67', '77', {'weight': 0.43134087237479807}), ('67', '81', {'weight': 0.1260096930533118}), ('67', '85', {'weight': 0.7705977382875606}), ('67', '87', {'weight': 0.46526655896607433}), ('67', '89', {'weight': 0.15993537964458807}), ('67', '90', {'weight': 0.19386106623586433}), ('67', '91', {'weight': 0.15993537964458807}), ('67', '94', {'weight': 0.22778675282714056}), ('67', '97', {'weight': 0.19386106623586433}), ('67', '98', {'weight': 0.19386106623586433}), ('67', '100', {'weight': 0.39741518578352186}), ('67', '101', {'weight': 0.39741518578352186}), ('73', '71', {'weight': 0.23909531502423265}), ('73', '74', {'weight': 0.7366720516962844}), ('73', '75', {'weight': 0.5589660743134087}), ('73', '76', {'weight': 0.5589660743134087}), ('73', '77', {'weight': 0.4523424878836834}), ('73', '79', {'weight': 0.1680129240710824}), ('73', '80', {'weight': 0.2746365105008078}), ('73', '81', {'weight': 0.1324717285945073}), ('73', '83', {'weight': 0.3101777059773829}), ('73', '85', {'weight': 0.8077544426494345}), ('73', '87', {'weight': 0.4878836833602585}), ('73', '88', {'weight': 0.1680129240710824}), ('73', '89', {'weight': 0.1680129240710824}), ('73', '90', {'weight': 0.20355411954765754}), ('73', '91', {'weight': 0.1680129240710824}), ('73', '92', {'weight': 0.2746365105008078}), ('73', '93', {'weight': 0.09693053311793215}), ('68', '65', {'weight': 0.07754442649434573}), ('68', '66', {'weight': 0.05815831987075929}), ('68', '104', {'weight': 0.009693053311793216}), ('68', '105', {'weight': 0.01938610662358643}), ('71', '65', {'weight': 0.09208400646203554}), ('71', '76', {'weight': 0.17124394184168015}), ('71', '91', {'weight': 0.046849757673667204}), ('74', '75', {'weight': 0.5331179321486268}), ('74', '76', {'weight': 0.5331179321486268}), ('74', '83', {'weight': 0.2956381260096931}), ('74', '84', {'weight': 0.2617124394184168}), ('74', '85', {'weight': 0.7705977382875606}), ('74', '87', {'weight': 0.46526655896607433}), ('74', '90', {'weight': 0.19386106623586433}), ('74', '93', {'weight': 0.09208400646203554}), ('74', '94', {'weight': 0.22778675282714056}), ('74', '95', {'weight': 0.22778675282714056}), ('74', '96', {'weight': 0.1260096930533118}), ('74', '97', {'weight': 0.19386106623586433}), ('74', '98', {'weight': 0.19386106623586433}), ('74', '99', {'weight': 0.15993537964458807}), ('74', '100', {'weight': 0.39741518578352186}), ('74', '101', {'weight': 0.39741518578352186}), ('75', '76', {'weight': 0.4038772213247173}), ('75', '79', {'weight': 0.11954765751211632}), ('75', '80', {'weight': 0.19709208400646205}), ('75', '83', {'weight': 0.22294022617124395}), ('75', '85', {'weight': 0.5848142164781907}), ('75', '88', {'weight': 0.11954765751211632}), ('75', '89', {'weight': 0.11954765751211632}), ('75', '92', {'weight': 0.19709208400646205}), ('75', '99', {'weight': 0.11954765751211632}), ('75', '100', {'weight': 0.3004846526655897}), ('76', '77', {'weight': 0.3263327948303716}), ('76', '79', {'weight': 0.11954765751211632}), ('76', '80', {'weight': 0.19709208400646205}), ('76', '83', {'weight': 0.22294022617124395}), ('76', '84', {'weight': 0.19709208400646205}), ('76', '85', {'weight': 0.5848142164781907}), ('76', '92', {'weight': 0.19709208400646205}), ('76', '93', {'weight': 0.06785137318255252}), ('77', '83', {'weight': 0.17932148626817448}), ('77', '84', {'weight': 0.1583198707592892}), ('77', '85', {'weight': 0.4733441033925687}), ('77', '87', {'weight': 0.284329563812601}), ('80', '85', {'weight': 0.28756058158319875}), ('80', '92', {'weight': 0.09369951534733442}), ('80', '101', {'weight': 0.14539579967689825}), ('83', '85', {'weight': 0.3247172859450727}), ('84', '85', {'weight': 0.28756058158319875}), ('84', '88', {'weight': 0.05492730210016155}), ('84', '101', {'weight': 0.14539579967689825}), ('85', '61', {'weight': 0.21324717285945075}), ('85', '63', {'weight': 0.21324717285945075}), ('85', '82', {'weight': 0.13893376413570277}), ('85', '87', {'weight': 0.5105008077544426}), ('85', '88', {'weight': 0.17609046849757676}), ('85', '89', {'weight': 0.17609046849757676}), ('85', '90', {'weight': 0.21324717285945075}), ('85', '95', {'weight': 0.25040387722132473}), ('85', '97', {'weight': 0.21324717285945075}), ('85', '98', {'weight': 0.21324717285945075}), ('85', '100', {'weight': 0.4361873990306947}), ('85', '101', {'weight': 0.4361873990306947}), ('85', '102', {'weight': 0.17609046849757676}), ('87', '61', {'weight': 0.1260096930533118}), ('87', '62', {'weight': 0.08077544426494346}), ('87', '82', {'weight': 0.08077544426494346}), ('87', '90', {'weight': 0.1260096930533118}), ('87', '94', {'weight': 0.14862681744749598}), ('87', '98', {'weight': 0.1260096930533118}), ('87', '101', {'weight': 0.2617124394184168}), ('87', '102', {'weight': 0.10339256865912763}), ('94', '95', {'weight': 0.06946688206785137}), ('94', '100', {'weight': 0.1260096930533118}), ('94', '103', {'weight': 0.035541195476575124}), ('100', '60', {'weight': 0.08723747980613894}), ('100', '61', {'weight': 0.10662358642972536}), ('100', '63', {'weight': 0.10662358642972536}), ('100', '64', {'weight': 0.06785137318255252}), ('100', '91', {'weight': 0.08723747980613894}), ('100', '101', {'weight': 0.22294022617124395}), ('92', '91', {'weight': 0.05492730210016155}), ('92', '99', {'weight': 0.05492730210016155}), ('92', '101', {'weight': 0.14539579967689825}), ('103', '95', {'weight': 0.035541195476575124}), ('103', '96', {'weight': 0.01615508885298869}), ('65', '66', {'weight': 0.09208400646203554}), ('65', '69', {'weight': 0.048465266558966075}), ('65', '70', {'weight': 0.06300484652665589}), ('66', '69', {'weight': 0.035541195476575124}), ('66', '70', {'weight': 0.046849757673667204}), ('70', '105', {'weight': 0.014539579967689821}), ('61', '60', {'weight': 0.03877221324717286}), ('61', '63', {'weight': 0.048465266558966075}), ('61', '64', {'weight': 0.02907915993537965}), ('60', '62', {'weight': 0.022617124394184167}), ('60', '63', {'weight': 0.03877221324717286}), ('60', '64', {'weight': 0.022617124394184167}), ('62', '96', {'weight': 0.01615508885298869}), ('62', '102', {'weight': 0.022617124394184167}), ('63', '64', {'weight': 0.02907915993537965}), ('63', '101', {'weight': 0.10662358642972536}), ('96', '95', {'weight': 0.035541195476575124}), ('102', '95', {'weight': 0.046849757673667204}), ('102', '101', {'weight': 0.08723747980613894}), ('101', '97', {'weight': 0.10662358642972536}), ('101', '99', {'weight': 0.08723747980613894}), ('89', '90', {'weight': 0.03877221324717286}), ('97', '95', {'weight': 0.05815831987075929}), ('97', '98', {'weight': 0.048465266558966075}), ('98', '82', {'weight': 0.02907915993537965}), ('104', '105', {'weight': 1e-16}), ('88', '99', {'weight': 0.030694668820678513})]\n"
     ]
    }
   ],
   "source": [
    "graph_karate_preferential = preferential_sim(graph_karate)\n",
    "graph_dolphin_preferential = preferential_sim(graph_dolphin)\n",
    "graph_football_preferential = preferential_sim(graph_football)\n",
    "graph_book_preferential = preferential_sim(graph_book)"
   ]
  },
  {
   "cell_type": "code",
   "execution_count": 25,
   "metadata": {},
   "outputs": [
    {
     "name": "stderr",
     "output_type": "stream",
     "text": [
      "Computing transition probabilities: 100%|██████████| 34/34 [00:00<00:00, 6808.94it/s]\n",
      "Generating walks (CPU: 1): 100%|██████████| 100/100 [00:01<00:00, 84.11it/s]\n",
      "Computing transition probabilities: 100%|██████████| 62/62 [00:00<00:00, 5633.48it/s]\n",
      "Generating walks (CPU: 1): 100%|██████████| 100/100 [00:02<00:00, 49.24it/s]\n",
      "Computing transition probabilities: 100%|██████████| 115/115 [00:00<00:00, 2034.91it/s]\n",
      "Generating walks (CPU: 1): 100%|██████████| 100/100 [00:04<00:00, 24.89it/s]\n",
      "Computing transition probabilities: 100%|██████████| 105/105 [00:00<00:00, 2333.55it/s]\n",
      "Generating walks (CPU: 1): 100%|██████████| 100/100 [00:04<00:00, 24.70it/s]\n"
     ]
    }
   ],
   "source": [
    "# Creating data array for each dataset\n",
    "\n",
    "karate_club_data_array_preferential = prepare_data_arrays(graph_karate_preferential)\n",
    "dolphin_data_array_preferential = prepare_data_arrays(graph_dolphin_preferential)\n",
    "football_data_array_preferential = prepare_data_arrays(graph_football_preferential)\n",
    "book_data_array_preferential = prepare_data_arrays(graph_book_preferential)"
   ]
  },
  {
   "cell_type": "code",
   "execution_count": 26,
   "metadata": {},
   "outputs": [],
   "source": [
    "# Performing K-means\n",
    "\n",
    "kmeans_labels_dict_karate_preferential, kmeans_modularity_karate_preferential, kmeans_work_log_karate_preferential = cluster_all_data_arrays(karate_club_data_array_preferential, adjacency_karate)\n",
    "kmeans_labels_dict_dolphin_preferential, kmeans_modularity_dolphin_preferential, kmeans_work_log_dolphin_preferential = cluster_all_data_arrays(dolphin_data_array_preferential, adjacency_dolphin)\n",
    "kmeans_labels_dict_football_preferential, kmeans_modularity_football_preferential, kmeans_work_log_football_preferential = cluster_all_data_arrays(football_data_array_preferential, adjacency_football)\n",
    "kmeans_labels_dict_book_preferential, kmeans_modularity_book_preferential, kmeans_work_log_book_preferential = cluster_all_data_arrays(book_data_array_preferential, adjacency_book)"
   ]
  },
  {
   "cell_type": "code",
   "execution_count": 27,
   "metadata": {},
   "outputs": [
    {
     "data": {
      "text/plain": [
       "{'node_array': 0.0367357001972386,\n",
       " 'embedded_node_array_node2vec': 0.3744247205785668,\n",
       " 'embedded_node_array_hope': 0.3579881656804733,\n",
       " 'embedded_node_array_sdne': 0.11974030243261014,\n",
       " 'embedded_node_array_sdne+hope': 0.3579881656804733,\n",
       " 'embedded_node_array_sdne+node2vec': 0.37146614069690986,\n",
       " 'embedded_node_array_hope+node2vec': 0.37146614069690986,\n",
       " 'embedded_node_array_summation': 0.37146614069690986,\n",
       " 'embedded_node_array_sdne*hope': 0.15170940170940173,\n",
       " 'embedded_node_array_sdne*node2vec': 0.37146614069690986,\n",
       " 'embedded_node_array_hope*node2vec': 0.169543063773833,\n",
       " 'embedded_node_array_multiply': 0.059993425378040754,\n",
       " 'embedded_node_array_sdneMINhope': 0.3445923734385273,\n",
       " 'embedded_node_array_sdneMINnode2vec': 0.37442472057856685,\n",
       " 'embedded_node_array_hopeMINnode2vec': 0.3609467455621303,\n",
       " 'embedded_node_array_minimum': 0.35691978961209725,\n",
       " 'embedded_node_array_sdneMAXhope': 0.3579881656804733,\n",
       " 'embedded_node_array_sdneMAXnode2vec': 0.35691978961209725,\n",
       " 'embedded_node_array_hopeMAXnode2vec': 0.3579881656804733,\n",
       " 'embedded_node_array_maximum': 0.37146614069690986}"
      ]
     },
     "execution_count": 27,
     "metadata": {},
     "output_type": "execute_result"
    }
   ],
   "source": [
    "kmeans_modularity_karate_preferential"
   ]
  },
  {
   "cell_type": "code",
   "execution_count": 28,
   "metadata": {},
   "outputs": [
    {
     "data": {
      "text/plain": [
       "{'node_array': 0.27564178632174363,\n",
       " 'embedded_node_array_node2vec': 0.5267987816937623,\n",
       " 'embedded_node_array_hope': 0.5264625608164235,\n",
       " 'embedded_node_array_sdne': 0.40267394485977615,\n",
       " 'embedded_node_array_sdne+hope': 0.497745342351964,\n",
       " 'embedded_node_array_sdne+node2vec': 0.4808156322930265,\n",
       " 'embedded_node_array_hope+node2vec': 0.515426604960247,\n",
       " 'embedded_node_array_summation': 0.5264625608164235,\n",
       " 'embedded_node_array_sdne*hope': 0.4703532296981923,\n",
       " 'embedded_node_array_sdne*node2vec': 0.5263241169257546,\n",
       " 'embedded_node_array_hope*node2vec': 0.435722479332305,\n",
       " 'embedded_node_array_multiply': 0.4455717732684625,\n",
       " 'embedded_node_array_sdneMINhope': 0.45405640599659836,\n",
       " 'embedded_node_array_sdneMINnode2vec': 0.5162968237015941,\n",
       " 'embedded_node_array_hopeMINnode2vec': 0.5025117677307068,\n",
       " 'embedded_node_array_minimum': 0.5062893081761006,\n",
       " 'embedded_node_array_sdneMAXhope': 0.4257149638068114,\n",
       " 'embedded_node_array_sdneMAXnode2vec': 0.47790831058897987,\n",
       " 'embedded_node_array_hopeMAXnode2vec': 0.5181559273762906,\n",
       " 'embedded_node_array_maximum': 0.45793283493532694}"
      ]
     },
     "execution_count": 28,
     "metadata": {},
     "output_type": "execute_result"
    }
   ],
   "source": [
    "kmeans_modularity_dolphin_adamic_adar"
   ]
  },
  {
   "cell_type": "code",
   "execution_count": 29,
   "metadata": {},
   "outputs": [
    {
     "data": {
      "text/plain": [
       "{'node_array': 0.5576125225870149,\n",
       " 'embedded_node_array_node2vec': 0.6001572774763219,\n",
       " 'embedded_node_array_hope': 0.43541510875032274,\n",
       " 'embedded_node_array_sdne': 0.6044285185845559,\n",
       " 'embedded_node_array_sdne+hope': 0.4766319201424279,\n",
       " 'embedded_node_array_sdne+node2vec': 0.591721243636383,\n",
       " 'embedded_node_array_hope+node2vec': 0.4733200450276633,\n",
       " 'embedded_node_array_summation': 0.5036072693596332,\n",
       " 'embedded_node_array_sdne*hope': 0.38480422812951576,\n",
       " 'embedded_node_array_sdne*node2vec': 0.5941083484800502,\n",
       " 'embedded_node_array_hope*node2vec': 0.3387639746759312,\n",
       " 'embedded_node_array_multiply': 0.28680652209203017,\n",
       " 'embedded_node_array_sdneMINhope': 0.42191080158288735,\n",
       " 'embedded_node_array_sdneMINnode2vec': 0.5989890065439138,\n",
       " 'embedded_node_array_hopeMINnode2vec': 0.4904262991359053,\n",
       " 'embedded_node_array_minimum': 0.5010312186476267,\n",
       " 'embedded_node_array_sdneMAXhope': 0.4705603708661438,\n",
       " 'embedded_node_array_sdneMAXnode2vec': 0.5875870548129303,\n",
       " 'embedded_node_array_hopeMAXnode2vec': 0.472014721810474,\n",
       " 'embedded_node_array_maximum': 0.5366554984578291}"
      ]
     },
     "execution_count": 29,
     "metadata": {},
     "output_type": "execute_result"
    }
   ],
   "source": [
    "kmeans_modularity_football_adamic_adar"
   ]
  },
  {
   "cell_type": "code",
   "execution_count": 30,
   "metadata": {},
   "outputs": [
    {
     "data": {
      "text/plain": [
       "{'node_array': 0.11905276093808642,\n",
       " 'embedded_node_array_node2vec': 0.5248841789172207,\n",
       " 'embedded_node_array_hope': 0.45254806382114443,\n",
       " 'embedded_node_array_sdne': 0.4768306415536734,\n",
       " 'embedded_node_array_sdne+hope': 0.481309228150822,\n",
       " 'embedded_node_array_sdne+node2vec': 0.5017482427589326,\n",
       " 'embedded_node_array_hope+node2vec': 0.4647780502979726,\n",
       " 'embedded_node_array_summation': 0.47432139900555853,\n",
       " 'embedded_node_array_sdne*hope': 0.33858577444583265,\n",
       " 'embedded_node_array_sdne*node2vec': 0.5220741357767595,\n",
       " 'embedded_node_array_hope*node2vec': 0.30670091165717994,\n",
       " 'embedded_node_array_multiply': 0.2943243813020294,\n",
       " 'embedded_node_array_sdneMINhope': 0.445411119852325,\n",
       " 'embedded_node_array_sdneMINnode2vec': 0.5017482427589326,\n",
       " 'embedded_node_array_hopeMINnode2vec': 0.4617520477578788,\n",
       " 'embedded_node_array_minimum': 0.4750258379995991,\n",
       " 'embedded_node_array_sdneMAXhope': 0.4736118181210504,\n",
       " 'embedded_node_array_sdneMAXnode2vec': 0.5240074865925205,\n",
       " 'embedded_node_array_hopeMAXnode2vec': 0.4698839475321497,\n",
       " 'embedded_node_array_maximum': 0.49541343370303514}"
      ]
     },
     "execution_count": 30,
     "metadata": {},
     "output_type": "execute_result"
    }
   ],
   "source": [
    "kmeans_modularity_book_adamic_adar"
   ]
  },
  {
   "cell_type": "markdown",
   "metadata": {},
   "source": [
    "# Adasim"
   ]
  },
  {
   "cell_type": "code",
   "execution_count": 47,
   "metadata": {},
   "outputs": [],
   "source": [
    "def compute_AdaSim(graph, decay_factor=0.9, iterations=2, alpha_val=1.0, link_type='none'):\n",
    "    nodes = sorted(graph.nodes())\n",
    "    adj = nx.adjacency_matrix(graph, nodelist=nodes, weight=None)\n",
    "\n",
    "    if link_type == 'in-link':\n",
    "        degrees = adj.sum(axis=0).T\n",
    "        weights = csr_matrix(1 / np.log(degrees + np.e))\n",
    "        weight_matrix = csr_matrix(adj.multiply(weights))\n",
    "\n",
    "        adamic_scores = csr_matrix(weight_matrix.T * adj)\n",
    "        adamic_scores.setdiag(0)\n",
    "        adamic_scores = adamic_scores / np.max(adamic_scores)\n",
    "        result_matrix = csr_matrix(decay_factor * alpha_val * adamic_scores)\n",
    "        result_matrix.setdiag(1)\n",
    "\n",
    "        weight_matrix = normalize(weight_matrix, norm='l1', axis=0)\n",
    "        for itr in range(2, iterations + 1):\n",
    "            result_matrix.setdiag(0)\n",
    "            result_matrix = decay_factor * (alpha_val * adamic_scores + (1 - alpha_val) * (weight_matrix.T * result_matrix * weight_matrix))\n",
    "            result_matrix.setdiag(1)\n",
    "\n",
    "    else:\n",
    "        degrees = adj.sum(axis=1).T\n",
    "        weights = csr_matrix(1 / np.log(degrees + np.e))\n",
    "        weight_matrix = csr_matrix(adj.multiply(weights))\n",
    "\n",
    "        adamic_scores = weight_matrix * adj.T\n",
    "        adamic_scores.setdiag(0)\n",
    "        adamic_scores = adamic_scores / np.max(adamic_scores)\n",
    "        result_matrix = decay_factor * alpha_val * adamic_scores\n",
    "        result_matrix.setdiag(1)\n",
    "\n",
    "        weight_matrix = normalize(weight_matrix, norm='l1', axis=1)\n",
    "        for itr in range(2, iterations + 1):\n",
    "            result_matrix.setdiag(0)\n",
    "            result_matrix = decay_factor * (alpha_val * adamic_scores + (1 - alpha_val) * (weight_matrix * result_matrix * weight_matrix.T))\n",
    "            result_matrix.setdiag(1)\n",
    "\n",
    "    return result_matrix\n",
    "\n",
    "def ensure_finite_weights(graph):\n",
    "    for u, v, data in graph.edges(data=True):\n",
    "        if 'weight' not in data or not np.isfinite(data['weight']):\n",
    "            data['weight'] = 0.0001  # Replace non-finite weights with a small finite value\n",
    "    return graph\n",
    "\n",
    "def adasim_sim(original_graph):\n",
    "    adasim_graph = original_graph.copy()\n",
    "    adasim_result = compute_AdaSim(original_graph, decay_factor=0.9, iterations=2, alpha_val=1.0, link_type='none')\n",
    "    for i, u in enumerate(sorted(original_graph.nodes())):\n",
    "        for j, v in enumerate(sorted(original_graph.nodes())):\n",
    "            if adasim_graph.has_edge(u, v):\n",
    "                adasim_graph[u][v]['weight'] = max(adasim_result[i, j], 0.0000000000000001)\n",
    "    adasim_graph = ensure_finite_weights(adasim_graph)\n",
    "    return adasim_graph\n"
   ]
  },
  {
   "cell_type": "code",
   "execution_count": 48,
   "metadata": {},
   "outputs": [
    {
     "name": "stderr",
     "output_type": "stream",
     "text": [
      "C:\\Users\\shaya\\AppData\\Local\\Temp\\ipykernel_24532\\2192046802.py:3: FutureWarning: adjacency_matrix will return a scipy.sparse array instead of a matrix in Networkx 3.0.\n",
      "  adj = nx.adjacency_matrix(graph, nodelist=nodes, weight=None)\n"
     ]
    }
   ],
   "source": [
    "graph_karate_adasim = adasim_sim(graph_karate)\n",
    "graph_dolphin_adasim = adasim_sim(graph_dolphin)\n",
    "graph_football_adasim = adasim_sim(graph_football)\n",
    "graph_book_adasim = adasim_sim(graph_book)"
   ]
  },
  {
   "cell_type": "code",
   "execution_count": 49,
   "metadata": {},
   "outputs": [
    {
     "name": "stderr",
     "output_type": "stream",
     "text": [
      "Computing transition probabilities: 100%|██████████| 34/34 [00:00<00:00, 7483.54it/s]\n",
      "Generating walks (CPU: 1): 100%|██████████| 100/100 [00:01<00:00, 89.39it/s]\n",
      "Computing transition probabilities: 100%|██████████| 62/62 [00:00<00:00, 6201.63it/s]\n",
      "Generating walks (CPU: 1): 100%|██████████| 100/100 [00:01<00:00, 50.56it/s]\n",
      "Computing transition probabilities: 100%|██████████| 115/115 [00:00<00:00, 2091.00it/s]\n",
      "Generating walks (CPU: 1): 100%|██████████| 100/100 [00:04<00:00, 24.85it/s]\n",
      "Computing transition probabilities: 100%|██████████| 105/105 [00:00<00:00, 2333.56it/s]\n",
      "Generating walks (CPU: 1): 100%|██████████| 100/100 [00:03<00:00, 25.88it/s]\n"
     ]
    }
   ],
   "source": [
    "# Creating data array for each dataset\n",
    "\n",
    "karate_club_data_array_adasim = prepare_data_arrays(graph_karate_adasim)\n",
    "dolphin_data_array_adasim = prepare_data_arrays(graph_dolphin_adasim)\n",
    "football_data_array_adasim = prepare_data_arrays(graph_football_adasim)\n",
    "book_data_array_adasim = prepare_data_arrays(graph_book_adasim)"
   ]
  },
  {
   "cell_type": "code",
   "execution_count": 50,
   "metadata": {},
   "outputs": [],
   "source": [
    "# Performing K-means\n",
    "\n",
    "kmeans_labels_dict_karate_adasim, kmeans_modularity_karate_adasim, kmeans_work_log_karate_adasim = cluster_all_data_arrays(karate_club_data_array_adasim, adjacency_karate)\n",
    "kmeans_labels_dict_dolphin_adasim, kmeans_modularity_dolphin_adasim, kmeans_work_log_dolphin_adasim = cluster_all_data_arrays(dolphin_data_array_adasim, adjacency_dolphin)\n",
    "kmeans_labels_dict_football_adasim, kmeans_modularity_football_adasim, kmeans_work_log_football_adasim = cluster_all_data_arrays(football_data_array_adasim, adjacency_football)\n",
    "kmeans_labels_dict_book_adasim, kmeans_modularity_book_adasim, kmeans_work_log_book_adasim = cluster_all_data_arrays(book_data_array_adasim, adjacency_book)"
   ]
  },
  {
   "cell_type": "code",
   "execution_count": 51,
   "metadata": {},
   "outputs": [
    {
     "data": {
      "text/plain": [
       "{'node_array': -0.004109138724523315,\n",
       " 'embedded_node_array_node2vec': 0.387491781722551,\n",
       " 'embedded_node_array_hope': 0.37146614069690986,\n",
       " 'embedded_node_array_sdne': 0.1535174227481917,\n",
       " 'embedded_node_array_sdne+hope': 0.3312787639710717,\n",
       " 'embedded_node_array_sdne+node2vec': 0.4151051939513479,\n",
       " 'embedded_node_array_hope+node2vec': 0.37146614069690986,\n",
       " 'embedded_node_array_summation': 0.3904503616042078,\n",
       " 'embedded_node_array_sdne*hope': 0.33719592373438534,\n",
       " 'embedded_node_array_sdne*node2vec': 0.37146614069690986,\n",
       " 'embedded_node_array_hope*node2vec': 0.3303747534516765,\n",
       " 'embedded_node_array_multiply': 0.2585470085470085,\n",
       " 'embedded_node_array_sdneMINhope': 0.3312787639710717,\n",
       " 'embedded_node_array_sdneMINnode2vec': 0.4151051939513479,\n",
       " 'embedded_node_array_hopeMINnode2vec': 0.37146614069690986,\n",
       " 'embedded_node_array_minimum': 0.37146614069690986,\n",
       " 'embedded_node_array_sdneMAXhope': 0.3717948717948718,\n",
       " 'embedded_node_array_sdneMAXnode2vec': 0.4155982905982906,\n",
       " 'embedded_node_array_hopeMAXnode2vec': 0.38231426692965154,\n",
       " 'embedded_node_array_maximum': 0.38231426692965154}"
      ]
     },
     "execution_count": 51,
     "metadata": {},
     "output_type": "execute_result"
    }
   ],
   "source": [
    "kmeans_modularity_karate_adasim"
   ]
  },
  {
   "cell_type": "code",
   "execution_count": 55,
   "metadata": {},
   "outputs": [
    {
     "data": {
      "text/plain": [
       "{'node_array': 0.25246232348403946,\n",
       " 'embedded_node_array_node2vec': 0.5267987816937623,\n",
       " 'embedded_node_array_hope': 0.5264625608164235,\n",
       " 'embedded_node_array_sdne': 0.38087892092876074,\n",
       " 'embedded_node_array_sdne+hope': 0.490724259325185,\n",
       " 'embedded_node_array_sdne+node2vec': 0.5263241169257546,\n",
       " 'embedded_node_array_hope+node2vec': 0.5264625608164235,\n",
       " 'embedded_node_array_summation': 0.5267987816937623,\n",
       " 'embedded_node_array_sdne*hope': 0.49339424864522763,\n",
       " 'embedded_node_array_sdne*node2vec': 0.5267987816937623,\n",
       " 'embedded_node_array_hope*node2vec': 0.4986155610933113,\n",
       " 'embedded_node_array_multiply': 0.4961235710612714,\n",
       " 'embedded_node_array_sdneMINhope': 0.4756734306396109,\n",
       " 'embedded_node_array_sdneMINnode2vec': 0.5143388315335629,\n",
       " 'embedded_node_array_hopeMINnode2vec': 0.47383410466358133,\n",
       " 'embedded_node_array_minimum': 0.4756734306396109,\n",
       " 'embedded_node_array_sdneMAXhope': 0.4259720738894822,\n",
       " 'embedded_node_array_sdneMAXnode2vec': 0.4885882678691508,\n",
       " 'embedded_node_array_hopeMAXnode2vec': 0.525790119061746,\n",
       " 'embedded_node_array_maximum': 0.5173648194296112}"
      ]
     },
     "execution_count": 55,
     "metadata": {},
     "output_type": "execute_result"
    }
   ],
   "source": [
    "kmeans_modularity_dolphin_adasim"
   ]
  },
  {
   "cell_type": "code",
   "execution_count": 56,
   "metadata": {},
   "outputs": [
    {
     "data": {
      "text/plain": [
       "{'node_array': 0.5818960584827381,\n",
       " 'embedded_node_array_node2vec': 0.6001413102198425,\n",
       " 'embedded_node_array_hope': 0.444613579087152,\n",
       " 'embedded_node_array_sdne': 0.5991885972499061,\n",
       " 'embedded_node_array_sdne+hope': 0.5131437132919425,\n",
       " 'embedded_node_array_sdne+node2vec': 0.6028717110778165,\n",
       " 'embedded_node_array_hope+node2vec': 0.4672844220784578,\n",
       " 'embedded_node_array_summation': 0.5551522344844838,\n",
       " 'embedded_node_array_sdne*hope': 0.4032597154102654,\n",
       " 'embedded_node_array_sdne*node2vec': 0.6018231945690038,\n",
       " 'embedded_node_array_hope*node2vec': 0.3350994893139138,\n",
       " 'embedded_node_array_multiply': 0.31857071764834255,\n",
       " 'embedded_node_array_sdneMINhope': 0.5788436512857632,\n",
       " 'embedded_node_array_sdneMINnode2vec': 0.60440722890925,\n",
       " 'embedded_node_array_hopeMINnode2vec': 0.4904090012747194,\n",
       " 'embedded_node_array_minimum': 0.5879263590131172,\n",
       " 'embedded_node_array_sdneMAXhope': 0.5125675614539783,\n",
       " 'embedded_node_array_sdneMAXnode2vec': 0.5984727319177474,\n",
       " 'embedded_node_array_hopeMAXnode2vec': 0.4861856619359234,\n",
       " 'embedded_node_array_maximum': 0.5231418770574475}"
      ]
     },
     "execution_count": 56,
     "metadata": {},
     "output_type": "execute_result"
    }
   ],
   "source": [
    "kmeans_modularity_football_adasim"
   ]
  },
  {
   "cell_type": "code",
   "execution_count": 57,
   "metadata": {},
   "outputs": [
    {
     "data": {
      "text/plain": [
       "{'node_array': 0.16014932049917466,\n",
       " 'embedded_node_array_node2vec': 0.5248841789172207,\n",
       " 'embedded_node_array_hope': 0.4777561818378145,\n",
       " 'embedded_node_array_sdne': 0.4235195211871597,\n",
       " 'embedded_node_array_sdne+hope': 0.48102128228464486,\n",
       " 'embedded_node_array_sdne+node2vec': 0.5214725345920681,\n",
       " 'embedded_node_array_hope+node2vec': 0.49861168957378865,\n",
       " 'embedded_node_array_summation': 0.5054941099644694,\n",
       " 'embedded_node_array_sdne*hope': 0.4320139242393859,\n",
       " 'embedded_node_array_sdne*node2vec': 0.5154256714023477,\n",
       " 'embedded_node_array_hope*node2vec': 0.4140070238223782,\n",
       " 'embedded_node_array_multiply': 0.17988132516801103,\n",
       " 'embedded_node_array_sdneMINhope': 0.4580833089093536,\n",
       " 'embedded_node_array_sdneMINnode2vec': 0.5220741357767595,\n",
       " 'embedded_node_array_hopeMINnode2vec': 0.5054504038954963,\n",
       " 'embedded_node_array_minimum': 0.4561910932173323,\n",
       " 'embedded_node_array_sdneMAXhope': 0.4012088584488973,\n",
       " 'embedded_node_array_sdneMAXnode2vec': 0.5116360981278375,\n",
       " 'embedded_node_array_hopeMAXnode2vec': 0.5000257094523373,\n",
       " 'embedded_node_array_maximum': 0.4901275703024975}"
      ]
     },
     "execution_count": 57,
     "metadata": {},
     "output_type": "execute_result"
    }
   ],
   "source": [
    "kmeans_modularity_book_adasim"
   ]
  }
 ],
 "metadata": {
  "kernelspec": {
   "display_name": "graph_env",
   "language": "python",
   "name": "python3"
  },
  "language_info": {
   "codemirror_mode": {
    "name": "ipython",
    "version": 3
   },
   "file_extension": ".py",
   "mimetype": "text/x-python",
   "name": "python",
   "nbconvert_exporter": "python",
   "pygments_lexer": "ipython3",
   "version": "3.11.9"
  }
 },
 "nbformat": 4,
 "nbformat_minor": 2
}
